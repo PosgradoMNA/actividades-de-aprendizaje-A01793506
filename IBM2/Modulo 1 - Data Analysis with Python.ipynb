{
  "nbformat": 4,
  "nbformat_minor": 0,
  "metadata": {
    "colab": {
      "name": "assignment01.ipynb",
      "provenance": [],
      "include_colab_link": true
    },
    "kernelspec": {
      "name": "python3",
      "display_name": "Python 3"
    },
    "language_info": {
      "name": "python"
    }
  },
  "cells": [
    {
      "cell_type": "markdown",
      "metadata": {
        "id": "view-in-github",
        "colab_type": "text"
      },
      "source": [
        "<a href=\"https://colab.research.google.com/github/PosgradoMNA/actividades-de-aprendizaje-A01793506/blob/main/IBM2/Modulo%201%20-%20Data%20Analysis%20with%20Python.ipynb\" target=\"_parent\"><img src=\"https://colab.research.google.com/assets/colab-badge.svg\" alt=\"Open In Colab\"/></a>"
      ]
    },
    {
      "cell_type": "markdown",
      "source": [],
      "metadata": {
        "id": "i4FkWr8zjCJ7"
      }
    },
    {
      "cell_type": "markdown",
      "source": [
        "\n",
        "**MODULO** 1 - DATA ANALYSIS WTIH PYTHON\n",
        "\n",
        "ERICK NAJERA OLIVERO\n",
        "\n",
        "MATRICULA: A01793506\n"
      ],
      "metadata": {
        "id": "tARrE4tCjE_Y"
      }
    },
    {
      "cell_type": "code",
      "source": [
        "import pandas as pd\n"
      ],
      "metadata": {
        "id": "mxM_WppZPMFx"
      },
      "execution_count": 1,
      "outputs": []
    },
    {
      "cell_type": "markdown",
      "source": [
        "Se usa la libreria Pandas que tiene diferentes metodos para cargar archivos y trabajarlo en memoria, para este caso se lee un archivo separado por comas (csv)de internet y se guarda en un data frame."
      ],
      "metadata": {
        "id": "Sc82bfgTkyfX"
      }
    },
    {
      "cell_type": "code",
      "source": [
        "url = 'https://raw.githubusercontent.com/tec03/Datasets/main/datasets/Cartwheeldata.csv'\n",
        "df = pd.read_csv(url)\n",
        "df.head()  # imprimr las primeras lineas para validar inforamcion cargada\n",
        "\n",
        "\n",
        "#Podemos cambiar el nombre de las columnas del Df para un meor entendimiento\n",
        "headers=['ID','Edad','Genero','GrupoGen','Lentes','GrupoLen','Estatura','Envergadura','Distancia','Completo','GruoCom','Puntaje']\n",
        "df.columns = headers\n",
        "df.head()\n",
        "\n",
        "#para guardar el dataframe y no perder cambios, podemos usar la funcion df.to_csv  u otro segun el tipo de formato\n",
        "path = 'C:\\temp\\data_prueba.csv'\n",
        "df.to_csv(path)"
      ],
      "metadata": {
        "id": "f-yeLUxlj1L8"
      },
      "execution_count": 12,
      "outputs": []
    },
    {
      "cell_type": "markdown",
      "source": [
        "Dependiendo del tipo de foramto, pandas provee varias funciones para leer o guardar segun este:\n",
        "\n",
        "csv   pd.read_csv()  df.to_csv()\n",
        "\n",
        "json  pd.read_json() df.to_json()\n",
        "\n",
        "Excel pd.read_excel() df.to_excel()\n",
        "\n",
        "sql   pd.read_sql()   df.to_sql()"
      ],
      "metadata": {
        "id": "vTmwl18vnpR8"
      }
    },
    {
      "cell_type": "code",
      "source": [],
      "metadata": {
        "id": "5Tb1rhwwzRyq"
      },
      "execution_count": null,
      "outputs": []
    }
  ]
}