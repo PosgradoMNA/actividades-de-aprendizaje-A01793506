{
  "nbformat": 4,
  "nbformat_minor": 0,
  "metadata": {
    "colab": {
      "name": "assignment01.ipynb",
      "provenance": [],
      "include_colab_link": true
    },
    "kernelspec": {
      "name": "python3",
      "display_name": "Python 3"
    },
    "language_info": {
      "name": "python"
    }
  },
  "cells": [
    {
      "cell_type": "markdown",
      "metadata": {
        "id": "view-in-github",
        "colab_type": "text"
      },
      "source": [
        "<a href=\"https://colab.research.google.com/github/PosgradoMNA/actividades-de-aprendizaje-A01793506/blob/main/IBM2/Modulo%205.ipynb\" target=\"_parent\"><img src=\"https://colab.research.google.com/assets/colab-badge.svg\" alt=\"Open In Colab\"/></a>"
      ]
    },
    {
      "cell_type": "markdown",
      "source": [
        "MAESTRIA EN INTELIGENCIA ARTIFICIAL APLICADA\n",
        "\n",
        "CIENCIA Y ANALITICA DE DATOS\n",
        "\n",
        "CURSO IBM DATA ANALYSIS WITH PYTHON\n",
        "\n",
        "NOMBRE: ERICK NAJERA OLIVERO\n",
        "\n",
        "MATRICULA: A01793506\n",
        "\n",
        "MODULO 5"
      ],
      "metadata": {
        "id": "KrzZr18VWPAW"
      }
    },
    {
      "cell_type": "markdown",
      "source": [
        "### Evaluación de Modelos\n",
        "\n",
        "La evaluación de modelos es lo que nos indica como se desempeñara nuestro modelo en el mundo real.\n",
        "Esta técnica consiste en defnir en nuestro conjunto de datos de entrenamiento un porcentaje para que sean usandos como datos de prueba, es decir luego del entrenamiento, usar nuestro modelo con estos datos para tener una aproxiimación dde como sera el comportamiento de este con un nuevo conjunto de datos.\n"
      ],
      "metadata": {
        "id": "SfUaFtsPWsy5"
      }
    },
    {
      "cell_type": "code",
      "source": [
        "#Cargue de librerias y del conjunto de datos para prueba de los ejercicios\n",
        "import pandas as pd\n",
        "import numpy as np \n",
        "\n",
        "url = 'https://raw.githubusercontent.com/tec03/Datasets/main/datasets/Cartwheeldata.csv'\n",
        "df = pd.read_csv(url)\n",
        "df.head()"
      ],
      "metadata": {
        "id": "mxM_WppZPMFx",
        "outputId": "7794a44a-935d-47f2-d2d4-74669a2fc83d",
        "colab": {
          "base_uri": "https://localhost:8080/",
          "height": 206
        }
      },
      "execution_count": 15,
      "outputs": [
        {
          "output_type": "execute_result",
          "data": {
            "text/plain": [
              "   ID  Age Gender  GenderGroup Glasses  GlassesGroup  Height  Wingspan  \\\n",
              "0   1   56      F            1       Y             1    62.0      61.0   \n",
              "1   2   26      F            1       Y             1    62.0      60.0   \n",
              "2   3   33      F            1       Y             1    66.0      64.0   \n",
              "3   4   39      F            1       N             0    64.0      63.0   \n",
              "4   5   27      M            2       N             0    73.0      75.0   \n",
              "\n",
              "   CWDistance Complete  CompleteGroup  Score  \n",
              "0          79        Y              1      7  \n",
              "1          70        Y              1      8  \n",
              "2          85        Y              1      0  \n",
              "3          87        Y              1     10  \n",
              "4          72        N              0      4  "
            ],
            "text/html": [
              "\n",
              "  <div id=\"df-3e5a7ded-aeee-4eee-abb8-8af43ec82c01\">\n",
              "    <div class=\"colab-df-container\">\n",
              "      <div>\n",
              "<style scoped>\n",
              "    .dataframe tbody tr th:only-of-type {\n",
              "        vertical-align: middle;\n",
              "    }\n",
              "\n",
              "    .dataframe tbody tr th {\n",
              "        vertical-align: top;\n",
              "    }\n",
              "\n",
              "    .dataframe thead th {\n",
              "        text-align: right;\n",
              "    }\n",
              "</style>\n",
              "<table border=\"1\" class=\"dataframe\">\n",
              "  <thead>\n",
              "    <tr style=\"text-align: right;\">\n",
              "      <th></th>\n",
              "      <th>ID</th>\n",
              "      <th>Age</th>\n",
              "      <th>Gender</th>\n",
              "      <th>GenderGroup</th>\n",
              "      <th>Glasses</th>\n",
              "      <th>GlassesGroup</th>\n",
              "      <th>Height</th>\n",
              "      <th>Wingspan</th>\n",
              "      <th>CWDistance</th>\n",
              "      <th>Complete</th>\n",
              "      <th>CompleteGroup</th>\n",
              "      <th>Score</th>\n",
              "    </tr>\n",
              "  </thead>\n",
              "  <tbody>\n",
              "    <tr>\n",
              "      <th>0</th>\n",
              "      <td>1</td>\n",
              "      <td>56</td>\n",
              "      <td>F</td>\n",
              "      <td>1</td>\n",
              "      <td>Y</td>\n",
              "      <td>1</td>\n",
              "      <td>62.0</td>\n",
              "      <td>61.0</td>\n",
              "      <td>79</td>\n",
              "      <td>Y</td>\n",
              "      <td>1</td>\n",
              "      <td>7</td>\n",
              "    </tr>\n",
              "    <tr>\n",
              "      <th>1</th>\n",
              "      <td>2</td>\n",
              "      <td>26</td>\n",
              "      <td>F</td>\n",
              "      <td>1</td>\n",
              "      <td>Y</td>\n",
              "      <td>1</td>\n",
              "      <td>62.0</td>\n",
              "      <td>60.0</td>\n",
              "      <td>70</td>\n",
              "      <td>Y</td>\n",
              "      <td>1</td>\n",
              "      <td>8</td>\n",
              "    </tr>\n",
              "    <tr>\n",
              "      <th>2</th>\n",
              "      <td>3</td>\n",
              "      <td>33</td>\n",
              "      <td>F</td>\n",
              "      <td>1</td>\n",
              "      <td>Y</td>\n",
              "      <td>1</td>\n",
              "      <td>66.0</td>\n",
              "      <td>64.0</td>\n",
              "      <td>85</td>\n",
              "      <td>Y</td>\n",
              "      <td>1</td>\n",
              "      <td>0</td>\n",
              "    </tr>\n",
              "    <tr>\n",
              "      <th>3</th>\n",
              "      <td>4</td>\n",
              "      <td>39</td>\n",
              "      <td>F</td>\n",
              "      <td>1</td>\n",
              "      <td>N</td>\n",
              "      <td>0</td>\n",
              "      <td>64.0</td>\n",
              "      <td>63.0</td>\n",
              "      <td>87</td>\n",
              "      <td>Y</td>\n",
              "      <td>1</td>\n",
              "      <td>10</td>\n",
              "    </tr>\n",
              "    <tr>\n",
              "      <th>4</th>\n",
              "      <td>5</td>\n",
              "      <td>27</td>\n",
              "      <td>M</td>\n",
              "      <td>2</td>\n",
              "      <td>N</td>\n",
              "      <td>0</td>\n",
              "      <td>73.0</td>\n",
              "      <td>75.0</td>\n",
              "      <td>72</td>\n",
              "      <td>N</td>\n",
              "      <td>0</td>\n",
              "      <td>4</td>\n",
              "    </tr>\n",
              "  </tbody>\n",
              "</table>\n",
              "</div>\n",
              "      <button class=\"colab-df-convert\" onclick=\"convertToInteractive('df-3e5a7ded-aeee-4eee-abb8-8af43ec82c01')\"\n",
              "              title=\"Convert this dataframe to an interactive table.\"\n",
              "              style=\"display:none;\">\n",
              "        \n",
              "  <svg xmlns=\"http://www.w3.org/2000/svg\" height=\"24px\"viewBox=\"0 0 24 24\"\n",
              "       width=\"24px\">\n",
              "    <path d=\"M0 0h24v24H0V0z\" fill=\"none\"/>\n",
              "    <path d=\"M18.56 5.44l.94 2.06.94-2.06 2.06-.94-2.06-.94-.94-2.06-.94 2.06-2.06.94zm-11 1L8.5 8.5l.94-2.06 2.06-.94-2.06-.94L8.5 2.5l-.94 2.06-2.06.94zm10 10l.94 2.06.94-2.06 2.06-.94-2.06-.94-.94-2.06-.94 2.06-2.06.94z\"/><path d=\"M17.41 7.96l-1.37-1.37c-.4-.4-.92-.59-1.43-.59-.52 0-1.04.2-1.43.59L10.3 9.45l-7.72 7.72c-.78.78-.78 2.05 0 2.83L4 21.41c.39.39.9.59 1.41.59.51 0 1.02-.2 1.41-.59l7.78-7.78 2.81-2.81c.8-.78.8-2.07 0-2.86zM5.41 20L4 18.59l7.72-7.72 1.47 1.35L5.41 20z\"/>\n",
              "  </svg>\n",
              "      </button>\n",
              "      \n",
              "  <style>\n",
              "    .colab-df-container {\n",
              "      display:flex;\n",
              "      flex-wrap:wrap;\n",
              "      gap: 12px;\n",
              "    }\n",
              "\n",
              "    .colab-df-convert {\n",
              "      background-color: #E8F0FE;\n",
              "      border: none;\n",
              "      border-radius: 50%;\n",
              "      cursor: pointer;\n",
              "      display: none;\n",
              "      fill: #1967D2;\n",
              "      height: 32px;\n",
              "      padding: 0 0 0 0;\n",
              "      width: 32px;\n",
              "    }\n",
              "\n",
              "    .colab-df-convert:hover {\n",
              "      background-color: #E2EBFA;\n",
              "      box-shadow: 0px 1px 2px rgba(60, 64, 67, 0.3), 0px 1px 3px 1px rgba(60, 64, 67, 0.15);\n",
              "      fill: #174EA6;\n",
              "    }\n",
              "\n",
              "    [theme=dark] .colab-df-convert {\n",
              "      background-color: #3B4455;\n",
              "      fill: #D2E3FC;\n",
              "    }\n",
              "\n",
              "    [theme=dark] .colab-df-convert:hover {\n",
              "      background-color: #434B5C;\n",
              "      box-shadow: 0px 1px 3px 1px rgba(0, 0, 0, 0.15);\n",
              "      filter: drop-shadow(0px 1px 2px rgba(0, 0, 0, 0.3));\n",
              "      fill: #FFFFFF;\n",
              "    }\n",
              "  </style>\n",
              "\n",
              "      <script>\n",
              "        const buttonEl =\n",
              "          document.querySelector('#df-3e5a7ded-aeee-4eee-abb8-8af43ec82c01 button.colab-df-convert');\n",
              "        buttonEl.style.display =\n",
              "          google.colab.kernel.accessAllowed ? 'block' : 'none';\n",
              "\n",
              "        async function convertToInteractive(key) {\n",
              "          const element = document.querySelector('#df-3e5a7ded-aeee-4eee-abb8-8af43ec82c01');\n",
              "          const dataTable =\n",
              "            await google.colab.kernel.invokeFunction('convertToInteractive',\n",
              "                                                     [key], {});\n",
              "          if (!dataTable) return;\n",
              "\n",
              "          const docLinkHtml = 'Like what you see? Visit the ' +\n",
              "            '<a target=\"_blank\" href=https://colab.research.google.com/notebooks/data_table.ipynb>data table notebook</a>'\n",
              "            + ' to learn more about interactive tables.';\n",
              "          element.innerHTML = '';\n",
              "          dataTable['output_type'] = 'display_data';\n",
              "          await google.colab.output.renderOutput(dataTable, element);\n",
              "          const docLink = document.createElement('div');\n",
              "          docLink.innerHTML = docLinkHtml;\n",
              "          element.appendChild(docLink);\n",
              "        }\n",
              "      </script>\n",
              "    </div>\n",
              "  </div>\n",
              "  "
            ]
          },
          "metadata": {},
          "execution_count": 15
        }
      ]
    },
    {
      "cell_type": "code",
      "source": [
        "#Usamos la funcion train_test_split para realizar la particion del onjunto de datos en entrenamiento y prueba\n",
        "from sklearn.model_selection import train_test_split\n",
        "df.dropna(inplace=True)\n",
        "df.reset_index(drop=True, inplace=True)\n",
        "\n",
        "df2 = df[['Height','Wingspan','CWDistance']]\n",
        "df2.head()\n",
        "\n",
        "x = df2.iloc[:,:-1]  \n",
        "y = df2.iloc[:,-1] \n",
        "\n",
        "x_train, X_test, y_train, y_test = train_test_split(x, y, test_size=0.3, random_state=0)\n"
      ],
      "metadata": {
        "id": "w-Xpp3VaYm2S"
      },
      "execution_count": 34,
      "outputs": []
    },
    {
      "cell_type": "markdown",
      "source": [
        "Validación Cruzada\n",
        "\n",
        "Es una de las medidas mas comunes de evaluacion de modelos, donde en el conjunto de entrenamiento se divide en subgrupos iguales, donde una parte de estos se usa como conjunto de validación, esto se repite hasta que cada subconjunto fue usado como validación."
      ],
      "metadata": {
        "id": "ih7O_Dz1cVOn"
      }
    },
    {
      "cell_type": "code",
      "source": [
        "from sklearn.model_selection import cross_val_score\n",
        "from sklearn.linear_model import LinearRegression\n",
        "lr = LinearRegression()\n",
        "scores = cross_val_score(lr,x_train,y_train,cv=5)  \n",
        "np.mean(scores)\n"
      ],
      "metadata": {
        "id": "_MBhNS94dh_B",
        "outputId": "3dcb7149-456c-43fd-9c0e-bdb2ed6d12b2",
        "colab": {
          "base_uri": "https://localhost:8080/"
        }
      },
      "execution_count": 38,
      "outputs": [
        {
          "output_type": "execute_result",
          "data": {
            "text/plain": [
              "-2.4183127279784875"
            ]
          },
          "metadata": {},
          "execution_count": 38
        }
      ]
    },
    {
      "cell_type": "code",
      "source": [
        "#tambien podemos predecir usando el metodo cross_validate_predict para obtener una prediccion del conjunto usado\n",
        "from sklearn.model_selection import cross_val_predict\n",
        "yhat = cross_val_predict(lr,x_train,y_train,cv=3)\n",
        "yhat # array con las predicciones\n"
      ],
      "metadata": {
        "id": "tdWJZjaolaqN",
        "outputId": "cd811ea5-7c7f-4613-a640-d11f430581b8",
        "colab": {
          "base_uri": "https://localhost:8080/"
        }
      },
      "execution_count": 41,
      "outputs": [
        {
          "output_type": "execute_result",
          "data": {
            "text/plain": [
              "array([94.70388944, 93.60765373, 79.54394902, 78.60231269, 73.36941328,\n",
              "       88.13583522, 99.37232552, 92.30758057, 92.29417621, 80.52704816,\n",
              "       85.24283562, 92.3120487 , 61.77090821, 54.80535557, 86.15034243,\n",
              "       74.5321721 , 62.34914194])"
            ]
          },
          "metadata": {},
          "execution_count": 41
        }
      ]
    },
    {
      "cell_type": "markdown",
      "source": [
        "Sub-etrenamiento en modelos: \n",
        "\n",
        "Obtenemos un modelo sub-entrenado cuando este es muy simple para lograr una predicciom correcta de los datos.\n",
        "\n",
        "Sobre-Entrenamiento: \n",
        "\n",
        "Obtenemos un modelo sobre-entrenado cuando este es demasiado flexible, que no solo predice con alto porcentaje sino que tambien predice los valores atipicos."
      ],
      "metadata": {
        "id": "9F81EHUtoFq8"
      }
    },
    {
      "cell_type": "markdown",
      "source": [
        "Ridge Regression\n",
        "\n",
        "Se usa para controlar la complejidad en modelos de regresion polinomica controlando la magnitud de los coeficientes. Esto lo logra a traves del paramtro alpha, el cual entre mas alto sea, el parametro se hace mas pequeño y el modelo tiene a sobreentrenarse, Si alpha es mas pequeño, cercano a 0 el modelo tiende a subentrenarse, hay que ser cuidadoso a la hora de seleccionar el mejor alpha."
      ],
      "metadata": {
        "id": "UT_JbaaWpzkL"
      }
    },
    {
      "cell_type": "code",
      "source": [
        "from sklearn.linear_model import Ridge\n",
        "RM = Ridge(alpha=.1)\n",
        "RM.fit(x_train,y_train)\n",
        "yhat = RM.predict(x_train)\n",
        "yhat\n"
      ],
      "metadata": {
        "id": "5SrvJFmhq0Jd",
        "outputId": "1c794e03-6b02-4c7c-a7c2-8c03f712eef8",
        "colab": {
          "base_uri": "https://localhost:8080/"
        }
      },
      "execution_count": 44,
      "outputs": [
        {
          "output_type": "execute_result",
          "data": {
            "text/plain": [
              "array([79.49255285, 89.49923774, 73.44394154, 91.45888306, 76.42946425,\n",
              "       95.48967465, 93.50579   , 87.47657015, 87.50565735, 77.44079805,\n",
              "       81.4473503 , 87.46687441, 75.4569134 , 71.45036115, 89.47984627,\n",
              "       85.49268549, 76.46339933])"
            ]
          },
          "metadata": {},
          "execution_count": 44
        }
      ]
    },
    {
      "cell_type": "markdown",
      "source": [
        "Grid Search\n",
        "\n",
        "Grid search es un metodo que realiza una busqueda iterativa y automatica de los mejores hiperparametros que son utilizados para mejoras en nuestros modelos,, como por ejemplo alpha en regresion Ridge. Este metodo obtiene varios modelos aplicando varios valores de hiperparametros, selecciona que el produzca menor error MSE."
      ],
      "metadata": {
        "id": "rmWiP6lfsFnr"
      }
    },
    {
      "cell_type": "code",
      "source": [
        "from sklearn.model_selection import GridSearchCV\n",
        "\n",
        "parameters1 = [{'alpha':[0.001,0.1,10,100,1000]}]\n",
        "RR = Ridge()\n",
        "grid1 = GridSearchCV(RR, parameters1, cv=4)\n",
        "grid1.fit(x_train,y_train)\n",
        "print(grid1.best_estimator_)\n",
        "scores = grid1.cv_results_\n",
        "scores['mean_test_score'] \n",
        "#Obtenemos el mejor alpha econtrado=100\n"
      ],
      "metadata": {
        "id": "vEflAbiutc5D",
        "outputId": "9b4e3f80-1ed9-4456-b85d-8bfe72c39b41",
        "colab": {
          "base_uri": "https://localhost:8080/"
        }
      },
      "execution_count": 46,
      "outputs": [
        {
          "output_type": "stream",
          "name": "stdout",
          "text": [
            "Ridge(alpha=100)\n"
          ]
        },
        {
          "output_type": "execute_result",
          "data": {
            "text/plain": [
              "array([-1.08076729, -1.07520691, -0.83358423, -0.68326936, -0.73081028])"
            ]
          },
          "metadata": {},
          "execution_count": 46
        }
      ]
    },
    {
      "cell_type": "markdown",
      "source": [
        "Evidencia Graded Review Questions\n",
        "\n",
        "![image.png](data:image/png;base64,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)"
      ],
      "metadata": {
        "id": "dvbheIMc1rrH"
      }
    }
  ]
}