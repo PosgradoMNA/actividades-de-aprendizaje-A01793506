{
  "nbformat": 4,
  "nbformat_minor": 0,
  "metadata": {
    "colab": {
      "name": "assignment01.ipynb",
      "provenance": [],
      "include_colab_link": true
    },
    "kernelspec": {
      "name": "python3",
      "display_name": "Python 3"
    },
    "language_info": {
      "name": "python"
    }
  },
  "cells": [
    {
      "cell_type": "markdown",
      "metadata": {
        "id": "view-in-github",
        "colab_type": "text"
      },
      "source": [
        "<a href=\"https://colab.research.google.com/github/PosgradoMNA/actividades-de-aprendizaje-A01793506/blob/main/Semana3/Actividad_1_1.ipynb\" target=\"_parent\"><img src=\"https://colab.research.google.com/assets/colab-badge.svg\" alt=\"Open In Colab\"/></a>"
      ]
    },
    {
      "cell_type": "code",
      "execution_count": 2,
      "metadata": {
        "id": "LzUSMM79NR9P"
      },
      "outputs": [],
      "source": [
        "import pandas as pd\n",
        "import numpy as np"
      ]
    },
    {
      "cell_type": "code",
      "source": [
        "data = 'https://raw.githubusercontent.com/tec03/Datasets/main/datasets/Cartwheeldata.csv'\n",
        "df = pd.read_csv(data, index_col = 0)\n",
        "df.index.name = None\n",
        "df"
      ],
      "metadata": {
        "id": "mxM_WppZPMFx"
      },
      "execution_count": null,
      "outputs": []
    },
    {
      "cell_type": "code",
      "source": [
        "varX = df.Score.to_list()\n",
        "varX\n"
      ],
      "metadata": {
        "id": "nk1uLdeCXoXW"
      },
      "execution_count": null,
      "outputs": []
    },
    {
      "cell_type": "markdown",
      "source": [
        "Normalizacion"
      ],
      "metadata": {
        "id": "DPNHYTtRYNDG"
      }
    },
    {
      "cell_type": "code",
      "source": [
        "def Normalizacion(x):\n",
        "  min = np.min(x)\n",
        "  max = np.max(x)\n",
        "  rango = max - min\n",
        "  return [(a - min)/rango for a in x]"
      ],
      "metadata": {
        "id": "bgeU7zs9YPey"
      },
      "execution_count": 7,
      "outputs": []
    },
    {
      "cell_type": "code",
      "source": [
        "Normalizacion(varX)"
      ],
      "metadata": {
        "id": "6L6pZxf6Ysu6",
        "outputId": "e3c228fb-be8b-4080-f3b7-1ea99d3bc6f7",
        "colab": {
          "base_uri": "https://localhost:8080/"
        }
      },
      "execution_count": 8,
      "outputs": [
        {
          "output_type": "execute_result",
          "data": {
            "text/plain": [
              "[0.7,\n",
              " 0.8,\n",
              " 0.0,\n",
              " 1.0,\n",
              " 0.4,\n",
              " 0.3,\n",
              " 1.0,\n",
              " 0.9,\n",
              " 0.5,\n",
              " 0.8,\n",
              " 0.6,\n",
              " 1.0,\n",
              " 0.6,\n",
              " 0.4,\n",
              " 0.9,\n",
              " 0.6,\n",
              " 1.0,\n",
              " 0.5,\n",
              " 0.3,\n",
              " 0.8,\n",
              " 0.2,\n",
              " 0.8,\n",
              " 0.4,\n",
              " 0.5,\n",
              " 0.3]"
            ]
          },
          "metadata": {},
          "execution_count": 8
        }
      ]
    }
  ]
}