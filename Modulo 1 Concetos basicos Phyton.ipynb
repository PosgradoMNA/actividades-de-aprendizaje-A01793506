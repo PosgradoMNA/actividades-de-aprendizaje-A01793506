{
  "nbformat": 4,
  "nbformat_minor": 0,
  "metadata": {
    "colab": {
      "name": "assignment01.ipynb",
      "provenance": [],
      "include_colab_link": true
    },
    "kernelspec": {
      "name": "python3",
      "display_name": "Python 3"
    },
    "language_info": {
      "name": "python"
    }
  },
  "cells": [
    {
      "cell_type": "markdown",
      "metadata": {
        "id": "view-in-github",
        "colab_type": "text"
      },
      "source": [
        "<a href=\"https://colab.research.google.com/github/PosgradoMNA/actividades-de-aprendizaje-A01793506/blob/main/Modulo%201%20Concetos%20basicos%20Phyton.ipynb\" target=\"_parent\"><img src=\"https://colab.research.google.com/assets/colab-badge.svg\" alt=\"Open In Colab\"/></a>"
      ]
    },
    {
      "cell_type": "code",
      "execution_count": null,
      "metadata": {
        "id": "LzUSMM79NR9P"
      },
      "outputs": [],
      "source": [
        "# Conceptos basicos Python\n",
        "# Primer programa - print y comentarios \n",
        "print('Hola Mundo')\n"
      ]
    },
    {
      "cell_type": "code",
      "source": [
        "#Tipos de datos en Python\n",
        "#Conocer el tipo de dato de un valor\n",
        "#entero\n",
        "type(1)\n",
        "#Float\n",
        "type(1.1)\n",
        "#string\n",
        "type('esto es un string')\n",
        "#bool\n",
        "type(True)"
      ],
      "metadata": {
        "id": "mxM_WppZPMFx"
      },
      "execution_count": null,
      "outputs": []
    },
    {
      "cell_type": "code",
      "source": [
        "#Expresiones\n",
        "#Operaciones matematicas\n",
        "print(2 * 3 + 6)\n",
        "print(2 * (3 + 6))\n",
        "print(25 - 5)\n",
        "\n",
        "#Division float\n",
        "print(20 / 3)\n",
        "#Division entera\n",
        "print(20//3)\n"
      ],
      "metadata": {
        "id": "uU4eyN09pUp_"
      },
      "execution_count": null,
      "outputs": []
    },
    {
      "cell_type": "code",
      "source": [
        "from re import X\n",
        "#variables\n",
        "#Asignación de valor a variable\n",
        "variable_1 = 5\n",
        "print(variable_1)\n",
        "\n",
        "#Guardar resultado de expresiones en variables\n",
        "variable_1 = 5 * (2 + 3)\n",
        "print(variable_1)\n",
        "\n",
        "#Operaciones con variables\n",
        "x = 5.3\n",
        "y = 10 + x\n",
        "print(y)\n",
        "\n",
        "#tipos de datos en variables\n",
        "print(type(y))"
      ],
      "metadata": {
        "id": "B-bHcoALqoan"
      },
      "execution_count": null,
      "outputs": []
    },
    {
      "cell_type": "code",
      "source": [
        "#Operaciones con Strings\n",
        "cadena1 = 'Erick Najera'\n",
        "cadena2 = \"Baranquilla, Colombia\"\n",
        "print(cadena1)\n",
        "print(cadena2)\n",
        "\n",
        "#posicionamiento en strings\n",
        "print(cadena1[0])\n",
        "print(cadena2[9])\n",
        "print(cadena1[-1])\n",
        "print(cadena1[-5])\n",
        "\n",
        "#Particionamiento en strings\n",
        "print(cadena1[0:6])\n",
        "\n",
        "#saltos en strings\n",
        "print(cadena1[::2])\n",
        "print(cadena1[0:7:2])\n",
        "\n",
        "#Obetner tamaño de un string\n",
        "print(len(cadena2))\n",
        "\n",
        "#Concatenacion de strings\n",
        "cadena1=\"Erick Najera\"\n",
        "cadena2=\"De Colombia, Atlantico\"\n",
        "cadena3 = cadena1 + \" \" + cadena2\n",
        "print(cadena3)\n",
        "\n",
        "#Replicar valores de cadena\n",
        "print(cadena3 * 3)\n",
        "\n",
        "#Usar secuencia de escapes\n",
        "#salto de linea\n",
        "print(cadena1 + \"\\n\" + cadena2)\n",
        "#Tabulacion\n",
        "print(cadena1 + \"\\t\" + cadena2)\n",
        "\n",
        "#Metodos de secuencias\n",
        "#Metodo convertir a mayusculas\n",
        "print(cadena1.upper())\n",
        "\n",
        "#Metodo reemplazar\n",
        "cadena3 = cadena1.replace('Erick','Jose') \n",
        "print(cadena3)\n",
        "\n",
        "#MEtodo para buscar en cadena\n",
        "print(cadena2.find('Atlan') )\n",
        "#valores no encontrados devuelve -1\n",
        "print(cadena2.find('jos') )"
      ],
      "metadata": {
        "id": "O5hx1NZTspRu",
        "outputId": "10322987-d480-42ca-e120-1f13e02b1a72",
        "colab": {
          "base_uri": "https://localhost:8080/"
        }
      },
      "execution_count": 44,
      "outputs": [
        {
          "output_type": "stream",
          "name": "stdout",
          "text": [
            "Erick Najera\n",
            "Baranquilla, Colombia\n",
            "E\n",
            "l\n",
            "a\n",
            "a\n",
            "Erick \n",
            "EikNjr\n",
            "EikN\n",
            "21\n",
            "Erick Najera De Colombia, Atlantico\n",
            "Erick Najera De Colombia, AtlanticoErick Najera De Colombia, AtlanticoErick Najera De Colombia, Atlantico\n",
            "Erick Najera\n",
            "De Colombia, Atlantico\n",
            "Erick Najera\tDe Colombia, Atlantico\n",
            "ERICK NAJERA\n",
            "Jose Najera\n",
            "13\n",
            "-1\n"
          ]
        }
      ]
    },
    {
      "cell_type": "code",
      "source": [],
      "metadata": {
        "id": "IOZlubH-vIdM"
      },
      "execution_count": null,
      "outputs": []
    }
  ]
}