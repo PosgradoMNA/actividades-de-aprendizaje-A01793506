{
  "nbformat": 4,
  "nbformat_minor": 0,
  "metadata": {
    "colab": {
      "name": "assignment01.ipynb",
      "provenance": [],
      "include_colab_link": true
    },
    "kernelspec": {
      "name": "python3",
      "display_name": "Python 3"
    },
    "language_info": {
      "name": "python"
    }
  },
  "cells": [
    {
      "cell_type": "markdown",
      "metadata": {
        "id": "view-in-github",
        "colab_type": "text"
      },
      "source": [
        "<a href=\"https://colab.research.google.com/github/PosgradoMNA/actividades-de-aprendizaje-A01793506/blob/main/Modulo%202%20Estructuras%20de%20datos.ipynb\" target=\"_parent\"><img src=\"https://colab.research.google.com/assets/colab-badge.svg\" alt=\"Open In Colab\"/></a>"
      ]
    },
    {
      "cell_type": "code",
      "execution_count": null,
      "metadata": {
        "id": "LzUSMM79NR9P"
      },
      "outputs": [],
      "source": [
        "#Curso IBM Phyton for Data science\n",
        "#Erick Najera Olivero\n",
        "\n",
        "# Modulo 2 Python Data structures\n",
        "#Listas y tuplas\n",
        "\n",
        "#declaracion de una tupla\n",
        "numeros = (3, 6, 4, 8, 0, 1, 11, 2)\n",
        "caracteres =(3, 10, 'A', 'zz',4)\n",
        "NT = (4, 6, 1, 'A', (5, 6, 'zz'), 9)\n",
        "\n",
        "print(numeros)\n",
        "print(type(numeros))\n",
        "\n",
        "#Indexando una tupla\n",
        "print(numeros[4])\n",
        "print(caracteres[3])\n",
        "print(caracteres[-1])\n",
        "print(NT[4])\n",
        "print(NT[4][2])\n",
        "\n",
        "#particionando tuplas\n",
        "print(numeros[0:2])\n",
        "print(caracteres[2:4])\n",
        "\n",
        "\n",
        "#Obtenienedo tamaño de la tupla\n",
        "print(len(numeros))\n",
        "\n",
        "#ordenar una tupla\n",
        "numeros_ord = sorted(numeros)\n",
        "print(numeros_ord)\n"
      ]
    },
    {
      "cell_type": "code",
      "source": [
        "#Declaracion de una lista\n",
        "lista1 = [1, 5, 7, 0, 8, 19]\n",
        "print(lista1)\n",
        "\n",
        "#Indexando una lista\n",
        "print(lista1[2])\n",
        "\n",
        "#Concatenar listas\n",
        "print(lista1 +  [10, 120])\n",
        "\n",
        "#xtendiendo una lista\n",
        "lista1.extend([10, 20])\n",
        "print(lista1)\n",
        "\n",
        "lista1.append(\"kk\")\n",
        "print(lista1)\n",
        "\n",
        "#cambiar una lista\n",
        "lista1[4] = 'bb'\n",
        "print(lista1)\n",
        "\n",
        "#Borrar un elemento de la lista - DEL\n",
        "del(lista1[4])\n",
        "print(lista1)\n",
        "\n",
        "#Convertir un string a lista\n",
        "print(\"Cadena a separar\".split())\n",
        "print(\"Cadena,  a, sepa, rar\".split(','))\n",
        "\n",
        "#Referenciacion \"Aliasing\"\n",
        "lista2 = lista1\n",
        "print(lista2)\n",
        "lista1[-1]='jj'\n",
        "print(lista2)\n",
        "\n",
        "#Clonar una lista para no cambiar valor en caso de cambio de la lista original\n",
        "lista3 = lista1[:]\n",
        "print(lista3)\n",
        "lista1[-1]='nn'\n",
        "print(lista3) #mantiene valor no cambia\n",
        "print(lista1)\n",
        "\n",
        "#Comando para ayuda con comandos sobre lista\n",
        "help(lista1)\n",
        "\n"
      ],
      "metadata": {
        "id": "IOZlubH-vIdM"
      },
      "execution_count": null,
      "outputs": []
    },
    {
      "cell_type": "code",
      "source": [
        "#Quiz 1\n",
        "#Acceder a ultimo elemento de la lista\n",
        "A=(0,1,2,3)\n",
        "print(A[3])\n",
        "print(A[-1])\n",
        "\n",
        "#Resultado de B[1:]\n",
        "B=[\"a\",\"b\",\"c\"]\n",
        "print(B[1:])\n"
      ],
      "metadata": {
        "id": "0d5eMym99Ku5"
      },
      "execution_count": null,
      "outputs": []
    }
  ]
}