{
  "nbformat": 4,
  "nbformat_minor": 0,
  "metadata": {
    "colab": {
      "name": "assignment01.ipynb",
      "provenance": [],
      "include_colab_link": true
    },
    "kernelspec": {
      "name": "python3",
      "display_name": "Python 3"
    },
    "language_info": {
      "name": "python"
    }
  },
  "cells": [
    {
      "cell_type": "markdown",
      "metadata": {
        "id": "view-in-github",
        "colab_type": "text"
      },
      "source": [
        "<a href=\"https://colab.research.google.com/github/PosgradoMNA/actividades-de-aprendizaje-A01793506/blob/main/Modulo%204%20Parte%201.ipynb\" target=\"_parent\"><img src=\"https://colab.research.google.com/assets/colab-badge.svg\" alt=\"Open In Colab\"/></a>"
      ]
    },
    {
      "cell_type": "code",
      "execution_count": 70,
      "metadata": {
        "id": "LzUSMM79NR9P"
      },
      "outputs": [],
      "source": [
        "#MODULO 4 PYTHON FOR DATA SCIENCE\n",
        "#ERICK NAJERA OLIVERO\n",
        "\n",
        "#trabajando con el tipo de objeto FILE\n",
        "\n",
        "#Abrir un archivo\n",
        "file1 = open(\"/content/prueba.txt\",\"r\")  # metodo open recibe el path del archivo y el metodo r lectura - w escritura\n",
        "\n",
        "file1.name  # visuaizar el nombre del archivo\n",
        "file1.mode  # visualizar el modo (r/w)\n",
        "file1.close()\n"
      ]
    },
    {
      "cell_type": "code",
      "source": [
        "#recorriendo archivo\n",
        "with open(\"/content/prueba.txt\",\"r\")as file1:  \n",
        " for linea1 in file1:\n",
        "  print(linea1)\n",
        "\n",
        "with open(\"pruebaw3.txt\",\"r\")as file2:  \n",
        "  lineas1 = file2.readlines()\n",
        "  print(lineas1)\n"
      ],
      "metadata": {
        "id": "mxM_WppZPMFx",
        "outputId": "079d3dd8-5f7c-40a3-99c1-f8b1ccdcf4c6",
        "colab": {
          "base_uri": "https://localhost:8080/"
        }
      },
      "execution_count": 83,
      "outputs": [
        {
          "output_type": "stream",
          "name": "stdout",
          "text": [
            "['Esta es la linea 1\\n', 'Esta es la linea 2\\n', 'Esta es la linea 3\\n', 'Esta es la linea 4\\n']\n"
          ]
        }
      ]
    },
    {
      "cell_type": "code",
      "source": [
        "#filew1 = open(\"pruebaw.txt\",\"w\")   #abrir o crear un archivo en la ruta especificada con w\n",
        "#Crear archivo y añadir lineas\n",
        "with open(\"/content/pruebaw2.txt\",\"w\") as file1:\n",
        "  file1.write(\"Esta es la linea 1\\n\")\n",
        "  file1.write(\"Esta es la linea 2\\n\")\n",
        " "
      ],
      "metadata": {
        "id": "tTf8S7w5xucY"
      },
      "execution_count": 74,
      "outputs": []
    },
    {
      "cell_type": "code",
      "source": [
        "#Abrir archivo ya creado y  añadir linea con modo a\n",
        "with open(\"/content/pruebaw.txt\",\"a\") as file1:\n",
        "  file1.write(\"Esta es la linea 3\\n\")\n",
        "  file1.write(\"Esta es la linea 4\\n\")\n"
      ],
      "metadata": {
        "id": "r2eSzrYT4004"
      },
      "execution_count": 78,
      "outputs": []
    },
    {
      "cell_type": "code",
      "source": [
        "#copiar un archivo en otro\n",
        "with open(\"/content/pruebaw.txt\",\"r\") as file1:\n",
        "  with open(\"/content/pruebaw3.txt\",\"w\") as file2:\n",
        "    for linea in file1:\n",
        "      file2.write(linea)\n"
      ],
      "metadata": {
        "id": "zEa1uvy_5S7j"
      },
      "execution_count": 82,
      "outputs": []
    }
  ]
}