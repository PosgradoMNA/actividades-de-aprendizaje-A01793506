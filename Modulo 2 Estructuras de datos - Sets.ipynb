{
  "nbformat": 4,
  "nbformat_minor": 0,
  "metadata": {
    "colab": {
      "name": "assignment01.ipynb",
      "provenance": [],
      "include_colab_link": true
    },
    "kernelspec": {
      "name": "python3",
      "display_name": "Python 3"
    },
    "language_info": {
      "name": "python"
    }
  },
  "cells": [
    {
      "cell_type": "markdown",
      "metadata": {
        "id": "view-in-github",
        "colab_type": "text"
      },
      "source": [
        "<a href=\"https://colab.research.google.com/github/PosgradoMNA/actividades-de-aprendizaje-A01793506/blob/main/Modulo%202%20Estructuras%20de%20datos%20-%20Sets.ipynb\" target=\"_parent\"><img src=\"https://colab.research.google.com/assets/colab-badge.svg\" alt=\"Open In Colab\"/></a>"
      ]
    },
    {
      "cell_type": "code",
      "execution_count": null,
      "metadata": {
        "id": "LzUSMM79NR9P"
      },
      "outputs": [],
      "source": [
        "#Curso IBM Phyton for Data science\n",
        "#Erick Najera Olivero\n",
        "\n",
        "# Modulo 2  Estructuras de datos\n",
        "#Sets\n",
        "\n",
        "#Creando un set\n",
        "\n",
        "set_1 ={'erick','pedro','maria','jose','carlos'}\n",
        "print(set_1)\n",
        "\n",
        "#Convertir lista a set : Type-casting\n",
        "\n",
        "lista_1 = ('erick','pedro','maria','jose','carlos','maria')\n",
        "print(lista_1)  # solo se copia el elemnto 'maria' una sola vez\n",
        "set_2 = set(lista_1)\n",
        "print(set_2)\n",
        "\n",
        "\n"
      ]
    },
    {
      "cell_type": "code",
      "source": [
        "#Operaciones sobre Sets\n",
        "#modificar un set\n",
        "set_1 ={'erick','pedro','maria','jose','carlos'}\n",
        "set_2 ={'luis','laura','juan','peter','maria'}\n",
        "set_3 = {'luis','juan'}\n",
        "\n",
        "print(set_1)\n",
        "set_1.add('Miguel')  #Agregar un elemento nuevo\n",
        "print(set_1)\n",
        "\n",
        "set_1.remove('Miguel')  # Eliminar un elemento del set\n",
        "print(set_1)\n",
        "\n",
        "#Preguntar si un elemento se encuentra en el set\n",
        "'maria' in set_1\n",
        "'jorge' in set_1\n",
        "\n",
        "#Interseccion de  sets &\n",
        "set_3 = set_1 & set_2\n",
        "print(set_3)\n",
        "\n",
        "#Union de sets\n",
        "set_3 = set_1.union(set_2)\n",
        "print(set_3)\n",
        "\n",
        "#Subset contenido en otro set\n",
        "set_2.issubset(set_3)\n",
        "\n",
        "#Difeencias entre sets\n",
        "set_3.difference(set_2)\n"
      ],
      "metadata": {
        "id": "IOZlubH-vIdM"
      },
      "execution_count": null,
      "outputs": []
    },
    {
      "cell_type": "code",
      "source": [
        "#Quetions\n",
        "\n",
        "S={'A','B','C'}\n",
        "\n",
        "U={'A','Z','C'}\n",
        "\n",
        "U.union(S)\n",
        "\n",
        "#What is the intersection of set S and U?\n",
        "\n",
        "S={'A','B','C'}\n",
        "\n",
        "U={'A','Z','C'}\n",
        "\n",
        "T = S & U\n",
        "print(T)\n",
        "\n",
        "# practia laboratio\n",
        "A = [1, 2, 2, 1]  \n",
        "B = set([1, 2, 2, 1])\n",
        "print(\"the sum of A is:\", sum(A))\n",
        "print(\"the sum of B is:\", sum(B))"
      ],
      "metadata": {
        "outputId": "d0c63bbd-ff3e-4c2c-a4dc-fbf4f20d6a00",
        "colab": {
          "base_uri": "https://localhost:8080/"
        },
        "id": "2wemSR6yMbPU"
      },
      "execution_count": 56,
      "outputs": [
        {
          "output_type": "stream",
          "name": "stdout",
          "text": [
            "{'A', 'C'}\n",
            "the sum of A is: 6\n",
            "the sum of B is: 3\n"
          ]
        }
      ]
    }
  ]
}