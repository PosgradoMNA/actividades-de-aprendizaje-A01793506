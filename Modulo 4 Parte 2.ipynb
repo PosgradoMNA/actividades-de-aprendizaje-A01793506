{
  "nbformat": 4,
  "nbformat_minor": 0,
  "metadata": {
    "colab": {
      "name": "assignment01.ipynb",
      "provenance": [],
      "include_colab_link": true
    },
    "kernelspec": {
      "name": "python3",
      "display_name": "Python 3"
    },
    "language_info": {
      "name": "python"
    }
  },
  "cells": [
    {
      "cell_type": "markdown",
      "metadata": {
        "id": "view-in-github",
        "colab_type": "text"
      },
      "source": [
        "<a href=\"https://colab.research.google.com/github/PosgradoMNA/actividades-de-aprendizaje-A01793506/blob/main/Modulo%204%20Parte%202.ipynb\" target=\"_parent\"><img src=\"https://colab.research.google.com/assets/colab-badge.svg\" alt=\"Open In Colab\"/></a>"
      ]
    },
    {
      "cell_type": "code",
      "execution_count": 16,
      "metadata": {
        "id": "LzUSMM79NR9P",
        "outputId": "2aa45ed4-c2f1-4e8f-fbb1-ffd662da263f",
        "colab": {
          "base_uri": "https://localhost:8080/",
          "height": 35
        }
      },
      "outputs": [
        {
          "output_type": "execute_result",
          "data": {
            "text/plain": [
              "'Pedro'"
            ],
            "application/vnd.google.colaboratory.intrinsic+json": {
              "type": "string"
            }
          },
          "metadata": {},
          "execution_count": 16
        }
      ],
      "source": [
        "#Modulo 4\n",
        "#Erick Najera Olivero\n",
        "\n",
        "#Loading Data with Pandas\n",
        "\n",
        "import pandas as pd # cargando la libreria\n",
        "\n",
        "path_csv ='/content/Libro4.csv'\n",
        "\n",
        "file1 = pd.read_csv(path_csv)  # guardar resultado csv en un data frame\n",
        "file1.head()\n",
        "\n",
        "#Cargando libro excel\n",
        "\n",
        "path_csvx ='/content/Libro4.xlsx'\n",
        "\n",
        "file2 = pd.read_excel(path_csvx)  # guardar resultado excel en un data frame\n",
        "file2.head()\n",
        "\n",
        "\n",
        "#Creando data frame y asignando columnas\n",
        "\n",
        "datos = {'Nombre':['Erick','Pedro','Maria','Luis'],'Ciudad':['Bogota','Cali','Medellin','Veracruz']}\n",
        "df_datos = pd.DataFrame(datos)\n",
        "df_datos\n",
        "\n",
        "#Accediendo a posiocines dentro del data frame con ix o iloc\n",
        "df_datos.iloc[1,0]\n"
      ]
    },
    {
      "cell_type": "code",
      "source": [
        "#Laboratorio\n",
        "import pandas as banana\n",
        "\n",
        "df=banana.DataFrame({'a':[11,21,31,2,4,6,7,8,9],'b':[21,22,23,4,6,7,8,9,0]})\n",
        "\n",
        "df.head()\n",
        "\n",
        "df1 = df[df['b']>21]   #seleccionando columnas especificas\n",
        "df1\n",
        "\n",
        "#Guardando el data frame\n",
        "df1.to_csv('valores.csv')\n",
        "\n",
        "\n"
      ],
      "metadata": {
        "id": "mxM_WppZPMFx"
      },
      "execution_count": null,
      "outputs": []
    },
    {
      "cell_type": "code",
      "source": [
        "#prguntas de repaso\n",
        "with open(\"prueba.txt\",\"r\") as file1:\n",
        "\n",
        "  FileContent=file1.readlines()\n",
        "\n",
        "#print(FileContent)\n",
        "\n",
        "\n",
        "\n",
        "with open(\"/content/prueba.txt\",\"a\") as file1:\n",
        "\n",
        "  file1.write(\"This is line C\\n\")  "
      ],
      "metadata": {
        "id": "6bqfNWRUGjYy"
      },
      "execution_count": 26,
      "outputs": []
    }
  ]
}