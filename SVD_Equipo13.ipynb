{
  "cells": [
    {
      "cell_type": "markdown",
      "metadata": {
        "id": "view-in-github",
        "colab_type": "text"
      },
      "source": [
        "<a href=\"https://colab.research.google.com/github/PosgradoMNA/actividades-de-aprendizaje-A01793506/blob/main/SVD_Equipo13.ipynb\" target=\"_parent\"><img src=\"https://colab.research.google.com/assets/colab-badge.svg\" alt=\"Open In Colab\"/></a>"
      ]
    },
    {
      "cell_type": "markdown",
      "source": [
        "#**Maestría en Inteligencia Artificial Aplicada**\n",
        "##**Curso: Inteligencia Artificial y Aprendizaje Automático**\n",
        "###Tecnológico de Monterrey\n",
        "###Prof Luis Eduardo Falcón Morales\n",
        "\n",
        "## **Actividad 11 **\n",
        "###**Reduccion de dimensionalidad**\n",
        "**Nombres y matrículas de los integrantes del equipo:**\n",
        "\n",
        "*   Rodrigo Rodriguez Rodriguez A01183284\n",
        "*   Christian Emilio Saldana Lopez A00506509\n",
        "*   Irvin Gomez Esquivel A00361034\n",
        "*   Erick Najera Olivero A01793506"
      ],
      "metadata": {
        "collapsed": false,
        "id": "s3vJPK1ZeSwA"
      }
    },
    {
      "cell_type": "code",
      "execution_count": 1,
      "outputs": [],
      "source": [
        "import numpy as np\n",
        "import pandas as pd\n",
        "\n",
        "from sklearn.decomposition import TruncatedSVD"
      ],
      "metadata": {
        "id": "l_IzjpgDeSwB"
      }
    },
    {
      "cell_type": "markdown",
      "source": [
        "### Ejercicio 1"
      ],
      "metadata": {
        "collapsed": false,
        "id": "3at-BKTSeSwB"
      }
    },
    {
      "cell_type": "code",
      "execution_count": 5,
      "outputs": [],
      "source": [
        "#Cargamos los conjuntos de datos necesarios en dataframes\n",
        "restaurantes = pd.read_csv(\"geoplaces2.csv\", header=0\n",
        "                           , sep=\",\", encoding='latin-1')\n",
        "\n",
        "rating=pd.read_csv(\"rating_final.csv\", header=0, sep=\",\", encoding='latin-1')\n",
        "\n"
      ],
      "metadata": {
        "id": "nmz8VilieSwC"
      }
    },
    {
      "cell_type": "code",
      "execution_count": 6,
      "outputs": [
        {
          "output_type": "stream",
          "name": "stdout",
          "text": [
            "Index(['userID', 'placeID', 'rating'], dtype='object')\n",
            "(1161, 3)\n",
            "<bound method NDFrame.head of      userID  placeID  rating\n",
            "0     U1077   135085       2\n",
            "1     U1077   135038       2\n",
            "2     U1077   132825       2\n",
            "3     U1077   135060       1\n",
            "4     U1068   135104       1\n",
            "...     ...      ...     ...\n",
            "1156  U1043   132630       1\n",
            "1157  U1011   132715       1\n",
            "1158  U1068   132733       1\n",
            "1159  U1068   132594       1\n",
            "1160  U1068   132660       0\n",
            "\n",
            "[1161 rows x 3 columns]>\n"
          ]
        }
      ],
      "source": [
        "#Creamos el DF dfestudio con las columnas del conjunto de datos e rating, visualizamos el tamaño y los registros de DF\n",
        "dfestudio=pd.DataFrame(rating)\n",
        "dfestudio=dfestudio[['userID','placeID','rating']]\n",
        "print(dfestudio.columns)\n",
        "print(dfestudio.shape)\n",
        "print (dfestudio.head)"
      ],
      "metadata": {
        "id": "1pS83LRdeSwC",
        "outputId": "0705e03f-7634-4291-f144-07cc6c270252",
        "colab": {
          "base_uri": "https://localhost:8080/"
        }
      }
    },
    {
      "cell_type": "code",
      "execution_count": 7,
      "outputs": [
        {
          "output_type": "execute_result",
          "data": {
            "text/plain": [
              "     userID  placeID  rating\n",
              "0     U1077   135085       2\n",
              "1     U1077   135038       2\n",
              "2     U1077   132825       2\n",
              "3     U1077   135060       1\n",
              "4     U1068   135104       1\n",
              "...     ...      ...     ...\n",
              "1156  U1043   132630       1\n",
              "1157  U1011   132715       1\n",
              "1158  U1068   132733       1\n",
              "1159  U1068   132594       1\n",
              "1160  U1068   132660       0\n",
              "\n",
              "[1161 rows x 3 columns]"
            ],
            "text/html": [
              "\n",
              "  <div id=\"df-b64caee4-8517-43b5-a5d0-1f3f343c695d\">\n",
              "    <div class=\"colab-df-container\">\n",
              "      <div>\n",
              "<style scoped>\n",
              "    .dataframe tbody tr th:only-of-type {\n",
              "        vertical-align: middle;\n",
              "    }\n",
              "\n",
              "    .dataframe tbody tr th {\n",
              "        vertical-align: top;\n",
              "    }\n",
              "\n",
              "    .dataframe thead th {\n",
              "        text-align: right;\n",
              "    }\n",
              "</style>\n",
              "<table border=\"1\" class=\"dataframe\">\n",
              "  <thead>\n",
              "    <tr style=\"text-align: right;\">\n",
              "      <th></th>\n",
              "      <th>userID</th>\n",
              "      <th>placeID</th>\n",
              "      <th>rating</th>\n",
              "    </tr>\n",
              "  </thead>\n",
              "  <tbody>\n",
              "    <tr>\n",
              "      <th>0</th>\n",
              "      <td>U1077</td>\n",
              "      <td>135085</td>\n",
              "      <td>2</td>\n",
              "    </tr>\n",
              "    <tr>\n",
              "      <th>1</th>\n",
              "      <td>U1077</td>\n",
              "      <td>135038</td>\n",
              "      <td>2</td>\n",
              "    </tr>\n",
              "    <tr>\n",
              "      <th>2</th>\n",
              "      <td>U1077</td>\n",
              "      <td>132825</td>\n",
              "      <td>2</td>\n",
              "    </tr>\n",
              "    <tr>\n",
              "      <th>3</th>\n",
              "      <td>U1077</td>\n",
              "      <td>135060</td>\n",
              "      <td>1</td>\n",
              "    </tr>\n",
              "    <tr>\n",
              "      <th>4</th>\n",
              "      <td>U1068</td>\n",
              "      <td>135104</td>\n",
              "      <td>1</td>\n",
              "    </tr>\n",
              "    <tr>\n",
              "      <th>...</th>\n",
              "      <td>...</td>\n",
              "      <td>...</td>\n",
              "      <td>...</td>\n",
              "    </tr>\n",
              "    <tr>\n",
              "      <th>1156</th>\n",
              "      <td>U1043</td>\n",
              "      <td>132630</td>\n",
              "      <td>1</td>\n",
              "    </tr>\n",
              "    <tr>\n",
              "      <th>1157</th>\n",
              "      <td>U1011</td>\n",
              "      <td>132715</td>\n",
              "      <td>1</td>\n",
              "    </tr>\n",
              "    <tr>\n",
              "      <th>1158</th>\n",
              "      <td>U1068</td>\n",
              "      <td>132733</td>\n",
              "      <td>1</td>\n",
              "    </tr>\n",
              "    <tr>\n",
              "      <th>1159</th>\n",
              "      <td>U1068</td>\n",
              "      <td>132594</td>\n",
              "      <td>1</td>\n",
              "    </tr>\n",
              "    <tr>\n",
              "      <th>1160</th>\n",
              "      <td>U1068</td>\n",
              "      <td>132660</td>\n",
              "      <td>0</td>\n",
              "    </tr>\n",
              "  </tbody>\n",
              "</table>\n",
              "<p>1161 rows × 3 columns</p>\n",
              "</div>\n",
              "      <button class=\"colab-df-convert\" onclick=\"convertToInteractive('df-b64caee4-8517-43b5-a5d0-1f3f343c695d')\"\n",
              "              title=\"Convert this dataframe to an interactive table.\"\n",
              "              style=\"display:none;\">\n",
              "        \n",
              "  <svg xmlns=\"http://www.w3.org/2000/svg\" height=\"24px\"viewBox=\"0 0 24 24\"\n",
              "       width=\"24px\">\n",
              "    <path d=\"M0 0h24v24H0V0z\" fill=\"none\"/>\n",
              "    <path d=\"M18.56 5.44l.94 2.06.94-2.06 2.06-.94-2.06-.94-.94-2.06-.94 2.06-2.06.94zm-11 1L8.5 8.5l.94-2.06 2.06-.94-2.06-.94L8.5 2.5l-.94 2.06-2.06.94zm10 10l.94 2.06.94-2.06 2.06-.94-2.06-.94-.94-2.06-.94 2.06-2.06.94z\"/><path d=\"M17.41 7.96l-1.37-1.37c-.4-.4-.92-.59-1.43-.59-.52 0-1.04.2-1.43.59L10.3 9.45l-7.72 7.72c-.78.78-.78 2.05 0 2.83L4 21.41c.39.39.9.59 1.41.59.51 0 1.02-.2 1.41-.59l7.78-7.78 2.81-2.81c.8-.78.8-2.07 0-2.86zM5.41 20L4 18.59l7.72-7.72 1.47 1.35L5.41 20z\"/>\n",
              "  </svg>\n",
              "      </button>\n",
              "      \n",
              "  <style>\n",
              "    .colab-df-container {\n",
              "      display:flex;\n",
              "      flex-wrap:wrap;\n",
              "      gap: 12px;\n",
              "    }\n",
              "\n",
              "    .colab-df-convert {\n",
              "      background-color: #E8F0FE;\n",
              "      border: none;\n",
              "      border-radius: 50%;\n",
              "      cursor: pointer;\n",
              "      display: none;\n",
              "      fill: #1967D2;\n",
              "      height: 32px;\n",
              "      padding: 0 0 0 0;\n",
              "      width: 32px;\n",
              "    }\n",
              "\n",
              "    .colab-df-convert:hover {\n",
              "      background-color: #E2EBFA;\n",
              "      box-shadow: 0px 1px 2px rgba(60, 64, 67, 0.3), 0px 1px 3px 1px rgba(60, 64, 67, 0.15);\n",
              "      fill: #174EA6;\n",
              "    }\n",
              "\n",
              "    [theme=dark] .colab-df-convert {\n",
              "      background-color: #3B4455;\n",
              "      fill: #D2E3FC;\n",
              "    }\n",
              "\n",
              "    [theme=dark] .colab-df-convert:hover {\n",
              "      background-color: #434B5C;\n",
              "      box-shadow: 0px 1px 3px 1px rgba(0, 0, 0, 0.15);\n",
              "      filter: drop-shadow(0px 1px 2px rgba(0, 0, 0, 0.3));\n",
              "      fill: #FFFFFF;\n",
              "    }\n",
              "  </style>\n",
              "\n",
              "      <script>\n",
              "        const buttonEl =\n",
              "          document.querySelector('#df-b64caee4-8517-43b5-a5d0-1f3f343c695d button.colab-df-convert');\n",
              "        buttonEl.style.display =\n",
              "          google.colab.kernel.accessAllowed ? 'block' : 'none';\n",
              "\n",
              "        async function convertToInteractive(key) {\n",
              "          const element = document.querySelector('#df-b64caee4-8517-43b5-a5d0-1f3f343c695d');\n",
              "          const dataTable =\n",
              "            await google.colab.kernel.invokeFunction('convertToInteractive',\n",
              "                                                     [key], {});\n",
              "          if (!dataTable) return;\n",
              "\n",
              "          const docLinkHtml = 'Like what you see? Visit the ' +\n",
              "            '<a target=\"_blank\" href=https://colab.research.google.com/notebooks/data_table.ipynb>data table notebook</a>'\n",
              "            + ' to learn more about interactive tables.';\n",
              "          element.innerHTML = '';\n",
              "          dataTable['output_type'] = 'display_data';\n",
              "          await google.colab.output.renderOutput(dataTable, element);\n",
              "          const docLink = document.createElement('div');\n",
              "          docLink.innerHTML = docLinkHtml;\n",
              "          element.appendChild(docLink);\n",
              "        }\n",
              "      </script>\n",
              "    </div>\n",
              "  </div>\n",
              "  "
            ]
          },
          "metadata": {},
          "execution_count": 7
        }
      ],
      "source": [
        "dfestudio"
      ],
      "metadata": {
        "id": "_tcbKmuheSwC",
        "outputId": "1c1773c9-6011-44f1-b062-f3a9aad991d4",
        "colab": {
          "base_uri": "https://localhost:8080/",
          "height": 424
        }
      }
    },
    {
      "cell_type": "code",
      "execution_count": 8,
      "outputs": [
        {
          "output_type": "execute_result",
          "data": {
            "text/plain": [
              "   placeID                            name\n",
              "0   134999                 Kiku Cuernavaca\n",
              "1   132825                 puesto de tacos\n",
              "2   135106      El Rincón de San Francisco\n",
              "3   132667  little pizza Emilio Portes Gil\n",
              "4   132613                   carnitas_mata"
            ],
            "text/html": [
              "\n",
              "  <div id=\"df-0ef46670-b349-4f3d-9701-d105b2c76fd6\">\n",
              "    <div class=\"colab-df-container\">\n",
              "      <div>\n",
              "<style scoped>\n",
              "    .dataframe tbody tr th:only-of-type {\n",
              "        vertical-align: middle;\n",
              "    }\n",
              "\n",
              "    .dataframe tbody tr th {\n",
              "        vertical-align: top;\n",
              "    }\n",
              "\n",
              "    .dataframe thead th {\n",
              "        text-align: right;\n",
              "    }\n",
              "</style>\n",
              "<table border=\"1\" class=\"dataframe\">\n",
              "  <thead>\n",
              "    <tr style=\"text-align: right;\">\n",
              "      <th></th>\n",
              "      <th>placeID</th>\n",
              "      <th>name</th>\n",
              "    </tr>\n",
              "  </thead>\n",
              "  <tbody>\n",
              "    <tr>\n",
              "      <th>0</th>\n",
              "      <td>134999</td>\n",
              "      <td>Kiku Cuernavaca</td>\n",
              "    </tr>\n",
              "    <tr>\n",
              "      <th>1</th>\n",
              "      <td>132825</td>\n",
              "      <td>puesto de tacos</td>\n",
              "    </tr>\n",
              "    <tr>\n",
              "      <th>2</th>\n",
              "      <td>135106</td>\n",
              "      <td>El Rincón de San Francisco</td>\n",
              "    </tr>\n",
              "    <tr>\n",
              "      <th>3</th>\n",
              "      <td>132667</td>\n",
              "      <td>little pizza Emilio Portes Gil</td>\n",
              "    </tr>\n",
              "    <tr>\n",
              "      <th>4</th>\n",
              "      <td>132613</td>\n",
              "      <td>carnitas_mata</td>\n",
              "    </tr>\n",
              "  </tbody>\n",
              "</table>\n",
              "</div>\n",
              "      <button class=\"colab-df-convert\" onclick=\"convertToInteractive('df-0ef46670-b349-4f3d-9701-d105b2c76fd6')\"\n",
              "              title=\"Convert this dataframe to an interactive table.\"\n",
              "              style=\"display:none;\">\n",
              "        \n",
              "  <svg xmlns=\"http://www.w3.org/2000/svg\" height=\"24px\"viewBox=\"0 0 24 24\"\n",
              "       width=\"24px\">\n",
              "    <path d=\"M0 0h24v24H0V0z\" fill=\"none\"/>\n",
              "    <path d=\"M18.56 5.44l.94 2.06.94-2.06 2.06-.94-2.06-.94-.94-2.06-.94 2.06-2.06.94zm-11 1L8.5 8.5l.94-2.06 2.06-.94-2.06-.94L8.5 2.5l-.94 2.06-2.06.94zm10 10l.94 2.06.94-2.06 2.06-.94-2.06-.94-.94-2.06-.94 2.06-2.06.94z\"/><path d=\"M17.41 7.96l-1.37-1.37c-.4-.4-.92-.59-1.43-.59-.52 0-1.04.2-1.43.59L10.3 9.45l-7.72 7.72c-.78.78-.78 2.05 0 2.83L4 21.41c.39.39.9.59 1.41.59.51 0 1.02-.2 1.41-.59l7.78-7.78 2.81-2.81c.8-.78.8-2.07 0-2.86zM5.41 20L4 18.59l7.72-7.72 1.47 1.35L5.41 20z\"/>\n",
              "  </svg>\n",
              "      </button>\n",
              "      \n",
              "  <style>\n",
              "    .colab-df-container {\n",
              "      display:flex;\n",
              "      flex-wrap:wrap;\n",
              "      gap: 12px;\n",
              "    }\n",
              "\n",
              "    .colab-df-convert {\n",
              "      background-color: #E8F0FE;\n",
              "      border: none;\n",
              "      border-radius: 50%;\n",
              "      cursor: pointer;\n",
              "      display: none;\n",
              "      fill: #1967D2;\n",
              "      height: 32px;\n",
              "      padding: 0 0 0 0;\n",
              "      width: 32px;\n",
              "    }\n",
              "\n",
              "    .colab-df-convert:hover {\n",
              "      background-color: #E2EBFA;\n",
              "      box-shadow: 0px 1px 2px rgba(60, 64, 67, 0.3), 0px 1px 3px 1px rgba(60, 64, 67, 0.15);\n",
              "      fill: #174EA6;\n",
              "    }\n",
              "\n",
              "    [theme=dark] .colab-df-convert {\n",
              "      background-color: #3B4455;\n",
              "      fill: #D2E3FC;\n",
              "    }\n",
              "\n",
              "    [theme=dark] .colab-df-convert:hover {\n",
              "      background-color: #434B5C;\n",
              "      box-shadow: 0px 1px 3px 1px rgba(0, 0, 0, 0.15);\n",
              "      filter: drop-shadow(0px 1px 2px rgba(0, 0, 0, 0.3));\n",
              "      fill: #FFFFFF;\n",
              "    }\n",
              "  </style>\n",
              "\n",
              "      <script>\n",
              "        const buttonEl =\n",
              "          document.querySelector('#df-0ef46670-b349-4f3d-9701-d105b2c76fd6 button.colab-df-convert');\n",
              "        buttonEl.style.display =\n",
              "          google.colab.kernel.accessAllowed ? 'block' : 'none';\n",
              "\n",
              "        async function convertToInteractive(key) {\n",
              "          const element = document.querySelector('#df-0ef46670-b349-4f3d-9701-d105b2c76fd6');\n",
              "          const dataTable =\n",
              "            await google.colab.kernel.invokeFunction('convertToInteractive',\n",
              "                                                     [key], {});\n",
              "          if (!dataTable) return;\n",
              "\n",
              "          const docLinkHtml = 'Like what you see? Visit the ' +\n",
              "            '<a target=\"_blank\" href=https://colab.research.google.com/notebooks/data_table.ipynb>data table notebook</a>'\n",
              "            + ' to learn more about interactive tables.';\n",
              "          element.innerHTML = '';\n",
              "          dataTable['output_type'] = 'display_data';\n",
              "          await google.colab.output.renderOutput(dataTable, element);\n",
              "          const docLink = document.createElement('div');\n",
              "          docLink.innerHTML = docLinkHtml;\n",
              "          element.appendChild(docLink);\n",
              "        }\n",
              "      </script>\n",
              "    </div>\n",
              "  </div>\n",
              "  "
            ]
          },
          "metadata": {},
          "execution_count": 8
        }
      ],
      "source": [
        "#Visualizamos la informacion del DF restarurantes\n",
        "restaurantes_nombres = restaurantes[['placeID', 'name']]    # DataFrame\n",
        "restaurantes_nombres.head()"
      ],
      "metadata": {
        "id": "sDGVZVYNeSwC",
        "outputId": "a6ad0142-f0dd-47e3-d85b-c7bf8bb9b93c",
        "colab": {
          "base_uri": "https://localhost:8080/",
          "height": 206
        }
      }
    },
    {
      "cell_type": "code",
      "execution_count": 9,
      "outputs": [
        {
          "output_type": "execute_result",
          "data": {
            "text/plain": [
              "  userID  placeID  rating                    name\n",
              "0  U1077   135085       2  Tortas Locas Hipocampo\n",
              "1  U1108   135085       1  Tortas Locas Hipocampo\n",
              "2  U1081   135085       1  Tortas Locas Hipocampo\n",
              "3  U1056   135085       2  Tortas Locas Hipocampo\n",
              "4  U1134   135085       2  Tortas Locas Hipocampo"
            ],
            "text/html": [
              "\n",
              "  <div id=\"df-ab86209b-2a75-4366-9611-5b76b067fb0d\">\n",
              "    <div class=\"colab-df-container\">\n",
              "      <div>\n",
              "<style scoped>\n",
              "    .dataframe tbody tr th:only-of-type {\n",
              "        vertical-align: middle;\n",
              "    }\n",
              "\n",
              "    .dataframe tbody tr th {\n",
              "        vertical-align: top;\n",
              "    }\n",
              "\n",
              "    .dataframe thead th {\n",
              "        text-align: right;\n",
              "    }\n",
              "</style>\n",
              "<table border=\"1\" class=\"dataframe\">\n",
              "  <thead>\n",
              "    <tr style=\"text-align: right;\">\n",
              "      <th></th>\n",
              "      <th>userID</th>\n",
              "      <th>placeID</th>\n",
              "      <th>rating</th>\n",
              "      <th>name</th>\n",
              "    </tr>\n",
              "  </thead>\n",
              "  <tbody>\n",
              "    <tr>\n",
              "      <th>0</th>\n",
              "      <td>U1077</td>\n",
              "      <td>135085</td>\n",
              "      <td>2</td>\n",
              "      <td>Tortas Locas Hipocampo</td>\n",
              "    </tr>\n",
              "    <tr>\n",
              "      <th>1</th>\n",
              "      <td>U1108</td>\n",
              "      <td>135085</td>\n",
              "      <td>1</td>\n",
              "      <td>Tortas Locas Hipocampo</td>\n",
              "    </tr>\n",
              "    <tr>\n",
              "      <th>2</th>\n",
              "      <td>U1081</td>\n",
              "      <td>135085</td>\n",
              "      <td>1</td>\n",
              "      <td>Tortas Locas Hipocampo</td>\n",
              "    </tr>\n",
              "    <tr>\n",
              "      <th>3</th>\n",
              "      <td>U1056</td>\n",
              "      <td>135085</td>\n",
              "      <td>2</td>\n",
              "      <td>Tortas Locas Hipocampo</td>\n",
              "    </tr>\n",
              "    <tr>\n",
              "      <th>4</th>\n",
              "      <td>U1134</td>\n",
              "      <td>135085</td>\n",
              "      <td>2</td>\n",
              "      <td>Tortas Locas Hipocampo</td>\n",
              "    </tr>\n",
              "  </tbody>\n",
              "</table>\n",
              "</div>\n",
              "      <button class=\"colab-df-convert\" onclick=\"convertToInteractive('df-ab86209b-2a75-4366-9611-5b76b067fb0d')\"\n",
              "              title=\"Convert this dataframe to an interactive table.\"\n",
              "              style=\"display:none;\">\n",
              "        \n",
              "  <svg xmlns=\"http://www.w3.org/2000/svg\" height=\"24px\"viewBox=\"0 0 24 24\"\n",
              "       width=\"24px\">\n",
              "    <path d=\"M0 0h24v24H0V0z\" fill=\"none\"/>\n",
              "    <path d=\"M18.56 5.44l.94 2.06.94-2.06 2.06-.94-2.06-.94-.94-2.06-.94 2.06-2.06.94zm-11 1L8.5 8.5l.94-2.06 2.06-.94-2.06-.94L8.5 2.5l-.94 2.06-2.06.94zm10 10l.94 2.06.94-2.06 2.06-.94-2.06-.94-.94-2.06-.94 2.06-2.06.94z\"/><path d=\"M17.41 7.96l-1.37-1.37c-.4-.4-.92-.59-1.43-.59-.52 0-1.04.2-1.43.59L10.3 9.45l-7.72 7.72c-.78.78-.78 2.05 0 2.83L4 21.41c.39.39.9.59 1.41.59.51 0 1.02-.2 1.41-.59l7.78-7.78 2.81-2.81c.8-.78.8-2.07 0-2.86zM5.41 20L4 18.59l7.72-7.72 1.47 1.35L5.41 20z\"/>\n",
              "  </svg>\n",
              "      </button>\n",
              "      \n",
              "  <style>\n",
              "    .colab-df-container {\n",
              "      display:flex;\n",
              "      flex-wrap:wrap;\n",
              "      gap: 12px;\n",
              "    }\n",
              "\n",
              "    .colab-df-convert {\n",
              "      background-color: #E8F0FE;\n",
              "      border: none;\n",
              "      border-radius: 50%;\n",
              "      cursor: pointer;\n",
              "      display: none;\n",
              "      fill: #1967D2;\n",
              "      height: 32px;\n",
              "      padding: 0 0 0 0;\n",
              "      width: 32px;\n",
              "    }\n",
              "\n",
              "    .colab-df-convert:hover {\n",
              "      background-color: #E2EBFA;\n",
              "      box-shadow: 0px 1px 2px rgba(60, 64, 67, 0.3), 0px 1px 3px 1px rgba(60, 64, 67, 0.15);\n",
              "      fill: #174EA6;\n",
              "    }\n",
              "\n",
              "    [theme=dark] .colab-df-convert {\n",
              "      background-color: #3B4455;\n",
              "      fill: #D2E3FC;\n",
              "    }\n",
              "\n",
              "    [theme=dark] .colab-df-convert:hover {\n",
              "      background-color: #434B5C;\n",
              "      box-shadow: 0px 1px 3px 1px rgba(0, 0, 0, 0.15);\n",
              "      filter: drop-shadow(0px 1px 2px rgba(0, 0, 0, 0.3));\n",
              "      fill: #FFFFFF;\n",
              "    }\n",
              "  </style>\n",
              "\n",
              "      <script>\n",
              "        const buttonEl =\n",
              "          document.querySelector('#df-ab86209b-2a75-4366-9611-5b76b067fb0d button.colab-df-convert');\n",
              "        buttonEl.style.display =\n",
              "          google.colab.kernel.accessAllowed ? 'block' : 'none';\n",
              "\n",
              "        async function convertToInteractive(key) {\n",
              "          const element = document.querySelector('#df-ab86209b-2a75-4366-9611-5b76b067fb0d');\n",
              "          const dataTable =\n",
              "            await google.colab.kernel.invokeFunction('convertToInteractive',\n",
              "                                                     [key], {});\n",
              "          if (!dataTable) return;\n",
              "\n",
              "          const docLinkHtml = 'Like what you see? Visit the ' +\n",
              "            '<a target=\"_blank\" href=https://colab.research.google.com/notebooks/data_table.ipynb>data table notebook</a>'\n",
              "            + ' to learn more about interactive tables.';\n",
              "          element.innerHTML = '';\n",
              "          dataTable['output_type'] = 'display_data';\n",
              "          await google.colab.output.renderOutput(dataTable, element);\n",
              "          const docLink = document.createElement('div');\n",
              "          docLink.innerHTML = docLinkHtml;\n",
              "          element.appendChild(docLink);\n",
              "        }\n",
              "      </script>\n",
              "    </div>\n",
              "  </div>\n",
              "  "
            ]
          },
          "metadata": {},
          "execution_count": 9
        }
      ],
      "source": [
        "#Conjuntamos la información de ambos DF a traves de la información de la columna placeID:\n",
        "tabla_relacionalEstudio1 = pd.merge(dfestudio,restaurantes_nombres, on='placeID')   # dataFrame\n",
        "#Visualizamos los primeros 5 registros\n",
        "tabla_relacionalEstudio1.head()"
      ],
      "metadata": {
        "id": "3SkzL3cveSwC",
        "outputId": "d17d4cf8-b59e-485d-9c4d-42bafecc8441",
        "colab": {
          "base_uri": "https://localhost:8080/",
          "height": 206
        }
      }
    },
    {
      "cell_type": "markdown",
      "source": [
        "### Ejercicio2"
      ],
      "metadata": {
        "collapsed": false,
        "id": "--qAAn-4eSwD"
      }
    },
    {
      "cell_type": "code",
      "execution_count": 10,
      "outputs": [
        {
          "output_type": "execute_result",
          "data": {
            "text/plain": [
              "name    Abondance Restaurante Bar  Arrachela Grill  Cabana Huasteca  \\\n",
              "userID                                                                \n",
              "U1001                           0                0                0   \n",
              "U1002                           0                0                0   \n",
              "U1003                           0                0                2   \n",
              "U1004                           0                0                0   \n",
              "U1005                           0                0                0   \n",
              "U1006                           0                0                0   \n",
              "U1007                           0                0                0   \n",
              "U1008                           1                0                0   \n",
              "U1009                           0                0                1   \n",
              "U1010                           0                0                0   \n",
              "\n",
              "name    Cafe Chaires  Cafeteria cenidet  Cafeteria y Restaurant El Pacifico  \\\n",
              "userID                                                                        \n",
              "U1001              0                  0                                   0   \n",
              "U1002              0                  0                                   0   \n",
              "U1003              0                  0                                   0   \n",
              "U1004              0                  0                                   2   \n",
              "U1005              0                  0                                   2   \n",
              "U1006              1                  0                                   0   \n",
              "U1007              1                  0                                   1   \n",
              "U1008              0                  0                                   0   \n",
              "U1009              0                  0                                   0   \n",
              "U1010              0                  0                                   0   \n",
              "\n",
              "name    Carls Jr  Carnitas Mata  Calle 16 de Septiembre  \\\n",
              "userID                                                    \n",
              "U1001          0                                      0   \n",
              "U1002          0                                      0   \n",
              "U1003          0                                      0   \n",
              "U1004          0                                      0   \n",
              "U1005          0                                      0   \n",
              "U1006          0                                      0   \n",
              "U1007          0                                      0   \n",
              "U1008          0                                      0   \n",
              "U1009          0                                      0   \n",
              "U1010          0                                      0   \n",
              "\n",
              "name    Carreton de Flautas y Migadas  Cenaduria El RincÃ³n de Tlaquepaque  \\\n",
              "userID                                                                       \n",
              "U1001                               0                                    0   \n",
              "U1002                               0                                    0   \n",
              "U1003                               0                                    0   \n",
              "U1004                               0                                    0   \n",
              "U1005                               0                                    0   \n",
              "U1006                               0                                    0   \n",
              "U1007                               0                                    0   \n",
              "U1008                               0                                    0   \n",
              "U1009                               0                                    0   \n",
              "U1010                               0                                    0   \n",
              "\n",
              "name    ...  puesto de tacos  rockabilly   shi ro ie  sirloin stockade  \\\n",
              "userID  ...                                                              \n",
              "U1001   ...                2            0          0                 0   \n",
              "U1002   ...                2            0          0                 0   \n",
              "U1003   ...                2            2          0                 0   \n",
              "U1004   ...                0            0          0                 0   \n",
              "U1005   ...                0            0          0                 0   \n",
              "U1006   ...                1            0          2                 0   \n",
              "U1007   ...                0            0          0                 0   \n",
              "U1008   ...                0            0          0                 0   \n",
              "U1009   ...                1            0          0                 0   \n",
              "U1010   ...                0            0          0                 0   \n",
              "\n",
              "name    tacos abi  tacos de barbacoa enfrente del Tec  tacos de la estacion  \\\n",
              "userID                                                                        \n",
              "U1001           0                                   0                     0   \n",
              "U1002           0                                   0                     0   \n",
              "U1003           0                                   0                     0   \n",
              "U1004           0                                   0                     0   \n",
              "U1005           0                                   0                     0   \n",
              "U1006           0                                   0                     0   \n",
              "U1007           0                                   0                     0   \n",
              "U1008           0                                   0                     0   \n",
              "U1009           0                                   0                     0   \n",
              "U1010           0                                   0                     0   \n",
              "\n",
              "name    tacos los volcanes  tortas hawai  vips  \n",
              "userID                                          \n",
              "U1001                    0             0     0  \n",
              "U1002                    0             0     0  \n",
              "U1003                    0             0     0  \n",
              "U1004                    2             0     0  \n",
              "U1005                    0             0     0  \n",
              "U1006                    0             0     0  \n",
              "U1007                    0             0     0  \n",
              "U1008                    0             0     0  \n",
              "U1009                    0             0     0  \n",
              "U1010                    0             0     0  \n",
              "\n",
              "[10 rows x 129 columns]"
            ],
            "text/html": [
              "\n",
              "  <div id=\"df-fd749196-7219-4011-8034-c513312ded21\">\n",
              "    <div class=\"colab-df-container\">\n",
              "      <div>\n",
              "<style scoped>\n",
              "    .dataframe tbody tr th:only-of-type {\n",
              "        vertical-align: middle;\n",
              "    }\n",
              "\n",
              "    .dataframe tbody tr th {\n",
              "        vertical-align: top;\n",
              "    }\n",
              "\n",
              "    .dataframe thead th {\n",
              "        text-align: right;\n",
              "    }\n",
              "</style>\n",
              "<table border=\"1\" class=\"dataframe\">\n",
              "  <thead>\n",
              "    <tr style=\"text-align: right;\">\n",
              "      <th>name</th>\n",
              "      <th>Abondance Restaurante Bar</th>\n",
              "      <th>Arrachela Grill</th>\n",
              "      <th>Cabana Huasteca</th>\n",
              "      <th>Cafe Chaires</th>\n",
              "      <th>Cafeteria cenidet</th>\n",
              "      <th>Cafeteria y Restaurant El Pacifico</th>\n",
              "      <th>Carls Jr</th>\n",
              "      <th>Carnitas Mata  Calle 16 de Septiembre</th>\n",
              "      <th>Carreton de Flautas y Migadas</th>\n",
              "      <th>Cenaduria El RincÃ³n de Tlaquepaque</th>\n",
              "      <th>...</th>\n",
              "      <th>puesto de tacos</th>\n",
              "      <th>rockabilly</th>\n",
              "      <th>shi ro ie</th>\n",
              "      <th>sirloin stockade</th>\n",
              "      <th>tacos abi</th>\n",
              "      <th>tacos de barbacoa enfrente del Tec</th>\n",
              "      <th>tacos de la estacion</th>\n",
              "      <th>tacos los volcanes</th>\n",
              "      <th>tortas hawai</th>\n",
              "      <th>vips</th>\n",
              "    </tr>\n",
              "    <tr>\n",
              "      <th>userID</th>\n",
              "      <th></th>\n",
              "      <th></th>\n",
              "      <th></th>\n",
              "      <th></th>\n",
              "      <th></th>\n",
              "      <th></th>\n",
              "      <th></th>\n",
              "      <th></th>\n",
              "      <th></th>\n",
              "      <th></th>\n",
              "      <th></th>\n",
              "      <th></th>\n",
              "      <th></th>\n",
              "      <th></th>\n",
              "      <th></th>\n",
              "      <th></th>\n",
              "      <th></th>\n",
              "      <th></th>\n",
              "      <th></th>\n",
              "      <th></th>\n",
              "      <th></th>\n",
              "    </tr>\n",
              "  </thead>\n",
              "  <tbody>\n",
              "    <tr>\n",
              "      <th>U1001</th>\n",
              "      <td>0</td>\n",
              "      <td>0</td>\n",
              "      <td>0</td>\n",
              "      <td>0</td>\n",
              "      <td>0</td>\n",
              "      <td>0</td>\n",
              "      <td>0</td>\n",
              "      <td>0</td>\n",
              "      <td>0</td>\n",
              "      <td>0</td>\n",
              "      <td>...</td>\n",
              "      <td>2</td>\n",
              "      <td>0</td>\n",
              "      <td>0</td>\n",
              "      <td>0</td>\n",
              "      <td>0</td>\n",
              "      <td>0</td>\n",
              "      <td>0</td>\n",
              "      <td>0</td>\n",
              "      <td>0</td>\n",
              "      <td>0</td>\n",
              "    </tr>\n",
              "    <tr>\n",
              "      <th>U1002</th>\n",
              "      <td>0</td>\n",
              "      <td>0</td>\n",
              "      <td>0</td>\n",
              "      <td>0</td>\n",
              "      <td>0</td>\n",
              "      <td>0</td>\n",
              "      <td>0</td>\n",
              "      <td>0</td>\n",
              "      <td>0</td>\n",
              "      <td>0</td>\n",
              "      <td>...</td>\n",
              "      <td>2</td>\n",
              "      <td>0</td>\n",
              "      <td>0</td>\n",
              "      <td>0</td>\n",
              "      <td>0</td>\n",
              "      <td>0</td>\n",
              "      <td>0</td>\n",
              "      <td>0</td>\n",
              "      <td>0</td>\n",
              "      <td>0</td>\n",
              "    </tr>\n",
              "    <tr>\n",
              "      <th>U1003</th>\n",
              "      <td>0</td>\n",
              "      <td>0</td>\n",
              "      <td>2</td>\n",
              "      <td>0</td>\n",
              "      <td>0</td>\n",
              "      <td>0</td>\n",
              "      <td>0</td>\n",
              "      <td>0</td>\n",
              "      <td>0</td>\n",
              "      <td>0</td>\n",
              "      <td>...</td>\n",
              "      <td>2</td>\n",
              "      <td>2</td>\n",
              "      <td>0</td>\n",
              "      <td>0</td>\n",
              "      <td>0</td>\n",
              "      <td>0</td>\n",
              "      <td>0</td>\n",
              "      <td>0</td>\n",
              "      <td>0</td>\n",
              "      <td>0</td>\n",
              "    </tr>\n",
              "    <tr>\n",
              "      <th>U1004</th>\n",
              "      <td>0</td>\n",
              "      <td>0</td>\n",
              "      <td>0</td>\n",
              "      <td>0</td>\n",
              "      <td>0</td>\n",
              "      <td>2</td>\n",
              "      <td>0</td>\n",
              "      <td>0</td>\n",
              "      <td>0</td>\n",
              "      <td>0</td>\n",
              "      <td>...</td>\n",
              "      <td>0</td>\n",
              "      <td>0</td>\n",
              "      <td>0</td>\n",
              "      <td>0</td>\n",
              "      <td>0</td>\n",
              "      <td>0</td>\n",
              "      <td>0</td>\n",
              "      <td>2</td>\n",
              "      <td>0</td>\n",
              "      <td>0</td>\n",
              "    </tr>\n",
              "    <tr>\n",
              "      <th>U1005</th>\n",
              "      <td>0</td>\n",
              "      <td>0</td>\n",
              "      <td>0</td>\n",
              "      <td>0</td>\n",
              "      <td>0</td>\n",
              "      <td>2</td>\n",
              "      <td>0</td>\n",
              "      <td>0</td>\n",
              "      <td>0</td>\n",
              "      <td>0</td>\n",
              "      <td>...</td>\n",
              "      <td>0</td>\n",
              "      <td>0</td>\n",
              "      <td>0</td>\n",
              "      <td>0</td>\n",
              "      <td>0</td>\n",
              "      <td>0</td>\n",
              "      <td>0</td>\n",
              "      <td>0</td>\n",
              "      <td>0</td>\n",
              "      <td>0</td>\n",
              "    </tr>\n",
              "    <tr>\n",
              "      <th>U1006</th>\n",
              "      <td>0</td>\n",
              "      <td>0</td>\n",
              "      <td>0</td>\n",
              "      <td>1</td>\n",
              "      <td>0</td>\n",
              "      <td>0</td>\n",
              "      <td>0</td>\n",
              "      <td>0</td>\n",
              "      <td>0</td>\n",
              "      <td>0</td>\n",
              "      <td>...</td>\n",
              "      <td>1</td>\n",
              "      <td>0</td>\n",
              "      <td>2</td>\n",
              "      <td>0</td>\n",
              "      <td>0</td>\n",
              "      <td>0</td>\n",
              "      <td>0</td>\n",
              "      <td>0</td>\n",
              "      <td>0</td>\n",
              "      <td>0</td>\n",
              "    </tr>\n",
              "    <tr>\n",
              "      <th>U1007</th>\n",
              "      <td>0</td>\n",
              "      <td>0</td>\n",
              "      <td>0</td>\n",
              "      <td>1</td>\n",
              "      <td>0</td>\n",
              "      <td>1</td>\n",
              "      <td>0</td>\n",
              "      <td>0</td>\n",
              "      <td>0</td>\n",
              "      <td>0</td>\n",
              "      <td>...</td>\n",
              "      <td>0</td>\n",
              "      <td>0</td>\n",
              "      <td>0</td>\n",
              "      <td>0</td>\n",
              "      <td>0</td>\n",
              "      <td>0</td>\n",
              "      <td>0</td>\n",
              "      <td>0</td>\n",
              "      <td>0</td>\n",
              "      <td>0</td>\n",
              "    </tr>\n",
              "    <tr>\n",
              "      <th>U1008</th>\n",
              "      <td>1</td>\n",
              "      <td>0</td>\n",
              "      <td>0</td>\n",
              "      <td>0</td>\n",
              "      <td>0</td>\n",
              "      <td>0</td>\n",
              "      <td>0</td>\n",
              "      <td>0</td>\n",
              "      <td>0</td>\n",
              "      <td>0</td>\n",
              "      <td>...</td>\n",
              "      <td>0</td>\n",
              "      <td>0</td>\n",
              "      <td>0</td>\n",
              "      <td>0</td>\n",
              "      <td>0</td>\n",
              "      <td>0</td>\n",
              "      <td>0</td>\n",
              "      <td>0</td>\n",
              "      <td>0</td>\n",
              "      <td>0</td>\n",
              "    </tr>\n",
              "    <tr>\n",
              "      <th>U1009</th>\n",
              "      <td>0</td>\n",
              "      <td>0</td>\n",
              "      <td>1</td>\n",
              "      <td>0</td>\n",
              "      <td>0</td>\n",
              "      <td>0</td>\n",
              "      <td>0</td>\n",
              "      <td>0</td>\n",
              "      <td>0</td>\n",
              "      <td>0</td>\n",
              "      <td>...</td>\n",
              "      <td>1</td>\n",
              "      <td>0</td>\n",
              "      <td>0</td>\n",
              "      <td>0</td>\n",
              "      <td>0</td>\n",
              "      <td>0</td>\n",
              "      <td>0</td>\n",
              "      <td>0</td>\n",
              "      <td>0</td>\n",
              "      <td>0</td>\n",
              "    </tr>\n",
              "    <tr>\n",
              "      <th>U1010</th>\n",
              "      <td>0</td>\n",
              "      <td>0</td>\n",
              "      <td>0</td>\n",
              "      <td>0</td>\n",
              "      <td>0</td>\n",
              "      <td>0</td>\n",
              "      <td>0</td>\n",
              "      <td>0</td>\n",
              "      <td>0</td>\n",
              "      <td>0</td>\n",
              "      <td>...</td>\n",
              "      <td>0</td>\n",
              "      <td>0</td>\n",
              "      <td>0</td>\n",
              "      <td>0</td>\n",
              "      <td>0</td>\n",
              "      <td>0</td>\n",
              "      <td>0</td>\n",
              "      <td>0</td>\n",
              "      <td>0</td>\n",
              "      <td>0</td>\n",
              "    </tr>\n",
              "  </tbody>\n",
              "</table>\n",
              "<p>10 rows × 129 columns</p>\n",
              "</div>\n",
              "      <button class=\"colab-df-convert\" onclick=\"convertToInteractive('df-fd749196-7219-4011-8034-c513312ded21')\"\n",
              "              title=\"Convert this dataframe to an interactive table.\"\n",
              "              style=\"display:none;\">\n",
              "        \n",
              "  <svg xmlns=\"http://www.w3.org/2000/svg\" height=\"24px\"viewBox=\"0 0 24 24\"\n",
              "       width=\"24px\">\n",
              "    <path d=\"M0 0h24v24H0V0z\" fill=\"none\"/>\n",
              "    <path d=\"M18.56 5.44l.94 2.06.94-2.06 2.06-.94-2.06-.94-.94-2.06-.94 2.06-2.06.94zm-11 1L8.5 8.5l.94-2.06 2.06-.94-2.06-.94L8.5 2.5l-.94 2.06-2.06.94zm10 10l.94 2.06.94-2.06 2.06-.94-2.06-.94-.94-2.06-.94 2.06-2.06.94z\"/><path d=\"M17.41 7.96l-1.37-1.37c-.4-.4-.92-.59-1.43-.59-.52 0-1.04.2-1.43.59L10.3 9.45l-7.72 7.72c-.78.78-.78 2.05 0 2.83L4 21.41c.39.39.9.59 1.41.59.51 0 1.02-.2 1.41-.59l7.78-7.78 2.81-2.81c.8-.78.8-2.07 0-2.86zM5.41 20L4 18.59l7.72-7.72 1.47 1.35L5.41 20z\"/>\n",
              "  </svg>\n",
              "      </button>\n",
              "      \n",
              "  <style>\n",
              "    .colab-df-container {\n",
              "      display:flex;\n",
              "      flex-wrap:wrap;\n",
              "      gap: 12px;\n",
              "    }\n",
              "\n",
              "    .colab-df-convert {\n",
              "      background-color: #E8F0FE;\n",
              "      border: none;\n",
              "      border-radius: 50%;\n",
              "      cursor: pointer;\n",
              "      display: none;\n",
              "      fill: #1967D2;\n",
              "      height: 32px;\n",
              "      padding: 0 0 0 0;\n",
              "      width: 32px;\n",
              "    }\n",
              "\n",
              "    .colab-df-convert:hover {\n",
              "      background-color: #E2EBFA;\n",
              "      box-shadow: 0px 1px 2px rgba(60, 64, 67, 0.3), 0px 1px 3px 1px rgba(60, 64, 67, 0.15);\n",
              "      fill: #174EA6;\n",
              "    }\n",
              "\n",
              "    [theme=dark] .colab-df-convert {\n",
              "      background-color: #3B4455;\n",
              "      fill: #D2E3FC;\n",
              "    }\n",
              "\n",
              "    [theme=dark] .colab-df-convert:hover {\n",
              "      background-color: #434B5C;\n",
              "      box-shadow: 0px 1px 3px 1px rgba(0, 0, 0, 0.15);\n",
              "      filter: drop-shadow(0px 1px 2px rgba(0, 0, 0, 0.3));\n",
              "      fill: #FFFFFF;\n",
              "    }\n",
              "  </style>\n",
              "\n",
              "      <script>\n",
              "        const buttonEl =\n",
              "          document.querySelector('#df-fd749196-7219-4011-8034-c513312ded21 button.colab-df-convert');\n",
              "        buttonEl.style.display =\n",
              "          google.colab.kernel.accessAllowed ? 'block' : 'none';\n",
              "\n",
              "        async function convertToInteractive(key) {\n",
              "          const element = document.querySelector('#df-fd749196-7219-4011-8034-c513312ded21');\n",
              "          const dataTable =\n",
              "            await google.colab.kernel.invokeFunction('convertToInteractive',\n",
              "                                                     [key], {});\n",
              "          if (!dataTable) return;\n",
              "\n",
              "          const docLinkHtml = 'Like what you see? Visit the ' +\n",
              "            '<a target=\"_blank\" href=https://colab.research.google.com/notebooks/data_table.ipynb>data table notebook</a>'\n",
              "            + ' to learn more about interactive tables.';\n",
              "          element.innerHTML = '';\n",
              "          dataTable['output_type'] = 'display_data';\n",
              "          await google.colab.output.renderOutput(dataTable, element);\n",
              "          const docLink = document.createElement('div');\n",
              "          docLink.innerHTML = docLinkHtml;\n",
              "          element.appendChild(docLink);\n",
              "        }\n",
              "      </script>\n",
              "    </div>\n",
              "  </div>\n",
              "  "
            ]
          },
          "metadata": {},
          "execution_count": 10
        }
      ],
      "source": [
        "#Generamos la matriz de utilidad que proporciona la evaluación que cada usuario asigna a cada restaurante, se rellena con 0 las celdas sin registro\n",
        "UtMx = tabla_relacionalEstudio1.pivot_table(values='rating', index='userID', columns='name', fill_value=0)\n",
        "\n",
        "UtMx.head(10)"
      ],
      "metadata": {
        "id": "QSacUUSoeSwD",
        "outputId": "2fba2503-ee0e-435d-deba-c0e2f695b1d9",
        "colab": {
          "base_uri": "https://localhost:8080/",
          "height": 557
        }
      }
    },
    {
      "cell_type": "code",
      "execution_count": 11,
      "outputs": [
        {
          "output_type": "execute_result",
          "data": {
            "text/plain": [
              "(138, 129)"
            ]
          },
          "metadata": {},
          "execution_count": 11
        }
      ],
      "source": [
        "#Verificamos dimensiones de la matriz de utilidad\n",
        "UtMx.shape"
      ],
      "metadata": {
        "id": "01haXovOeSwD",
        "outputId": "1e586198-7410-4ede-b8e1-c468575bf1b7",
        "colab": {
          "base_uri": "https://localhost:8080/"
        }
      }
    },
    {
      "cell_type": "markdown",
      "source": [],
      "metadata": {
        "collapsed": false,
        "id": "akLBducqeSwD"
      }
    },
    {
      "cell_type": "code",
      "execution_count": 12,
      "outputs": [
        {
          "output_type": "stream",
          "name": "stdout",
          "text": [
            "Total de elementos de la matriz de utilidad: 17802\n",
            "Total de elementos diferentes de cero: 907\n",
            "Porcentaje de elementos diferentes de cero: 5.1%\n"
          ]
        }
      ],
      "source": [
        "print('Total de elementos de la matriz de utilidad: %d' % (UtMx.size))\n",
        "print('Total de elementos diferentes de cero: %d' % (np.count_nonzero(UtMx)))\n",
        "print('Porcentaje de elementos diferentes de cero: %.1f%%' % (100 * np.count_nonzero(UtMx) / UtMx.size))"
      ],
      "metadata": {
        "id": "Zm0jETPeeSwD",
        "outputId": "7c292b4e-ac0b-4b1d-f2b2-009b2e0f495a",
        "colab": {
          "base_uri": "https://localhost:8080/"
        }
      }
    },
    {
      "cell_type": "code",
      "execution_count": 13,
      "outputs": [
        {
          "output_type": "execute_result",
          "data": {
            "text/plain": [
              "(129, 138)"
            ]
          },
          "metadata": {},
          "execution_count": 13
        }
      ],
      "source": [
        "X = UtMx.T     # Tomamos la traspuesta para que los renglones sean los restaurantes y las columnas los usuarios.\n",
        "X.shape"
      ],
      "metadata": {
        "id": "DiC2DcameSwD",
        "outputId": "001447b5-bdd7-40fd-8218-101b2e1aa0c4",
        "colab": {
          "base_uri": "https://localhost:8080/"
        }
      }
    },
    {
      "cell_type": "code",
      "execution_count": 30,
      "outputs": [
        {
          "output_type": "stream",
          "name": "stdout",
          "text": [
            "Cantidad de  valores singulares obtenidos: 129\n",
            "Cantidad de información simplificada con los primeros 10 vectores singulares:\n",
            "75.6%\n"
          ]
        }
      ],
      "source": [
        "# Obtengamos la cantidad de información contenida en la factorización SVD, considerando\n",
        "# todos los componentes posibles, es decir, todos los valores singulares\n",
        "\n",
        " # El número de componentes debe ser menor que el número de características (features/usuarios), que son 138:\n",
        "SVD = TruncatedSVD(n_components=137, random_state=1)\n",
        "SVD.fit(X)\n",
        "\n",
        "num_sv =10 # En particular los 10 primeros vectores y valores singulares de mayor magnitud tienen esta cantidad de información.\n",
        "\n",
        "print('Cantidad de información simplificada con los primeros %d vectores singulares:' % num_sv)\n",
        "print('%.1f%%' %  (100 * (1- (SVD.singular_values_[0:num_sv]).sum() / (SVD.singular_values_).sum())))"
      ],
      "metadata": {
        "id": "LakaVY-heSwE",
        "outputId": "13257513-b91c-4296-e633-a7ce3154cf5f",
        "colab": {
          "base_uri": "https://localhost:8080/"
        }
      }
    },
    {
      "cell_type": "code",
      "execution_count": 106,
      "outputs": [
        {
          "output_type": "stream",
          "name": "stdout",
          "text": [
            "Cantidad de  valores singulares obtenidos: 129\n"
          ]
        },
        {
          "output_type": "execute_result",
          "data": {
            "text/plain": [
              "(129, 129)"
            ]
          },
          "metadata": {},
          "execution_count": 106
        }
      ],
      "source": [
        "# Usemos las primeras 10 componentes de dicha factorización.\n",
        "# Es decir reducimos la dimensión de la matriz X con solamente sus primeras componentes:\n",
        "\n",
        "num_sv = 137 ### para este primer ejercicio usemos todas\n",
        "\n",
        "SVDT = TruncatedSVD(n_components=num_sv, random_state=1)\n",
        "\n",
        "resultant_matrix = SVDT.fit_transform(X)\n",
        "print('Cantidad de  valores singulares obtenidos:' , round(len(SVDT.singular_values_),2))\n",
        "resultant_matrix.shape"
      ],
      "metadata": {
        "id": "mrQdqC6qeSwE",
        "outputId": "bd973425-f5d9-41d6-f583-bafe31482cc6",
        "colab": {
          "base_uri": "https://localhost:8080/"
        }
      }
    },
    {
      "cell_type": "code",
      "execution_count": 107,
      "outputs": [
        {
          "output_type": "execute_result",
          "data": {
            "text/plain": [
              "(129, 129)"
            ]
          },
          "metadata": {},
          "execution_count": 107
        }
      ],
      "source": [
        "# Obtengamos la matriz de correlación de Pearson entre todas las\n",
        "# variables latentes de las películas:\n",
        "\n",
        "corrMx = np.corrcoef(resultant_matrix, )\n",
        "corrMx.shape"
      ],
      "metadata": {
        "id": "gn3jpTFVeSwE",
        "outputId": "2c1e3097-8826-4161-dc4f-a7775ad5694a",
        "colab": {
          "base_uri": "https://localhost:8080/"
        }
      }
    },
    {
      "cell_type": "markdown",
      "source": [
        "### Ejercicio 3"
      ],
      "metadata": {
        "collapsed": false,
        "id": "cQDo8cEqeSwE"
      }
    },
    {
      "cell_type": "code",
      "execution_count": 108,
      "outputs": [
        {
          "output_type": "execute_result",
          "data": {
            "text/plain": [
              "88"
            ]
          },
          "metadata": {},
          "execution_count": 108
        }
      ],
      "source": [
        "#Revisamos la evaluacion de Subway obteniendo el id dentro de la matriz de utilidad\n",
        "me_gusta = \"Subway\"\n",
        "\n",
        "names = UtMx.columns\n",
        "names_list = list(names)\n",
        "id_megusta = names_list.index(me_gusta)\n",
        "\n",
        "id_megusta"
      ],
      "metadata": {
        "id": "Z9oVuWBmeSwE",
        "outputId": "e7dd2e2d-9623-49f6-ea4f-949841ee86a2",
        "colab": {
          "base_uri": "https://localhost:8080/"
        }
      }
    },
    {
      "cell_type": "code",
      "execution_count": 109,
      "outputs": [
        {
          "output_type": "stream",
          "name": "stdout",
          "text": [
            "(129,)\n",
            "[-7.69028369e-04 -7.87822168e-05 -5.27330975e-03  8.58511349e-04\n",
            " -3.03891148e-03  3.97495832e-05 -1.54820208e-03 -5.29347145e-03\n",
            "  7.27520383e-04 -1.55098452e-03 -1.84483094e-03  3.01090491e-01\n",
            " -3.06938616e-05 -3.66639157e-03 -2.28024815e-03 -1.70971180e-03\n",
            "  2.66961340e-03  4.58467365e-04 -2.11449533e-03 -6.20445134e-03\n",
            "  3.34268563e-03  1.16598607e-01  1.87080102e-03  2.53682556e-03\n",
            " -5.48801141e-03 -2.91288266e-03  2.02825342e-03 -1.36607265e-03\n",
            " -2.01695899e-03  1.12058244e-01 -2.36235727e-03  6.52159239e-04\n",
            "  3.53495770e-03 -3.62793330e-03  1.69065407e-03 -4.51837401e-03\n",
            " -2.09301342e-03  2.34634298e-01 -3.80413494e-03 -5.11845710e-04\n",
            " -2.27148704e-03  3.88178002e-01 -2.07427108e-03 -2.29428835e-03\n",
            "  1.32565455e-03  3.01002479e-01  1.71433518e-01 -3.29715354e-03\n",
            " -4.74480596e-03 -8.02527884e-04 -2.65071452e-03  1.12018889e-01\n",
            " -3.91080724e-03 -2.06369812e-03  1.16008629e-01  2.27855804e-01\n",
            "  4.28342495e-04 -8.69739761e-04  6.09520875e-01 -6.43364064e-03\n",
            "  4.25467169e-01 -2.27256171e-03  4.45920939e-05  5.11279379e-04\n",
            "  2.85149220e-01 -1.90010302e-03 -4.16115194e-03 -5.61375368e-03\n",
            " -2.57693978e-03 -3.72881676e-03 -6.05992942e-03  1.41047150e-03\n",
            " -1.58675476e-04 -1.94116490e-03  2.09955125e-03 -2.10171395e-03\n",
            " -4.38985616e-03 -2.29468299e-03  7.76009788e-04 -2.96124143e-03\n",
            " -2.82046690e-03 -8.57374506e-04 -1.50259308e-03 -3.19597534e-03\n",
            " -2.56400020e-03  4.29823831e-01  4.17218501e-01  3.89064434e-03\n",
            "  1.00000000e+00 -9.93812832e-04  8.60361345e-04 -2.79531559e-03\n",
            "  2.37442956e-04 -3.06216758e-03  1.36462717e-03  2.66480676e-04\n",
            "  2.92661192e-03  5.06277680e-01 -3.20853148e-03 -8.36332065e-04\n",
            " -3.72003822e-03  1.60652886e-03 -1.25997089e-03 -2.57629937e-03\n",
            "  1.70432198e-03 -2.43624453e-03 -1.13863819e-03  1.91200064e-03\n",
            " -3.57766463e-03 -2.41086958e-03 -8.60077590e-03  3.33763511e-03\n",
            "  3.00375655e-03  2.47765536e-03  1.38274830e-03 -1.59646437e-05\n",
            " -8.37066511e-04 -1.73990894e-03 -1.20344221e-03 -3.56656608e-03\n",
            " -2.38089550e-03 -4.91396372e-06 -3.20025066e-03  1.81536303e-03\n",
            "  2.45429531e-03 -2.56625850e-03 -2.88100273e-03 -1.91214767e-03\n",
            "  8.37828947e-04]\n"
          ]
        }
      ],
      "source": [
        "#Visualizamos la correlación de \"Subway\" con todos los demas restaurantes en la matriz\n",
        "corr_recomienda = corrMx[id_megusta]\n",
        "print(corr_recomienda.shape)\n",
        "print(corr_recomienda)"
      ],
      "metadata": {
        "id": "tG0uwVfgeSwF",
        "outputId": "2bb523e2-ef26-46f1-c06a-b08116414660",
        "colab": {
          "base_uri": "https://localhost:8080/"
        }
      }
    },
    {
      "cell_type": "code",
      "execution_count": 110,
      "outputs": [
        {
          "output_type": "execute_result",
          "data": {
            "text/plain": [
              "1.0"
            ]
          },
          "metadata": {},
          "execution_count": 110
        }
      ],
      "source": [
        "#Correlacion del restaurante consigo mismo, se visualiza para estudio y validación que la correlacion con el mismo debe sr igual a 1 o muy proximo a este\n",
        "corr_recomienda[id_megusta]\n"
      ],
      "metadata": {
        "id": "scvp4NYIeSwF",
        "outputId": "1cca27d8-4380-4740-bc34-2ae982940cf0",
        "colab": {
          "base_uri": "https://localhost:8080/"
        }
      }
    },
    {
      "cell_type": "code",
      "execution_count": 111,
      "outputs": [
        {
          "output_type": "stream",
          "name": "stdout",
          "text": [
            "Restaurante Chilis Cuernavaca  | valor correlación:  0.3\n",
            "Restaurante Log Yin  | valor correlación:  0.23\n",
            "Restaurante Mariscos Tia Licha  | valor correlación:  0.39\n",
            "Restaurante Mikasa  | valor correlación:  0.3\n",
            "Restaurante Restaurant Teely  | valor correlación:  0.61\n",
            "Restaurante Restaurant and Bar and Clothesline Carlos N Charlies  | valor correlación:  0.43\n",
            "Restaurante Restaurant los Pinos  | valor correlación:  0.29\n",
            "Restaurante Rincon del Bife  | valor correlación:  0.43\n",
            "Restaurante Sanborns Casa Piedra  | valor correlación:  0.42\n",
            "Restaurante Vips  | valor correlación:  0.51\n"
          ]
        }
      ],
      "source": [
        "#Obtenemos las 10 mejores recomendaciones del modelo de acuerdo a valoraciones buenas a \"Subway\" y agregamos el valor\n",
        "\n",
        "Best10=list(names[(corr_recomienda > .23) & (corr_recomienda < 0.99999)])\n",
        "\n",
        "for pos in Best10:\n",
        " id_otra = names_list.index(pos)\n",
        " print('Restaurante',pos, ' | valor correlación: ', round(corr_recomienda[id_otra],2))\n",
        "\n"
      ],
      "metadata": {
        "id": "UZD4sTGpeSwF",
        "outputId": "6b734b8f-66ba-4c1e-cf5f-0a6999d181f3",
        "colab": {
          "base_uri": "https://localhost:8080/"
        }
      }
    },
    {
      "cell_type": "markdown",
      "source": [
        "### Ejercicio4\n",
        "Busquemosel mejor numerdo de componentes y cuantos usar"
      ],
      "metadata": {
        "collapsed": false,
        "id": "1PcEcyHbeSwF"
      }
    },
    {
      "cell_type": "code",
      "execution_count": 112,
      "outputs": [
        {
          "output_type": "stream",
          "name": "stdout",
          "text": [
            "Dimensiones resultante: (129, 10) \n",
            "\n",
            "Id del resaturante en la matriz:  88 \n",
            "\n",
            "10 mejores recomendaciones\n",
            "\n",
            "Restaurante Chilis Cuernavaca  | valor correlación:  0.3\n",
            "Restaurante Log Yin  | valor correlación:  0.23\n",
            "Restaurante Mariscos Tia Licha  | valor correlación:  0.39\n",
            "Restaurante Mikasa  | valor correlación:  0.3\n",
            "Restaurante Restaurant Teely  | valor correlación:  0.61\n",
            "Restaurante Restaurant and Bar and Clothesline Carlos N Charlies  | valor correlación:  0.43\n",
            "Restaurante Restaurant los Pinos  | valor correlación:  0.29\n",
            "Restaurante Rincon del Bife  | valor correlación:  0.43\n",
            "Restaurante Sanborns Casa Piedra  | valor correlación:  0.42\n",
            "Restaurante Vips  | valor correlación:  0.51\n"
          ]
        }
      ],
      "source": [
        "num_sv =10 #reduscamos la factorizacion a 10 componentes\n",
        "\n",
        "SVD = TruncatedSVD(n_components=num_sv, random_state=1)\n",
        "\n",
        "resultant_matrix = SVD.fit_transform(X)\n",
        "print('Dimensiones resultante:', resultant_matrix.shape, '\\n')\n",
        "\n",
        "me_gusta = \"Subway\"\n",
        "names = UtMx.columns\n",
        "names_list = list(names)\n",
        "id_megusta = names_list.index(me_gusta)\n",
        "\n",
        "print('Id del resaturante en la matriz: ',id_megusta,'\\n')\n",
        "corr_recomienda[id_megusta]\n",
        "mejores10=list(names[(corr_recomienda > .23) & (corr_recomienda < 0.9999)])\n",
        "print('10 mejores recomendaciones\\n')\n",
        "for pos in mejores10:\n",
        " id_otra = names_list.index(pos)\n",
        " print('Restaurante',pos, ' | valor correlación: ', round(corr_recomienda[id_otra],2))"
      ],
      "metadata": {
        "id": "mH-0bv2NeSwF",
        "outputId": "156d45ab-63d8-4090-a6bc-aacf99a616da",
        "colab": {
          "base_uri": "https://localhost:8080/"
        }
      }
    },
    {
      "cell_type": "code",
      "execution_count": 114,
      "outputs": [
        {
          "output_type": "stream",
          "name": "stdout",
          "text": [
            "Numero de Recomandaciones iguales: 10 \n",
            "\n",
            "Cantidad de información simplificada con los primeros 10 vectores singulares:\n",
            "75.6%\n"
          ]
        }
      ],
      "source": [
        "#Obtenemos el numero de recomendaciones iguales respecto a los 10 mejores con todos los componentes\n",
        "#Se obtiene el mismo resutlado con solo 10 componentes\n",
        "print(\"Numero de Recomendaciones iguales:\",len(set(mejores10).intersection(Best10)),'\\n')\n",
        "\n",
        "print('Cantidad de información simplificada con los primeros %d vectores singulares:' % num_sv)\n",
        "print('%.1f%%' %  (100 * (1- (SVDT.singular_values_[0:num_sv]).sum() / (SVDT.singular_values_).sum())))\n"
      ],
      "metadata": {
        "id": "UGbYEUWfeSwF",
        "outputId": "0b39689d-54ad-4440-ab27-65f064a44f4d",
        "colab": {
          "base_uri": "https://localhost:8080/"
        }
      }
    },
    {
      "cell_type": "markdown",
      "source": [
        "### Ejercicio 5"
      ],
      "metadata": {
        "collapsed": false,
        "id": "fk-WgQykeSwG"
      }
    },
    {
      "cell_type": "code",
      "execution_count": 115,
      "outputs": [
        {
          "output_type": "execute_result",
          "data": {
            "text/plain": [
              "(129, 10)"
            ]
          },
          "metadata": {},
          "execution_count": 115
        }
      ],
      "source": [
        "num_sv = 10\n",
        "\n",
        "SVD = TruncatedSVD(n_components=num_sv, random_state=1)\n",
        "\n",
        "resultant_matrix = SVD.fit_transform(X)\n",
        "resultant_matrix.shape"
      ],
      "metadata": {
        "id": "8Eaht3PueSwG",
        "outputId": "13b0a118-80d5-4bee-b5af-94b64f5a4b00",
        "colab": {
          "base_uri": "https://localhost:8080/"
        }
      }
    },
    {
      "cell_type": "code",
      "execution_count": 116,
      "outputs": [
        {
          "output_type": "stream",
          "name": "stdout",
          "text": [
            "Id del restaurante:  124\n"
          ]
        }
      ],
      "source": [
        "#Realizamos nuevamente el ejercicio con el \"restaurante tacos de barbacoa enfrente del Tec\"\n",
        "me_gusta = \"tacos de barbacoa enfrente del Tec\"\n",
        "\n",
        "names = UtMx.columns\n",
        "names_list = list(names)\n",
        "id_megusta = names_list.index(me_gusta)\n",
        "\n",
        "print('Id del restaurante: ',id_megusta)"
      ],
      "metadata": {
        "id": "0I5wsEOteSwG",
        "outputId": "a716890b-bce7-4f26-81ca-cc839aad51e1",
        "colab": {
          "base_uri": "https://localhost:8080/"
        }
      }
    },
    {
      "cell_type": "code",
      "execution_count": 117,
      "outputs": [
        {
          "output_type": "stream",
          "name": "stdout",
          "text": [
            "(129,)\n",
            "[ 1.90365985e-03  1.95018219e-04  1.30535991e-02 -2.12516683e-03\n",
            "  7.52254923e-03 -9.83964813e-05  3.83243356e-03  1.31035076e-02\n",
            "  4.07794920e-01  3.83932123e-03  4.56671136e-03  1.56152873e-03\n",
            "  7.59798653e-05  9.07581917e-03  5.64454708e-03  4.23223620e-03\n",
            " -6.60838540e-03 -1.13489430e-03  5.23424104e-03  1.53585555e-02\n",
            " -8.27451453e-03  4.82434184e-03 -4.63099792e-03 -6.27968115e-03\n",
            "  1.48442849e-01  1.91120451e-01 -5.02075704e-03  3.38158871e-03\n",
            "  4.99279870e-03  5.56810594e-03  5.84780076e-03 -1.61436094e-03\n",
            " -8.75046657e-03  8.98061922e-03 -4.18506052e-03  1.11848243e-02\n",
            "  2.58479385e-01  1.27230718e-02  9.41679037e-03  1.26702755e-03\n",
            "  5.62285977e-03  5.74403685e-03  5.13466958e-03  5.67930233e-03\n",
            " -3.28153738e-03  1.83689220e-03  1.11393805e-02  8.16180397e-03\n",
            "  1.17453360e-02  1.98658485e-03  6.56160293e-03  5.69993965e-03\n",
            "  9.68084797e-03  5.10849717e-03  6.85473722e-03 -3.44059875e-03\n",
            " -1.06032292e-03  2.15296175e-03  1.33109496e-04  1.59258928e-02\n",
            "  6.48831289e-03  5.62552000e-03 -1.10383676e-04 -1.26562564e-03\n",
            " -1.67166776e-03  4.70353236e-03  1.03005535e-02  1.38963371e-02\n",
            "  6.37898026e-03  9.23034706e-03  1.50008046e-02 -3.49149403e-03\n",
            "  3.92786721e-04  4.80517732e-03 -5.19724834e-03  5.20260190e-03\n",
            "  1.08666900e-02  5.68027923e-03 -1.92094172e-03  7.33028407e-03\n",
            "  6.98180953e-03  2.12235268e-03  3.71953264e-03  7.91134654e-03\n",
            "  6.34694950e-03 -5.40898390e-03  4.38279773e-03 -9.63093653e-03\n",
            "  2.45429531e-03  2.46009336e-03 -2.12974633e-03  6.91954973e-03\n",
            "  4.37184208e-01  7.58011759e-03 -3.37801056e-03 -6.59648698e-04\n",
            " -7.24456187e-03  1.54139054e-02  7.94242812e-03  2.07026403e-03\n",
            "  1.70939472e-01  1.70855947e-01  3.11894345e-03  6.37739499e-03\n",
            " -4.21889419e-03  6.03070196e-03  2.81859538e-03 -4.73298386e-03\n",
            "  8.85618371e-03  5.96788857e-03  2.12904392e-02 -8.26201244e-03\n",
            " -7.43552639e-03 -6.13321069e-03  6.53849268e-01  3.95190247e-05\n",
            "  1.95174088e-01  4.30698647e-03  4.12764523e-01  8.82871025e-03\n",
            "  5.89369046e-03  1.21640707e-05  7.92192972e-03  6.65305365e-01\n",
            "  1.00000000e+00  6.35253973e-03  7.13166046e-03  4.73334779e-03\n",
            "  8.17188985e-01]\n"
          ]
        }
      ],
      "source": [
        "corr_recomienda = corrMx[id_megusta]\n",
        "print(corr_recomienda.shape)\n",
        "print(corr_recomienda)"
      ],
      "metadata": {
        "id": "UaJGrLDTeSwG",
        "outputId": "4b5d4eb6-6aa7-4e76-909d-7a46eb0b5780",
        "colab": {
          "base_uri": "https://localhost:8080/"
        }
      }
    },
    {
      "cell_type": "code",
      "execution_count": 118,
      "outputs": [
        {
          "output_type": "execute_result",
          "data": {
            "text/plain": [
              "1.0"
            ]
          },
          "metadata": {},
          "execution_count": 118
        }
      ],
      "source": [
        "#Correlacion del restaurante consigo mismo, se visualiza para estudio y validación que la correlacion con el mismo debe sr igual a 1 o muy proximo a este\n",
        "corr_recomienda[id_megusta]"
      ],
      "metadata": {
        "id": "NmjZqgrzeSwG",
        "outputId": "1763cf5f-82cf-4b55-c055-8871c1b710c1",
        "colab": {
          "base_uri": "https://localhost:8080/"
        }
      }
    },
    {
      "cell_type": "code",
      "execution_count": 119,
      "outputs": [
        {
          "output_type": "stream",
          "name": "stdout",
          "text": [
            "10 mejores recomendaciones\n",
            "\n",
            "Restaurante Carreton de Flautas y Migadas  | valor correlación:  0.41\n",
            "Restaurante Hamburguesas La perica  | valor correlación:  0.19\n",
            "Restaurante Little Cesarz  | valor correlación:  0.26\n",
            "Restaurante Taqueria EL amigo   | valor correlación:  0.44\n",
            "Restaurante carnitas mata calle Emilio Portes Gil  | valor correlación:  0.17\n",
            "Restaurante carnitas_mata  | valor correlación:  0.17\n",
            "Restaurante little pizza Emilio Portes Gil  | valor correlación:  0.65\n",
            "Restaurante palomo tec  | valor correlación:  0.2\n",
            "Restaurante puesto de gorditas  | valor correlación:  0.41\n",
            "Restaurante tacos abi  | valor correlación:  0.67\n",
            "Restaurante vips  | valor correlación:  0.82\n"
          ]
        }
      ],
      "source": [
        "#Obtenemos las 10 mejores recomendaciones de acuerdo a valoracion del restaurante.\n",
        "mejores10T= list(names[(corr_recomienda > .17) & (corr_recomienda < 0.9999999999)])\n",
        "print('10 mejores recomendaciones\\n')\n",
        "for pos in mejores10T:\n",
        " id_otra = names_list.index(pos)\n",
        " print('Restaurante',pos, ' | valor correlación: ', round(corr_recomienda[id_otra],2))"
      ],
      "metadata": {
        "id": "SGX6AUgYeSwG",
        "outputId": "f0d2e412-9fbb-4971-9010-b11131080519",
        "colab": {
          "base_uri": "https://localhost:8080/"
        }
      }
    },
    {
      "cell_type": "markdown",
      "source": [
        "Conclusiones:\n",
        "\n",
        "En la practica de aplicación de SVD para reduccion de la dimensionalidad podemos observar que al reducir la matriz original de información a una de menor dimensión, obtenemos los valores singulares que representan la cantidad de información, en el ejercicio vimos que al usar solo 10 valores singulares, logramos reduccir la cantidad de informacion en un 76%, esta contiene, para este caso, el grado de satisfaccion de los clientes de los restaurantes mencionados, es decir, donde la valoración fue similar, por lo tanto las caracteristicas dentro de esta asociacion representan valores latentes. Pudiimos observar en el ejercicio que para el restaurante \"tacos de barbacoa enfrente del Tec\" se tiene una valoración muy cercana para establecimientos del mismo tipo de comida, por ejemplo, vemos con alta correlaccion, retaurant Vips con 0.82; tacos abi con 0,67; Carreton de flautas y migadas con 0.41 y taqueria el amigo con 0.44. Teniendo en comun que son establecimientos de comida tipica Mexicana, por lo que concluimos que el sistema de recomendacion esta basado en que los usuarios valoraron igual a los restaurantes de acuerdo al mismo tipo de comida."
      ],
      "metadata": {
        "id": "mRRq9WncqZQ3"
      }
    },
    {
      "cell_type": "markdown",
      "source": [
        "### Ejercicio 6"
      ],
      "metadata": {
        "collapsed": false,
        "id": "ZEE2JgireSwH"
      }
    },
    {
      "cell_type": "code",
      "execution_count": null,
      "outputs": [
        {
          "data": {
            "text/plain": "  userID  placeID  food_rating                    name\n0  U1077   135085            2  Tortas Locas Hipocampo\n1  U1108   135085            2  Tortas Locas Hipocampo\n2  U1081   135085            2  Tortas Locas Hipocampo\n3  U1056   135085            2  Tortas Locas Hipocampo\n4  U1134   135085            1  Tortas Locas Hipocampo",
            "text/html": "<div>\n<style scoped>\n    .dataframe tbody tr th:only-of-type {\n        vertical-align: middle;\n    }\n\n    .dataframe tbody tr th {\n        vertical-align: top;\n    }\n\n    .dataframe thead th {\n        text-align: right;\n    }\n</style>\n<table border=\"1\" class=\"dataframe\">\n  <thead>\n    <tr style=\"text-align: right;\">\n      <th></th>\n      <th>userID</th>\n      <th>placeID</th>\n      <th>food_rating</th>\n      <th>name</th>\n    </tr>\n  </thead>\n  <tbody>\n    <tr>\n      <th>0</th>\n      <td>U1077</td>\n      <td>135085</td>\n      <td>2</td>\n      <td>Tortas Locas Hipocampo</td>\n    </tr>\n    <tr>\n      <th>1</th>\n      <td>U1108</td>\n      <td>135085</td>\n      <td>2</td>\n      <td>Tortas Locas Hipocampo</td>\n    </tr>\n    <tr>\n      <th>2</th>\n      <td>U1081</td>\n      <td>135085</td>\n      <td>2</td>\n      <td>Tortas Locas Hipocampo</td>\n    </tr>\n    <tr>\n      <th>3</th>\n      <td>U1056</td>\n      <td>135085</td>\n      <td>2</td>\n      <td>Tortas Locas Hipocampo</td>\n    </tr>\n    <tr>\n      <th>4</th>\n      <td>U1134</td>\n      <td>135085</td>\n      <td>1</td>\n      <td>Tortas Locas Hipocampo</td>\n    </tr>\n  </tbody>\n</table>\n</div>"
          },
          "execution_count": 261,
          "metadata": {},
          "output_type": "execute_result"
        }
      ],
      "source": [
        "dfestudio2=rating[['userID','placeID','food_rating']]\n",
        "tabla_relacionalEstudio2 = pd.merge(dfestudio2,restaurantes_nombres, on='placeID')   # dataFrame\n",
        "\n",
        "tabla_relacionalEstudio2.head()"
      ],
      "metadata": {
        "id": "De0x2OKKeSwI",
        "outputId": "9bfbdb01-706f-4923-cb88-617008fb78c7"
      }
    },
    {
      "cell_type": "markdown",
      "source": [
        "### Ejercicio 6.2"
      ],
      "metadata": {
        "collapsed": false,
        "id": "KL5tJB9DeSwJ"
      }
    },
    {
      "cell_type": "code",
      "execution_count": null,
      "outputs": [
        {
          "data": {
            "text/plain": "name    Abondance Restaurante Bar  Arrachela Grill  Cabana Huasteca  \\\nuserID                                                                \nU1001                           0                0                0   \nU1002                           0                0                0   \nU1003                           0                0                2   \nU1004                           0                0                0   \nU1005                           0                0                0   \nU1006                           0                0                0   \nU1007                           0                0                0   \nU1008                           1                0                0   \nU1009                           0                0                2   \nU1010                           0                0                0   \n\nname    Cafe Chaires  Cafeteria cenidet  Cafeteria y Restaurant El Pacifico  \\\nuserID                                                                        \nU1001              0                  0                                   0   \nU1002              0                  0                                   0   \nU1003              0                  0                                   0   \nU1004              0                  0                                   2   \nU1005              0                  0                                   1   \nU1006              0                  0                                   0   \nU1007              1                  0                                   1   \nU1008              0                  0                                   0   \nU1009              0                  0                                   0   \nU1010              0                  0                                   0   \n\nname    Carls Jr  Carnitas Mata  Calle 16 de Septiembre  \\\nuserID                                                    \nU1001          0                                      0   \nU1002          0                                      0   \nU1003          0                                      0   \nU1004          0                                      0   \nU1005          0                                      0   \nU1006          0                                      0   \nU1007          0                                      0   \nU1008          0                                      0   \nU1009          0                                      0   \nU1010          0                                      0   \n\nname    Carreton de Flautas y Migadas  Cenaduria El RincÃ³n de Tlaquepaque  \\\nuserID                                                                       \nU1001                               0                                    0   \nU1002                               0                                    0   \nU1003                               0                                    0   \nU1004                               0                                    0   \nU1005                               0                                    0   \nU1006                               0                                    0   \nU1007                               0                                    0   \nU1008                               0                                    0   \nU1009                               0                                    0   \nU1010                               0                                    0   \n\nname    ...  puesto de tacos  rockabilly   shi ro ie  sirloin stockade  \\\nuserID  ...                                                              \nU1001   ...                2            0          0                 0   \nU1002   ...                2            0          0                 0   \nU1003   ...                2            2          0                 0   \nU1004   ...                0            0          0                 0   \nU1005   ...                0            0          0                 0   \nU1006   ...                1            0          2                 0   \nU1007   ...                0            0          0                 0   \nU1008   ...                0            0          0                 0   \nU1009   ...                1            0          0                 0   \nU1010   ...                0            0          0                 0   \n\nname    tacos abi  tacos de barbacoa enfrente del Tec  tacos de la estacion  \\\nuserID                                                                        \nU1001           0                                   0                     0   \nU1002           0                                   0                     0   \nU1003           0                                   0                     0   \nU1004           0                                   0                     0   \nU1005           0                                   0                     0   \nU1006           0                                   0                     0   \nU1007           0                                   0                     0   \nU1008           0                                   0                     0   \nU1009           0                                   0                     0   \nU1010           0                                   0                     0   \n\nname    tacos los volcanes  tortas hawai  vips  \nuserID                                          \nU1001                    0             0     0  \nU1002                    0             0     0  \nU1003                    0             0     0  \nU1004                    2             0     0  \nU1005                    0             0     0  \nU1006                    0             0     0  \nU1007                    0             0     0  \nU1008                    0             0     0  \nU1009                    0             0     0  \nU1010                    0             0     0  \n\n[10 rows x 129 columns]",
            "text/html": "<div>\n<style scoped>\n    .dataframe tbody tr th:only-of-type {\n        vertical-align: middle;\n    }\n\n    .dataframe tbody tr th {\n        vertical-align: top;\n    }\n\n    .dataframe thead th {\n        text-align: right;\n    }\n</style>\n<table border=\"1\" class=\"dataframe\">\n  <thead>\n    <tr style=\"text-align: right;\">\n      <th>name</th>\n      <th>Abondance Restaurante Bar</th>\n      <th>Arrachela Grill</th>\n      <th>Cabana Huasteca</th>\n      <th>Cafe Chaires</th>\n      <th>Cafeteria cenidet</th>\n      <th>Cafeteria y Restaurant El Pacifico</th>\n      <th>Carls Jr</th>\n      <th>Carnitas Mata  Calle 16 de Septiembre</th>\n      <th>Carreton de Flautas y Migadas</th>\n      <th>Cenaduria El RincÃ³n de Tlaquepaque</th>\n      <th>...</th>\n      <th>puesto de tacos</th>\n      <th>rockabilly</th>\n      <th>shi ro ie</th>\n      <th>sirloin stockade</th>\n      <th>tacos abi</th>\n      <th>tacos de barbacoa enfrente del Tec</th>\n      <th>tacos de la estacion</th>\n      <th>tacos los volcanes</th>\n      <th>tortas hawai</th>\n      <th>vips</th>\n    </tr>\n    <tr>\n      <th>userID</th>\n      <th></th>\n      <th></th>\n      <th></th>\n      <th></th>\n      <th></th>\n      <th></th>\n      <th></th>\n      <th></th>\n      <th></th>\n      <th></th>\n      <th></th>\n      <th></th>\n      <th></th>\n      <th></th>\n      <th></th>\n      <th></th>\n      <th></th>\n      <th></th>\n      <th></th>\n      <th></th>\n      <th></th>\n    </tr>\n  </thead>\n  <tbody>\n    <tr>\n      <th>U1001</th>\n      <td>0</td>\n      <td>0</td>\n      <td>0</td>\n      <td>0</td>\n      <td>0</td>\n      <td>0</td>\n      <td>0</td>\n      <td>0</td>\n      <td>0</td>\n      <td>0</td>\n      <td>...</td>\n      <td>2</td>\n      <td>0</td>\n      <td>0</td>\n      <td>0</td>\n      <td>0</td>\n      <td>0</td>\n      <td>0</td>\n      <td>0</td>\n      <td>0</td>\n      <td>0</td>\n    </tr>\n    <tr>\n      <th>U1002</th>\n      <td>0</td>\n      <td>0</td>\n      <td>0</td>\n      <td>0</td>\n      <td>0</td>\n      <td>0</td>\n      <td>0</td>\n      <td>0</td>\n      <td>0</td>\n      <td>0</td>\n      <td>...</td>\n      <td>2</td>\n      <td>0</td>\n      <td>0</td>\n      <td>0</td>\n      <td>0</td>\n      <td>0</td>\n      <td>0</td>\n      <td>0</td>\n      <td>0</td>\n      <td>0</td>\n    </tr>\n    <tr>\n      <th>U1003</th>\n      <td>0</td>\n      <td>0</td>\n      <td>2</td>\n      <td>0</td>\n      <td>0</td>\n      <td>0</td>\n      <td>0</td>\n      <td>0</td>\n      <td>0</td>\n      <td>0</td>\n      <td>...</td>\n      <td>2</td>\n      <td>2</td>\n      <td>0</td>\n      <td>0</td>\n      <td>0</td>\n      <td>0</td>\n      <td>0</td>\n      <td>0</td>\n      <td>0</td>\n      <td>0</td>\n    </tr>\n    <tr>\n      <th>U1004</th>\n      <td>0</td>\n      <td>0</td>\n      <td>0</td>\n      <td>0</td>\n      <td>0</td>\n      <td>2</td>\n      <td>0</td>\n      <td>0</td>\n      <td>0</td>\n      <td>0</td>\n      <td>...</td>\n      <td>0</td>\n      <td>0</td>\n      <td>0</td>\n      <td>0</td>\n      <td>0</td>\n      <td>0</td>\n      <td>0</td>\n      <td>2</td>\n      <td>0</td>\n      <td>0</td>\n    </tr>\n    <tr>\n      <th>U1005</th>\n      <td>0</td>\n      <td>0</td>\n      <td>0</td>\n      <td>0</td>\n      <td>0</td>\n      <td>1</td>\n      <td>0</td>\n      <td>0</td>\n      <td>0</td>\n      <td>0</td>\n      <td>...</td>\n      <td>0</td>\n      <td>0</td>\n      <td>0</td>\n      <td>0</td>\n      <td>0</td>\n      <td>0</td>\n      <td>0</td>\n      <td>0</td>\n      <td>0</td>\n      <td>0</td>\n    </tr>\n    <tr>\n      <th>U1006</th>\n      <td>0</td>\n      <td>0</td>\n      <td>0</td>\n      <td>0</td>\n      <td>0</td>\n      <td>0</td>\n      <td>0</td>\n      <td>0</td>\n      <td>0</td>\n      <td>0</td>\n      <td>...</td>\n      <td>1</td>\n      <td>0</td>\n      <td>2</td>\n      <td>0</td>\n      <td>0</td>\n      <td>0</td>\n      <td>0</td>\n      <td>0</td>\n      <td>0</td>\n      <td>0</td>\n    </tr>\n    <tr>\n      <th>U1007</th>\n      <td>0</td>\n      <td>0</td>\n      <td>0</td>\n      <td>1</td>\n      <td>0</td>\n      <td>1</td>\n      <td>0</td>\n      <td>0</td>\n      <td>0</td>\n      <td>0</td>\n      <td>...</td>\n      <td>0</td>\n      <td>0</td>\n      <td>0</td>\n      <td>0</td>\n      <td>0</td>\n      <td>0</td>\n      <td>0</td>\n      <td>0</td>\n      <td>0</td>\n      <td>0</td>\n    </tr>\n    <tr>\n      <th>U1008</th>\n      <td>1</td>\n      <td>0</td>\n      <td>0</td>\n      <td>0</td>\n      <td>0</td>\n      <td>0</td>\n      <td>0</td>\n      <td>0</td>\n      <td>0</td>\n      <td>0</td>\n      <td>...</td>\n      <td>0</td>\n      <td>0</td>\n      <td>0</td>\n      <td>0</td>\n      <td>0</td>\n      <td>0</td>\n      <td>0</td>\n      <td>0</td>\n      <td>0</td>\n      <td>0</td>\n    </tr>\n    <tr>\n      <th>U1009</th>\n      <td>0</td>\n      <td>0</td>\n      <td>2</td>\n      <td>0</td>\n      <td>0</td>\n      <td>0</td>\n      <td>0</td>\n      <td>0</td>\n      <td>0</td>\n      <td>0</td>\n      <td>...</td>\n      <td>1</td>\n      <td>0</td>\n      <td>0</td>\n      <td>0</td>\n      <td>0</td>\n      <td>0</td>\n      <td>0</td>\n      <td>0</td>\n      <td>0</td>\n      <td>0</td>\n    </tr>\n    <tr>\n      <th>U1010</th>\n      <td>0</td>\n      <td>0</td>\n      <td>0</td>\n      <td>0</td>\n      <td>0</td>\n      <td>0</td>\n      <td>0</td>\n      <td>0</td>\n      <td>0</td>\n      <td>0</td>\n      <td>...</td>\n      <td>0</td>\n      <td>0</td>\n      <td>0</td>\n      <td>0</td>\n      <td>0</td>\n      <td>0</td>\n      <td>0</td>\n      <td>0</td>\n      <td>0</td>\n      <td>0</td>\n    </tr>\n  </tbody>\n</table>\n<p>10 rows × 129 columns</p>\n</div>"
          },
          "execution_count": 262,
          "metadata": {},
          "output_type": "execute_result"
        }
      ],
      "source": [
        "UtMx = tabla_relacionalEstudio2.pivot_table(values='food_rating', index='userID', columns='name', fill_value=0)\n",
        "\n",
        "UtMx.head(10)"
      ],
      "metadata": {
        "id": "Ft4l5McseSwJ",
        "outputId": "4083707c-8805-4ad4-e8e7-b4ad4582d4dc"
      }
    },
    {
      "cell_type": "code",
      "execution_count": null,
      "outputs": [
        {
          "data": {
            "text/plain": "(138, 129)"
          },
          "execution_count": 263,
          "metadata": {},
          "output_type": "execute_result"
        }
      ],
      "source": [
        "UtMx.shape"
      ],
      "metadata": {
        "id": "oVMnXIIUeSwJ",
        "outputId": "eff67d1a-7baf-4ee2-f8d6-f1f6c9033bc1"
      }
    },
    {
      "cell_type": "code",
      "execution_count": null,
      "outputs": [
        {
          "name": "stdout",
          "output_type": "stream",
          "text": [
            "Total de elementos de la matriz de utilidad: 17802\n",
            "Total de elementos diferentes de cero: 895\n",
            "Porcentaje de elementos diferentes de cero: 5.0%\n"
          ]
        }
      ],
      "source": [
        "print('Total de elementos de la matriz de utilidad: %d' % (UtMx.size))\n",
        "print('Total de elementos diferentes de cero: %d' % (np.count_nonzero(UtMx)))\n",
        "print('Porcentaje de elementos diferentes de cero: %.1f%%' % (100 * np.count_nonzero(UtMx) / UtMx.size))"
      ],
      "metadata": {
        "id": "gGD4x9lDeSwJ",
        "outputId": "732d248e-bfce-481e-8217-5e975d1401b9"
      }
    },
    {
      "cell_type": "code",
      "execution_count": null,
      "outputs": [
        {
          "data": {
            "text/plain": "(129, 138)"
          },
          "execution_count": 265,
          "metadata": {},
          "output_type": "execute_result"
        }
      ],
      "source": [
        "X = UtMx.T     # Tomamos la traspuesta para que los renglones sean las películas y las columnas los usuarios.\n",
        "X.shape"
      ],
      "metadata": {
        "id": "c3PKhf3IeSwK",
        "outputId": "53d662ea-d580-4730-d6b0-41b3b2d54db6"
      }
    },
    {
      "cell_type": "code",
      "execution_count": null,
      "outputs": [
        {
          "name": "stdout",
          "output_type": "stream",
          "text": [
            "Cantidad de información simplificada con los primeros 10 vectores singulares:\n",
            "75.9%\n"
          ]
        }
      ],
      "source": [
        "# Obtengamos la cantidad de información contenida en la factorización SVD, considerando\n",
        "# los valores singulares más representativos de dicha factorización.\n",
        "# Para este caso inicial usaremos todos los vectores singulares, para luego\n",
        "# compararlo con el caso al reducir su dimensión.\n",
        "\n",
        " # El número de componentes debe ser menor que el número de características (features/usuarios), que son 943:\n",
        "SVD = TruncatedSVD(n_components=137, random_state=1)\n",
        "SVD.fit(X)\n",
        "\n",
        "num_sv =10 # En particular los 10 primeros vectores y valores singulares de mayor magnitud tienen esta cantidad de información.\n",
        "\n",
        "print('Cantidad de información simplificada con los primeros %d vectores singulares:' % num_sv)\n",
        "print('%.1f%%' %  (100 * (1- (SVD.singular_values_[0:num_sv]).sum() / (SVD.singular_values_).sum())))"
      ],
      "metadata": {
        "id": "XTZi8BRteSwK",
        "outputId": "f5971af6-48fc-4f92-f67e-2f4813205761"
      }
    },
    {
      "cell_type": "code",
      "execution_count": null,
      "outputs": [
        {
          "data": {
            "text/plain": "(129, 129)"
          },
          "execution_count": 267,
          "metadata": {},
          "output_type": "execute_result"
        }
      ],
      "source": [
        "num_sv = 137 # para este ejercicio usarems todos\n",
        "\n",
        "SVD = TruncatedSVD(n_components=num_sv, random_state=1)\n",
        "\n",
        "resultant_matrix = SVD.fit_transform(X)\n",
        "resultant_matrix.shape"
      ],
      "metadata": {
        "id": "Ly9A1Yq5eSwK",
        "outputId": "721e8b58-99e0-48be-cbc7-6975b233719e"
      }
    },
    {
      "cell_type": "code",
      "execution_count": null,
      "outputs": [
        {
          "data": {
            "text/plain": "(129, 129)"
          },
          "execution_count": 268,
          "metadata": {},
          "output_type": "execute_result"
        }
      ],
      "source": [
        "corrMx = np.corrcoef(resultant_matrix, )\n",
        "corrMx.shape"
      ],
      "metadata": {
        "id": "WE2zo7aneSwK",
        "outputId": "4e150ddc-2647-4a01-ab61-fb0ca18f77ad"
      }
    },
    {
      "cell_type": "markdown",
      "source": [
        "### Ejercico 6.3"
      ],
      "metadata": {
        "collapsed": false,
        "id": "BMzhTfiJeSwL"
      }
    },
    {
      "cell_type": "code",
      "execution_count": null,
      "outputs": [
        {
          "data": {
            "text/plain": "88"
          },
          "execution_count": 269,
          "metadata": {},
          "output_type": "execute_result"
        }
      ],
      "source": [
        "me_gusta = \"Subway\"\n",
        "\n",
        "names = UtMx.columns\n",
        "names_list = list(names)\n",
        "id_megusta = names_list.index(me_gusta)\n",
        "\n",
        "id_megusta"
      ],
      "metadata": {
        "id": "ykNOTEAZeSwL",
        "outputId": "b630c803-79a8-4369-9cb4-de137faa6153"
      }
    },
    {
      "cell_type": "code",
      "execution_count": null,
      "outputs": [
        {
          "name": "stdout",
          "output_type": "stream",
          "text": [
            "(129,)\n",
            "[-5.06418108e-03  1.53891772e-03 -7.15705294e-03 -7.51437349e-04\n",
            "  3.57844065e-04 -4.27908953e-03 -4.10491062e-03 -8.72391553e-03\n",
            " -5.80659154e-03 -7.37551348e-03 -6.29677017e-03  1.19529006e-03\n",
            " -5.49056441e-03 -6.25106315e-03 -2.26808294e-04  2.26784575e-03\n",
            " -4.97923491e-03 -7.33491870e-03 -5.49091909e-05 -6.54487708e-03\n",
            " -7.17291384e-04  2.31333734e-01 -9.42653806e-04  1.15809414e-03\n",
            " -2.44343966e-03 -2.46720616e-03 -8.43368969e-04 -2.05629573e-03\n",
            " -3.70288596e-03  2.50357400e-01 -5.28927854e-03  2.72981977e-03\n",
            "  4.14365709e-04 -9.51153872e-03  2.32009229e-03 -9.29532082e-03\n",
            " -4.03970901e-03  1.31858098e-01 -8.36645261e-03 -2.30125601e-03\n",
            " -2.61409620e-03  4.15222053e-01  4.25538306e-03  3.02880631e-03\n",
            " -2.46282020e-03  2.09493113e-01  3.12082362e-01 -3.01154158e-03\n",
            " -3.10972278e-04 -1.11824996e-03  8.07121501e-04  2.24213782e-01\n",
            "  2.65096107e-04  6.44807197e-04  2.32708368e-01  3.31706780e-01\n",
            "  6.95063851e-04  3.47994174e-04  8.16413374e-01  1.04699730e-04\n",
            "  4.68949686e-01  4.43119191e-03 -2.79083259e-03 -4.74310321e-03\n",
            "  9.45625400e-02 -4.32375633e-03 -9.91593839e-03  6.59128482e-03\n",
            " -5.26009411e-03 -8.53125476e-03 -1.08456080e-02  5.80519412e-03\n",
            "  3.26361206e-03  1.18239199e-03  1.50584868e-04 -6.05677040e-03\n",
            " -8.57964598e-04 -5.47089297e-04  1.30496863e-03  1.14112586e-03\n",
            " -3.15094052e-03  1.03603724e-02  2.95398913e-03 -9.38144208e-03\n",
            " -6.29169520e-04  3.81819463e-01  3.65656688e-01  4.28784461e-04\n",
            "  1.00000000e+00 -1.99936321e-03 -4.29943952e-03 -9.95112702e-03\n",
            " -6.58885162e-03 -4.81048142e-03 -5.63718446e-03 -1.74366758e-03\n",
            "  3.01538197e-03  4.42147702e-01 -5.86019551e-03 -1.52653108e-03\n",
            " -8.54349820e-03  3.15606317e-03  2.45599865e-04 -4.60337555e-03\n",
            " -7.91423599e-04  8.56988031e-04  1.98632124e-03 -9.14149262e-04\n",
            " -9.63185863e-03 -6.59421891e-03 -3.61768796e-03 -4.98574218e-03\n",
            " -2.08219907e-03 -8.12719293e-04 -2.93115223e-03 -2.83804692e-03\n",
            "  2.86699454e-03 -2.84151084e-04 -6.54974706e-03 -8.56547287e-03\n",
            "  1.73284166e-04 -9.40493206e-03 -7.95661685e-03 -1.05138327e-02\n",
            " -5.78915963e-03 -5.39973770e-03 -7.67089017e-03  6.33375557e-03\n",
            " -2.57101052e-03]\n"
          ]
        }
      ],
      "source": [
        "corr_recomienda = corrMx[id_megusta]\n",
        "print(corr_recomienda.shape)\n",
        "print(corr_recomienda)"
      ],
      "metadata": {
        "id": "AqbZIKxJeSwL",
        "outputId": "06ed5c41-571f-4b54-9eef-d9e2ddc4a655"
      }
    },
    {
      "cell_type": "code",
      "execution_count": null,
      "outputs": [
        {
          "data": {
            "text/plain": "1.0"
          },
          "execution_count": 271,
          "metadata": {},
          "output_type": "execute_result"
        }
      ],
      "source": [
        "corr_recomienda[id_megusta]"
      ],
      "metadata": {
        "id": "zfl465f7eSwL",
        "outputId": "af67c266-48e6-4fff-ca70-abc5f3cac13c"
      }
    },
    {
      "cell_type": "code",
      "execution_count": null,
      "outputs": [
        {
          "data": {
            "text/plain": "['Giovannis',\n 'Kiku Cuernavaca',\n 'Mariscos Tia Licha',\n 'Paniroles',\n 'Restaurant Familiar El Chino',\n 'Restaurant Las Mananitas',\n 'Restaurant Teely',\n 'Restaurant and Bar and Clothesline Carlos N Charlies',\n 'Rincon del Bife',\n 'Sanborns Casa Piedra',\n 'Vips']"
          },
          "execution_count": 272,
          "metadata": {},
          "output_type": "execute_result"
        }
      ],
      "source": [
        "Best10=list(names[(corr_recomienda > .23) & (corr_recomienda < 0.99999)])\n",
        "Best10"
      ],
      "metadata": {
        "id": "axv5vbNweSwL",
        "outputId": "7517ea3f-e348-4434-ebf0-42f8b6f89861"
      }
    },
    {
      "cell_type": "markdown",
      "source": [
        "### Ejercicio 6.4"
      ],
      "metadata": {
        "collapsed": false,
        "id": "Zx7zDZhveSwL"
      }
    },
    {
      "cell_type": "code",
      "execution_count": null,
      "outputs": [
        {
          "data": {
            "text/plain": "['Giovannis',\n 'Kiku Cuernavaca',\n 'Mariscos Tia Licha',\n 'Paniroles',\n 'Restaurant Familiar El Chino',\n 'Restaurant Las Mananitas',\n 'Restaurant Teely',\n 'Restaurant and Bar and Clothesline Carlos N Charlies',\n 'Rincon del Bife',\n 'Sanborns Casa Piedra',\n 'Vips']"
          },
          "execution_count": 273,
          "metadata": {},
          "output_type": "execute_result"
        }
      ],
      "source": [
        "num_sv = 10\n",
        "\n",
        "SVD = TruncatedSVD(n_components=num_sv, random_state=1)\n",
        "\n",
        "resultant_matrix = SVD.fit_transform(X)\n",
        "resultant_matrix.shape\n",
        "\n",
        "me_gusta = \"Subway\"\n",
        "names = UtMx.columns\n",
        "names_list = list(names)\n",
        "id_megusta = names_list.index(me_gusta)\n",
        "\n",
        "id_megusta\n",
        "corr_recomienda[id_megusta]\n",
        "mejores10=list(names[(corr_recomienda > .23) & (corr_recomienda < 0.9999)])\n",
        "mejores10"
      ],
      "metadata": {
        "id": "y2AS2CEXeSwM",
        "outputId": "b3d2e766-2dbe-4d6d-cc33-e9121fd152ad"
      }
    },
    {
      "cell_type": "code",
      "execution_count": null,
      "outputs": [
        {
          "name": "stdout",
          "output_type": "stream",
          "text": [
            "Numero de Recomandaciones iguales: 11\n"
          ]
        }
      ],
      "source": [
        "print(\"Numero de Recomandaciones iguales:\",len(set(mejores10).intersection(Best10)))"
      ],
      "metadata": {
        "id": "W25jo-O8eSwM",
        "outputId": "750e7c29-c58a-4fef-ad37-772f7732d857"
      }
    },
    {
      "cell_type": "markdown",
      "source": [
        "### Ejercicio 7"
      ],
      "metadata": {
        "collapsed": false,
        "id": "epxKL3eUeSwM"
      }
    },
    {
      "cell_type": "code",
      "execution_count": null,
      "outputs": [
        {
          "data": {
            "text/plain": "  userID  placeID  service_rating                    name\n0  U1077   135085               2  Tortas Locas Hipocampo\n1  U1108   135085               1  Tortas Locas Hipocampo\n2  U1081   135085               1  Tortas Locas Hipocampo\n3  U1056   135085               2  Tortas Locas Hipocampo\n4  U1134   135085               2  Tortas Locas Hipocampo",
            "text/html": "<div>\n<style scoped>\n    .dataframe tbody tr th:only-of-type {\n        vertical-align: middle;\n    }\n\n    .dataframe tbody tr th {\n        vertical-align: top;\n    }\n\n    .dataframe thead th {\n        text-align: right;\n    }\n</style>\n<table border=\"1\" class=\"dataframe\">\n  <thead>\n    <tr style=\"text-align: right;\">\n      <th></th>\n      <th>userID</th>\n      <th>placeID</th>\n      <th>service_rating</th>\n      <th>name</th>\n    </tr>\n  </thead>\n  <tbody>\n    <tr>\n      <th>0</th>\n      <td>U1077</td>\n      <td>135085</td>\n      <td>2</td>\n      <td>Tortas Locas Hipocampo</td>\n    </tr>\n    <tr>\n      <th>1</th>\n      <td>U1108</td>\n      <td>135085</td>\n      <td>1</td>\n      <td>Tortas Locas Hipocampo</td>\n    </tr>\n    <tr>\n      <th>2</th>\n      <td>U1081</td>\n      <td>135085</td>\n      <td>1</td>\n      <td>Tortas Locas Hipocampo</td>\n    </tr>\n    <tr>\n      <th>3</th>\n      <td>U1056</td>\n      <td>135085</td>\n      <td>2</td>\n      <td>Tortas Locas Hipocampo</td>\n    </tr>\n    <tr>\n      <th>4</th>\n      <td>U1134</td>\n      <td>135085</td>\n      <td>2</td>\n      <td>Tortas Locas Hipocampo</td>\n    </tr>\n  </tbody>\n</table>\n</div>"
          },
          "execution_count": 275,
          "metadata": {},
          "output_type": "execute_result"
        }
      ],
      "source": [
        "dfestudio3=rating[['userID','placeID','service_rating']]\n",
        "tabla_relacionalEstudio3 = pd.merge(dfestudio3,restaurantes_nombres, on='placeID')   # dataFrame\n",
        "\n",
        "tabla_relacionalEstudio3.head()"
      ],
      "metadata": {
        "id": "PoaW8FMEeSwM",
        "outputId": "8e9271ca-0967-4411-aecc-eb75907c6ec7"
      }
    },
    {
      "cell_type": "markdown",
      "source": [
        "### Ejercico 7.2"
      ],
      "metadata": {
        "collapsed": false,
        "id": "1NFvmW8neSwN"
      }
    },
    {
      "cell_type": "code",
      "execution_count": null,
      "outputs": [
        {
          "data": {
            "text/plain": "name    Abondance Restaurante Bar  Arrachela Grill  Cabana Huasteca  \\\nuserID                                                                \nU1001                           0                0                0   \nU1002                           0                0                0   \nU1003                           0                0                2   \nU1004                           0                0                0   \nU1005                           0                0                0   \nU1006                           0                0                0   \nU1007                           0                0                0   \nU1008                           1                0                0   \nU1009                           0                0                1   \nU1010                           0                0                0   \n\nname    Cafe Chaires  Cafeteria cenidet  Cafeteria y Restaurant El Pacifico  \\\nuserID                                                                        \nU1001              0                  0                                   0   \nU1002              0                  0                                   0   \nU1003              0                  0                                   0   \nU1004              0                  0                                   2   \nU1005              0                  0                                   2   \nU1006              1                  0                                   0   \nU1007              1                  0                                   0   \nU1008              0                  0                                   0   \nU1009              0                  0                                   0   \nU1010              0                  0                                   0   \n\nname    Carls Jr  Carnitas Mata  Calle 16 de Septiembre  \\\nuserID                                                    \nU1001          0                                      0   \nU1002          0                                      0   \nU1003          0                                      0   \nU1004          0                                      0   \nU1005          0                                      0   \nU1006          0                                      0   \nU1007          0                                      0   \nU1008          0                                      0   \nU1009          0                                      0   \nU1010          0                                      0   \n\nname    Carreton de Flautas y Migadas  Cenaduria El RincÃ³n de Tlaquepaque  \\\nuserID                                                                       \nU1001                               0                                    0   \nU1002                               0                                    0   \nU1003                               0                                    0   \nU1004                               0                                    0   \nU1005                               0                                    0   \nU1006                               0                                    0   \nU1007                               0                                    0   \nU1008                               0                                    0   \nU1009                               0                                    0   \nU1010                               0                                    0   \n\nname    ...  puesto de tacos  rockabilly   shi ro ie  sirloin stockade  \\\nuserID  ...                                                              \nU1001   ...                1            0          0                 0   \nU1002   ...                0            0          0                 0   \nU1003   ...                1            1          0                 0   \nU1004   ...                0            0          0                 0   \nU1005   ...                0            0          0                 0   \nU1006   ...                1            0          2                 0   \nU1007   ...                0            0          0                 0   \nU1008   ...                0            0          0                 0   \nU1009   ...                0            0          0                 0   \nU1010   ...                0            0          0                 0   \n\nname    tacos abi  tacos de barbacoa enfrente del Tec  tacos de la estacion  \\\nuserID                                                                        \nU1001           0                                   0                     0   \nU1002           0                                   0                     0   \nU1003           0                                   0                     0   \nU1004           0                                   0                     0   \nU1005           0                                   0                     0   \nU1006           0                                   0                     0   \nU1007           0                                   0                     0   \nU1008           0                                   0                     0   \nU1009           0                                   0                     0   \nU1010           0                                   0                     0   \n\nname    tacos los volcanes  tortas hawai  vips  \nuserID                                          \nU1001                    0             0     0  \nU1002                    0             0     0  \nU1003                    0             0     0  \nU1004                    2             0     0  \nU1005                    0             0     0  \nU1006                    0             0     0  \nU1007                    0             0     0  \nU1008                    0             0     0  \nU1009                    0             0     0  \nU1010                    0             0     0  \n\n[10 rows x 129 columns]",
            "text/html": "<div>\n<style scoped>\n    .dataframe tbody tr th:only-of-type {\n        vertical-align: middle;\n    }\n\n    .dataframe tbody tr th {\n        vertical-align: top;\n    }\n\n    .dataframe thead th {\n        text-align: right;\n    }\n</style>\n<table border=\"1\" class=\"dataframe\">\n  <thead>\n    <tr style=\"text-align: right;\">\n      <th>name</th>\n      <th>Abondance Restaurante Bar</th>\n      <th>Arrachela Grill</th>\n      <th>Cabana Huasteca</th>\n      <th>Cafe Chaires</th>\n      <th>Cafeteria cenidet</th>\n      <th>Cafeteria y Restaurant El Pacifico</th>\n      <th>Carls Jr</th>\n      <th>Carnitas Mata  Calle 16 de Septiembre</th>\n      <th>Carreton de Flautas y Migadas</th>\n      <th>Cenaduria El RincÃ³n de Tlaquepaque</th>\n      <th>...</th>\n      <th>puesto de tacos</th>\n      <th>rockabilly</th>\n      <th>shi ro ie</th>\n      <th>sirloin stockade</th>\n      <th>tacos abi</th>\n      <th>tacos de barbacoa enfrente del Tec</th>\n      <th>tacos de la estacion</th>\n      <th>tacos los volcanes</th>\n      <th>tortas hawai</th>\n      <th>vips</th>\n    </tr>\n    <tr>\n      <th>userID</th>\n      <th></th>\n      <th></th>\n      <th></th>\n      <th></th>\n      <th></th>\n      <th></th>\n      <th></th>\n      <th></th>\n      <th></th>\n      <th></th>\n      <th></th>\n      <th></th>\n      <th></th>\n      <th></th>\n      <th></th>\n      <th></th>\n      <th></th>\n      <th></th>\n      <th></th>\n      <th></th>\n      <th></th>\n    </tr>\n  </thead>\n  <tbody>\n    <tr>\n      <th>U1001</th>\n      <td>0</td>\n      <td>0</td>\n      <td>0</td>\n      <td>0</td>\n      <td>0</td>\n      <td>0</td>\n      <td>0</td>\n      <td>0</td>\n      <td>0</td>\n      <td>0</td>\n      <td>...</td>\n      <td>1</td>\n      <td>0</td>\n      <td>0</td>\n      <td>0</td>\n      <td>0</td>\n      <td>0</td>\n      <td>0</td>\n      <td>0</td>\n      <td>0</td>\n      <td>0</td>\n    </tr>\n    <tr>\n      <th>U1002</th>\n      <td>0</td>\n      <td>0</td>\n      <td>0</td>\n      <td>0</td>\n      <td>0</td>\n      <td>0</td>\n      <td>0</td>\n      <td>0</td>\n      <td>0</td>\n      <td>0</td>\n      <td>...</td>\n      <td>0</td>\n      <td>0</td>\n      <td>0</td>\n      <td>0</td>\n      <td>0</td>\n      <td>0</td>\n      <td>0</td>\n      <td>0</td>\n      <td>0</td>\n      <td>0</td>\n    </tr>\n    <tr>\n      <th>U1003</th>\n      <td>0</td>\n      <td>0</td>\n      <td>2</td>\n      <td>0</td>\n      <td>0</td>\n      <td>0</td>\n      <td>0</td>\n      <td>0</td>\n      <td>0</td>\n      <td>0</td>\n      <td>...</td>\n      <td>1</td>\n      <td>1</td>\n      <td>0</td>\n      <td>0</td>\n      <td>0</td>\n      <td>0</td>\n      <td>0</td>\n      <td>0</td>\n      <td>0</td>\n      <td>0</td>\n    </tr>\n    <tr>\n      <th>U1004</th>\n      <td>0</td>\n      <td>0</td>\n      <td>0</td>\n      <td>0</td>\n      <td>0</td>\n      <td>2</td>\n      <td>0</td>\n      <td>0</td>\n      <td>0</td>\n      <td>0</td>\n      <td>...</td>\n      <td>0</td>\n      <td>0</td>\n      <td>0</td>\n      <td>0</td>\n      <td>0</td>\n      <td>0</td>\n      <td>0</td>\n      <td>2</td>\n      <td>0</td>\n      <td>0</td>\n    </tr>\n    <tr>\n      <th>U1005</th>\n      <td>0</td>\n      <td>0</td>\n      <td>0</td>\n      <td>0</td>\n      <td>0</td>\n      <td>2</td>\n      <td>0</td>\n      <td>0</td>\n      <td>0</td>\n      <td>0</td>\n      <td>...</td>\n      <td>0</td>\n      <td>0</td>\n      <td>0</td>\n      <td>0</td>\n      <td>0</td>\n      <td>0</td>\n      <td>0</td>\n      <td>0</td>\n      <td>0</td>\n      <td>0</td>\n    </tr>\n    <tr>\n      <th>U1006</th>\n      <td>0</td>\n      <td>0</td>\n      <td>0</td>\n      <td>1</td>\n      <td>0</td>\n      <td>0</td>\n      <td>0</td>\n      <td>0</td>\n      <td>0</td>\n      <td>0</td>\n      <td>...</td>\n      <td>1</td>\n      <td>0</td>\n      <td>2</td>\n      <td>0</td>\n      <td>0</td>\n      <td>0</td>\n      <td>0</td>\n      <td>0</td>\n      <td>0</td>\n      <td>0</td>\n    </tr>\n    <tr>\n      <th>U1007</th>\n      <td>0</td>\n      <td>0</td>\n      <td>0</td>\n      <td>1</td>\n      <td>0</td>\n      <td>0</td>\n      <td>0</td>\n      <td>0</td>\n      <td>0</td>\n      <td>0</td>\n      <td>...</td>\n      <td>0</td>\n      <td>0</td>\n      <td>0</td>\n      <td>0</td>\n      <td>0</td>\n      <td>0</td>\n      <td>0</td>\n      <td>0</td>\n      <td>0</td>\n      <td>0</td>\n    </tr>\n    <tr>\n      <th>U1008</th>\n      <td>1</td>\n      <td>0</td>\n      <td>0</td>\n      <td>0</td>\n      <td>0</td>\n      <td>0</td>\n      <td>0</td>\n      <td>0</td>\n      <td>0</td>\n      <td>0</td>\n      <td>...</td>\n      <td>0</td>\n      <td>0</td>\n      <td>0</td>\n      <td>0</td>\n      <td>0</td>\n      <td>0</td>\n      <td>0</td>\n      <td>0</td>\n      <td>0</td>\n      <td>0</td>\n    </tr>\n    <tr>\n      <th>U1009</th>\n      <td>0</td>\n      <td>0</td>\n      <td>1</td>\n      <td>0</td>\n      <td>0</td>\n      <td>0</td>\n      <td>0</td>\n      <td>0</td>\n      <td>0</td>\n      <td>0</td>\n      <td>...</td>\n      <td>0</td>\n      <td>0</td>\n      <td>0</td>\n      <td>0</td>\n      <td>0</td>\n      <td>0</td>\n      <td>0</td>\n      <td>0</td>\n      <td>0</td>\n      <td>0</td>\n    </tr>\n    <tr>\n      <th>U1010</th>\n      <td>0</td>\n      <td>0</td>\n      <td>0</td>\n      <td>0</td>\n      <td>0</td>\n      <td>0</td>\n      <td>0</td>\n      <td>0</td>\n      <td>0</td>\n      <td>0</td>\n      <td>...</td>\n      <td>0</td>\n      <td>0</td>\n      <td>0</td>\n      <td>0</td>\n      <td>0</td>\n      <td>0</td>\n      <td>0</td>\n      <td>0</td>\n      <td>0</td>\n      <td>0</td>\n    </tr>\n  </tbody>\n</table>\n<p>10 rows × 129 columns</p>\n</div>"
          },
          "execution_count": 276,
          "metadata": {},
          "output_type": "execute_result"
        }
      ],
      "source": [
        "UtMx = tabla_relacionalEstudio3.pivot_table(values='service_rating', index='userID', columns='name', fill_value=0)\n",
        "\n",
        "UtMx.head(10)"
      ],
      "metadata": {
        "id": "rUEaAMf-eSwN",
        "outputId": "b7177bbb-98ad-4e77-8569-c7340a74899a"
      }
    },
    {
      "cell_type": "code",
      "execution_count": null,
      "outputs": [
        {
          "data": {
            "text/plain": "(138, 129)"
          },
          "execution_count": 277,
          "metadata": {},
          "output_type": "execute_result"
        }
      ],
      "source": [
        "UtMx.shape"
      ],
      "metadata": {
        "id": "_XHxO8CBeSwN",
        "outputId": "2d11e7fd-9485-4287-90ed-55f3ac0ba47a"
      }
    },
    {
      "cell_type": "code",
      "execution_count": null,
      "outputs": [
        {
          "name": "stdout",
          "output_type": "stream",
          "text": [
            "Total de elementos de la matriz de utilidad: 17802\n",
            "Total de elementos diferentes de cero: 846\n",
            "Porcentaje de elementos diferentes de cero: 4.8%\n"
          ]
        }
      ],
      "source": [
        "print('Total de elementos de la matriz de utilidad: %d' % (UtMx.size))\n",
        "print('Total de elementos diferentes de cero: %d' % (np.count_nonzero(UtMx)))\n",
        "print('Porcentaje de elementos diferentes de cero: %.1f%%' % (100 * np.count_nonzero(UtMx) / UtMx.size))"
      ],
      "metadata": {
        "id": "zJVMXobqeSwN",
        "outputId": "fe27235c-7dbf-47c8-b2f8-f642db6ae954"
      }
    },
    {
      "cell_type": "code",
      "execution_count": null,
      "outputs": [
        {
          "data": {
            "text/plain": "(129, 138)"
          },
          "execution_count": 279,
          "metadata": {},
          "output_type": "execute_result"
        }
      ],
      "source": [
        "X = UtMx.T     # Tomamos la traspuesta para que los renglones sean las películas y las columnas los usuarios.\n",
        "X.shape"
      ],
      "metadata": {
        "id": "1PA4pnmxeSwN",
        "outputId": "760097f9-d16f-41d2-bb9b-4ceba1d7fef5"
      }
    },
    {
      "cell_type": "code",
      "execution_count": null,
      "outputs": [
        {
          "name": "stdout",
          "output_type": "stream",
          "text": [
            "Cantidad de información simplificada con los primeros 10 vectores singulares:\n",
            "75.6%\n"
          ]
        }
      ],
      "source": [
        "# Obtengamos la cantidad de información contenida en la factorización SVD, considerando\n",
        "# los valores singulares más representativos de dicha factorización.\n",
        "# Para este caso inicial usaremos todos los vectores singulares, para luego\n",
        "# compararlo con el caso al reducir su dimensión.\n",
        "\n",
        " # El número de componentes debe ser menor que el número de características (features/usuarios), que son 943:\n",
        "SVD = TruncatedSVD(n_components=137, random_state=1)\n",
        "SVD.fit(X)\n",
        "\n",
        "num_sv =10 # En particular los 10 primeros vectores y valores singulares de mayor magnitud tienen esta cantidad de información.\n",
        "\n",
        "print('Cantidad de información simplificada con los primeros %d vectores singulares:' % num_sv)\n",
        "print('%.1f%%' %  (100 * (1- (SVD.singular_values_[0:num_sv]).sum() / (SVD.singular_values_).sum())))"
      ],
      "metadata": {
        "id": "GkfZvcYieSwN",
        "outputId": "e8494087-6de7-444a-a8fe-27de99ddb1e0"
      }
    },
    {
      "cell_type": "code",
      "execution_count": null,
      "outputs": [
        {
          "data": {
            "text/plain": "(129, 129)"
          },
          "execution_count": 281,
          "metadata": {},
          "output_type": "execute_result"
        }
      ],
      "source": [
        "num_sv = 137\n",
        "\n",
        "SVD = TruncatedSVD(n_components=num_sv, random_state=1)\n",
        "\n",
        "resultant_matrix = SVD.fit_transform(X)\n",
        "resultant_matrix.shape"
      ],
      "metadata": {
        "id": "BjBa4DWeeSwO",
        "outputId": "3e246023-7591-4438-97c6-d45cdec292f6"
      }
    },
    {
      "cell_type": "code",
      "execution_count": null,
      "outputs": [
        {
          "data": {
            "text/plain": "(129, 129)"
          },
          "execution_count": 282,
          "metadata": {},
          "output_type": "execute_result"
        }
      ],
      "source": [
        "corrMx = np.corrcoef(resultant_matrix, )\n",
        "corrMx.shape"
      ],
      "metadata": {
        "id": "GjDr_xbDeSwO",
        "outputId": "2a09810b-5f02-4e62-f603-2f253d1640e8"
      }
    },
    {
      "cell_type": "markdown",
      "source": [
        "### Ejercicio 7.3"
      ],
      "metadata": {
        "collapsed": false,
        "id": "oWgPZWqgeSwO"
      }
    },
    {
      "cell_type": "code",
      "execution_count": null,
      "outputs": [
        {
          "data": {
            "text/plain": "88"
          },
          "execution_count": 283,
          "metadata": {},
          "output_type": "execute_result"
        }
      ],
      "source": [
        "me_gusta = \"Subway\"\n",
        "\n",
        "names = UtMx.columns\n",
        "names_list = list(names)\n",
        "id_megusta = names_list.index(me_gusta)\n",
        "\n",
        "id_megusta"
      ],
      "metadata": {
        "id": "s1X01l3peSwO",
        "outputId": "0266c4d3-bff5-4d26-97e0-2900d68bb61d"
      }
    },
    {
      "cell_type": "code",
      "execution_count": null,
      "outputs": [
        {
          "name": "stdout",
          "output_type": "stream",
          "text": [
            "(129,)\n",
            "[-2.91095724e-04 -3.60361693e-03  4.17542463e-03  5.49600644e-03\n",
            "  8.22025821e-03  9.26584331e-04 -1.84324856e-04  2.08477911e-02\n",
            "  4.16661248e-04  5.49213204e-03 -9.83321202e-03  2.30697829e-01\n",
            " -7.71002964e-04 -7.78964069e-03  4.28478573e-03 -1.96660815e-03\n",
            "  6.46627016e-03  1.22858323e-02  5.23591750e-03 -3.37285475e-03\n",
            "  4.22033518e-03  1.92759594e-01  3.25932626e-03  1.31225788e-02\n",
            "  1.02856131e-02  1.08386707e-02 -2.32136875e-03  9.93522146e-03\n",
            " -8.13035667e-03  1.78740094e-01  1.27492522e-03  4.01749269e-03\n",
            "  9.93395882e-03  1.06861306e-02  1.08193009e-02  6.49374214e-03\n",
            "  2.57816306e-03  1.10159929e-02  1.62133585e-02  9.40455020e-03\n",
            "  1.04115070e-02  1.39761855e-01  4.95429442e-03  1.01065382e-02\n",
            "  7.45513647e-03  1.62758051e-02  3.65933684e-01 -4.53806898e-03\n",
            "  1.94095851e-03  6.28735982e-03  7.08759527e-03  4.35778543e-03\n",
            "  7.61149284e-03  6.86889327e-03  1.82869479e-01  2.26266242e-01\n",
            "  8.41417946e-03 -1.38744406e-02  7.72973139e-01  2.58304203e-04\n",
            "  6.00160625e-01  1.00855481e-02 -8.87397356e-03  5.37102617e-03\n",
            "  9.70530131e-03  7.08173024e-03  8.06957518e-03 -5.45053917e-03\n",
            "  1.25456353e-02  8.27983430e-03  1.25915854e-03  9.13235634e-03\n",
            " -4.90925954e-03 -1.55909907e-03  2.56719712e-04 -6.13210589e-04\n",
            "  2.33141129e-03 -2.84236088e-03  1.34229000e-02  8.54134908e-03\n",
            " -1.95914298e-03 -5.67817255e-03 -1.88379679e-03 -4.53066053e-03\n",
            "  6.90749795e-03  5.18731471e-01  1.27712441e-01  7.79875544e-03\n",
            "  1.00000000e+00  4.34972686e-03  8.04472608e-03  6.45175638e-03\n",
            "  1.22023121e-03 -4.61635454e-03  6.39825008e-03 -3.57085063e-05\n",
            "  1.83854290e-02  4.21199865e-01  1.79626257e-02  1.24610098e-03\n",
            "  1.08222404e-03  4.99735712e-03 -2.30140973e-03  1.04895738e-02\n",
            "  1.77207012e-02  2.00752244e-03  5.47674807e-03  6.21699772e-03\n",
            "  5.79785841e-03  7.94287249e-03 -3.95650667e-03  8.62442429e-04\n",
            "  7.08373006e-03  1.23364795e-02  2.16018684e-04  5.50503399e-03\n",
            "  8.88686634e-03 -2.03244541e-03 -3.76225432e-03 -1.21854452e-03\n",
            "  8.12542032e-03  1.30362979e-02  7.65454017e-03  3.31990513e-03\n",
            "  6.15048940e-03  8.03179308e-03  9.69117004e-03 -1.69077232e-03\n",
            "  6.83466681e-03]\n"
          ]
        }
      ],
      "source": [
        "corr_recomienda = corrMx[id_megusta]\n",
        "print(corr_recomienda.shape)\n",
        "print(corr_recomienda)"
      ],
      "metadata": {
        "id": "GmOyLT24eSwO",
        "outputId": "98da3597-6d95-4c0e-f955-8e32dee13812"
      }
    },
    {
      "cell_type": "code",
      "execution_count": null,
      "outputs": [
        {
          "data": {
            "text/plain": "1.0"
          },
          "execution_count": 285,
          "metadata": {},
          "output_type": "execute_result"
        }
      ],
      "source": [
        "corr_recomienda[id_megusta]"
      ],
      "metadata": {
        "id": "cRe-ytTReSwP",
        "outputId": "d8637571-1ea7-4b16-bba7-a28f9da5a030"
      }
    },
    {
      "cell_type": "code",
      "execution_count": null,
      "outputs": [
        {
          "data": {
            "text/plain": "['Chilis Cuernavaca',\n 'Giovannis',\n 'Kiku Cuernavaca',\n 'Paniroles',\n 'Restaurant Familiar El Chino',\n 'Restaurant Las Mananitas',\n 'Restaurant Teely',\n 'Restaurant and Bar and Clothesline Carlos N Charlies',\n 'Rincon del Bife',\n 'Vips']"
          },
          "execution_count": 286,
          "metadata": {},
          "output_type": "execute_result"
        }
      ],
      "source": [
        "mejores10=list(names[(corr_recomienda > .15) & (corr_recomienda < 0.999999)])\n",
        "mejores10"
      ],
      "metadata": {
        "id": "nVuRgWrueSwQ",
        "outputId": "9a49e64b-ff76-4ab0-fe3b-fdcc2ec267ed"
      }
    },
    {
      "cell_type": "markdown",
      "source": [
        "\n",
        "### Ejercicio 7.4"
      ],
      "metadata": {
        "collapsed": false,
        "id": "Mp7mL4xdeSwR"
      }
    },
    {
      "cell_type": "code",
      "execution_count": null,
      "outputs": [
        {
          "data": {
            "text/plain": "['Chilis Cuernavaca',\n 'Giovannis',\n 'Kiku Cuernavaca',\n 'Paniroles',\n 'Restaurant Familiar El Chino',\n 'Restaurant Las Mananitas',\n 'Restaurant Teely',\n 'Restaurant and Bar and Clothesline Carlos N Charlies',\n 'Rincon del Bife',\n 'Vips']"
          },
          "execution_count": 287,
          "metadata": {},
          "output_type": "execute_result"
        }
      ],
      "source": [
        "num_sv = 10\n",
        "\n",
        "SVD = TruncatedSVD(n_components=num_sv, random_state=1)\n",
        "\n",
        "resultant_matrix = SVD.fit_transform(X)\n",
        "resultant_matrix.shape\n",
        "\n",
        "me_gusta = \"Subway\"\n",
        "names = UtMx.columns\n",
        "names_list = list(names)\n",
        "id_megusta = names_list.index(me_gusta)\n",
        "\n",
        "id_megusta\n",
        "corr_recomienda[id_megusta]\n",
        "Best10=list(names[(corr_recomienda > .15) & (corr_recomienda < .999999)])\n",
        "Best10"
      ],
      "metadata": {
        "id": "woYXBkM_eSwR",
        "outputId": "f06ab783-2ff2-468b-aaaa-26b9b3a5d3a3"
      }
    },
    {
      "cell_type": "code",
      "execution_count": null,
      "outputs": [
        {
          "name": "stdout",
          "output_type": "stream",
          "text": [
            "Numero de Recomandaciones iguales: 10\n"
          ]
        }
      ],
      "source": [
        "print(\"Numero de Recomandaciones iguales:\",len(set(mejores10).intersection(Best10)))"
      ],
      "metadata": {
        "id": "xi6B0fteeSwR",
        "outputId": "262a292a-0a9d-4267-b0c7-c56ea2e99667"
      }
    },
    {
      "cell_type": "markdown",
      "source": [],
      "metadata": {
        "collapsed": false,
        "id": "mt_XXR4TeSwR"
      }
    },
    {
      "cell_type": "markdown",
      "source": [
        "### Conclusiones"
      ],
      "metadata": {
        "collapsed": false,
        "id": "yKdcpOceeSwR"
      }
    },
    {
      "cell_type": "code",
      "execution_count": null,
      "outputs": [],
      "source": [],
      "metadata": {
        "id": "uqxbIdpZeSwR"
      }
    }
  ],
  "metadata": {
    "kernelspec": {
      "display_name": "Python 3",
      "language": "python",
      "name": "python3"
    },
    "language_info": {
      "codemirror_mode": {
        "name": "ipython",
        "version": 2
      },
      "file_extension": ".py",
      "mimetype": "text/x-python",
      "name": "python",
      "nbconvert_exporter": "python",
      "pygments_lexer": "ipython2",
      "version": "2.7.6"
    },
    "colab": {
      "provenance": [],
      "include_colab_link": true
    }
  },
  "nbformat": 4,
  "nbformat_minor": 0
}