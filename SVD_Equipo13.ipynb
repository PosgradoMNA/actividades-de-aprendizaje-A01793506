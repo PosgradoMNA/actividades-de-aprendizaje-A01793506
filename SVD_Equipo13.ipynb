{
  "cells": [
    {
      "cell_type": "markdown",
      "metadata": {
        "id": "view-in-github",
        "colab_type": "text"
      },
      "source": [
        "<a href=\"https://colab.research.google.com/github/PosgradoMNA/actividades-de-aprendizaje-A01793506/blob/main/SVD_Equipo13.ipynb\" target=\"_parent\"><img src=\"https://colab.research.google.com/assets/colab-badge.svg\" alt=\"Open In Colab\"/></a>"
      ]
    },
    {
      "cell_type": "markdown",
      "source": [
        "#**Maestría en Inteligencia Artificial Aplicada**\n",
        "##**Curso: Inteligencia Artificial y Aprendizaje Automático**\n",
        "###Tecnológico de Monterrey\n",
        "###Prof Luis Eduardo Falcón Morales\n",
        "\n",
        "## **Actividad 11 **\n",
        "###**Reduccion de dimensionalidad**\n",
        "**Nombres y matrículas de los integrantes del equipo:**\n",
        "\n",
        "*   Rodrigo Rodriguez Rodriguez A01183284\n",
        "*   Christian Emilio Saldana Lopez A00506509\n",
        "*   Irvin Gomez Esquivel A00361034\n",
        "*   Erick Najera Olivero A01793506"
      ],
      "metadata": {
        "collapsed": false,
        "id": "s3vJPK1ZeSwA"
      }
    },
    {
      "cell_type": "code",
      "execution_count": 189,
      "outputs": [],
      "source": [
        "import numpy as np\n",
        "import pandas as pd\n",
        "\n",
        "from sklearn.decomposition import TruncatedSVD"
      ],
      "metadata": {
        "id": "l_IzjpgDeSwB"
      }
    },
    {
      "cell_type": "markdown",
      "source": [
        "### Ejercicio 1"
      ],
      "metadata": {
        "collapsed": false,
        "id": "3at-BKTSeSwB"
      }
    },
    {
      "cell_type": "code",
      "execution_count": 190,
      "outputs": [],
      "source": [
        "#Cargamos los conjuntos de datos necesarios en dataframes\n",
        "restaurantes = pd.read_csv(\"geoplaces2.csv\", header=0\n",
        "                           , sep=\",\", encoding='latin-1')\n",
        "\n",
        "rating=pd.read_csv(\"rating_final.csv\", header=0, sep=\",\", encoding='latin-1')\n",
        "\n"
      ],
      "metadata": {
        "id": "nmz8VilieSwC"
      }
    },
    {
      "cell_type": "code",
      "execution_count": 191,
      "outputs": [
        {
          "output_type": "stream",
          "name": "stdout",
          "text": [
            "Index(['userID', 'placeID', 'rating'], dtype='object')\n",
            "(1161, 3)\n",
            "<bound method NDFrame.head of      userID  placeID  rating\n",
            "0     U1077   135085       2\n",
            "1     U1077   135038       2\n",
            "2     U1077   132825       2\n",
            "3     U1077   135060       1\n",
            "4     U1068   135104       1\n",
            "...     ...      ...     ...\n",
            "1156  U1043   132630       1\n",
            "1157  U1011   132715       1\n",
            "1158  U1068   132733       1\n",
            "1159  U1068   132594       1\n",
            "1160  U1068   132660       0\n",
            "\n",
            "[1161 rows x 3 columns]>\n"
          ]
        }
      ],
      "source": [
        "#Creamos el DF dfestudio con las columnas del conjunto de datos e rating, visualizamos el tamaño y los registros de DF\n",
        "dfestudio=pd.DataFrame(rating)\n",
        "dfestudio=dfestudio[['userID','placeID','rating']]\n",
        "print(dfestudio.columns)\n",
        "print(dfestudio.shape)\n",
        "print (dfestudio.head)"
      ],
      "metadata": {
        "id": "1pS83LRdeSwC",
        "outputId": "cef584e4-78a8-4d9a-a839-81297d5bc02b",
        "colab": {
          "base_uri": "https://localhost:8080/"
        }
      }
    },
    {
      "cell_type": "code",
      "execution_count": 192,
      "outputs": [
        {
          "output_type": "execute_result",
          "data": {
            "text/plain": [
              "     userID  placeID  rating\n",
              "0     U1077   135085       2\n",
              "1     U1077   135038       2\n",
              "2     U1077   132825       2\n",
              "3     U1077   135060       1\n",
              "4     U1068   135104       1\n",
              "...     ...      ...     ...\n",
              "1156  U1043   132630       1\n",
              "1157  U1011   132715       1\n",
              "1158  U1068   132733       1\n",
              "1159  U1068   132594       1\n",
              "1160  U1068   132660       0\n",
              "\n",
              "[1161 rows x 3 columns]"
            ],
            "text/html": [
              "\n",
              "  <div id=\"df-658f7405-951f-4955-81c0-ea5012492b24\">\n",
              "    <div class=\"colab-df-container\">\n",
              "      <div>\n",
              "<style scoped>\n",
              "    .dataframe tbody tr th:only-of-type {\n",
              "        vertical-align: middle;\n",
              "    }\n",
              "\n",
              "    .dataframe tbody tr th {\n",
              "        vertical-align: top;\n",
              "    }\n",
              "\n",
              "    .dataframe thead th {\n",
              "        text-align: right;\n",
              "    }\n",
              "</style>\n",
              "<table border=\"1\" class=\"dataframe\">\n",
              "  <thead>\n",
              "    <tr style=\"text-align: right;\">\n",
              "      <th></th>\n",
              "      <th>userID</th>\n",
              "      <th>placeID</th>\n",
              "      <th>rating</th>\n",
              "    </tr>\n",
              "  </thead>\n",
              "  <tbody>\n",
              "    <tr>\n",
              "      <th>0</th>\n",
              "      <td>U1077</td>\n",
              "      <td>135085</td>\n",
              "      <td>2</td>\n",
              "    </tr>\n",
              "    <tr>\n",
              "      <th>1</th>\n",
              "      <td>U1077</td>\n",
              "      <td>135038</td>\n",
              "      <td>2</td>\n",
              "    </tr>\n",
              "    <tr>\n",
              "      <th>2</th>\n",
              "      <td>U1077</td>\n",
              "      <td>132825</td>\n",
              "      <td>2</td>\n",
              "    </tr>\n",
              "    <tr>\n",
              "      <th>3</th>\n",
              "      <td>U1077</td>\n",
              "      <td>135060</td>\n",
              "      <td>1</td>\n",
              "    </tr>\n",
              "    <tr>\n",
              "      <th>4</th>\n",
              "      <td>U1068</td>\n",
              "      <td>135104</td>\n",
              "      <td>1</td>\n",
              "    </tr>\n",
              "    <tr>\n",
              "      <th>...</th>\n",
              "      <td>...</td>\n",
              "      <td>...</td>\n",
              "      <td>...</td>\n",
              "    </tr>\n",
              "    <tr>\n",
              "      <th>1156</th>\n",
              "      <td>U1043</td>\n",
              "      <td>132630</td>\n",
              "      <td>1</td>\n",
              "    </tr>\n",
              "    <tr>\n",
              "      <th>1157</th>\n",
              "      <td>U1011</td>\n",
              "      <td>132715</td>\n",
              "      <td>1</td>\n",
              "    </tr>\n",
              "    <tr>\n",
              "      <th>1158</th>\n",
              "      <td>U1068</td>\n",
              "      <td>132733</td>\n",
              "      <td>1</td>\n",
              "    </tr>\n",
              "    <tr>\n",
              "      <th>1159</th>\n",
              "      <td>U1068</td>\n",
              "      <td>132594</td>\n",
              "      <td>1</td>\n",
              "    </tr>\n",
              "    <tr>\n",
              "      <th>1160</th>\n",
              "      <td>U1068</td>\n",
              "      <td>132660</td>\n",
              "      <td>0</td>\n",
              "    </tr>\n",
              "  </tbody>\n",
              "</table>\n",
              "<p>1161 rows × 3 columns</p>\n",
              "</div>\n",
              "      <button class=\"colab-df-convert\" onclick=\"convertToInteractive('df-658f7405-951f-4955-81c0-ea5012492b24')\"\n",
              "              title=\"Convert this dataframe to an interactive table.\"\n",
              "              style=\"display:none;\">\n",
              "        \n",
              "  <svg xmlns=\"http://www.w3.org/2000/svg\" height=\"24px\"viewBox=\"0 0 24 24\"\n",
              "       width=\"24px\">\n",
              "    <path d=\"M0 0h24v24H0V0z\" fill=\"none\"/>\n",
              "    <path d=\"M18.56 5.44l.94 2.06.94-2.06 2.06-.94-2.06-.94-.94-2.06-.94 2.06-2.06.94zm-11 1L8.5 8.5l.94-2.06 2.06-.94-2.06-.94L8.5 2.5l-.94 2.06-2.06.94zm10 10l.94 2.06.94-2.06 2.06-.94-2.06-.94-.94-2.06-.94 2.06-2.06.94z\"/><path d=\"M17.41 7.96l-1.37-1.37c-.4-.4-.92-.59-1.43-.59-.52 0-1.04.2-1.43.59L10.3 9.45l-7.72 7.72c-.78.78-.78 2.05 0 2.83L4 21.41c.39.39.9.59 1.41.59.51 0 1.02-.2 1.41-.59l7.78-7.78 2.81-2.81c.8-.78.8-2.07 0-2.86zM5.41 20L4 18.59l7.72-7.72 1.47 1.35L5.41 20z\"/>\n",
              "  </svg>\n",
              "      </button>\n",
              "      \n",
              "  <style>\n",
              "    .colab-df-container {\n",
              "      display:flex;\n",
              "      flex-wrap:wrap;\n",
              "      gap: 12px;\n",
              "    }\n",
              "\n",
              "    .colab-df-convert {\n",
              "      background-color: #E8F0FE;\n",
              "      border: none;\n",
              "      border-radius: 50%;\n",
              "      cursor: pointer;\n",
              "      display: none;\n",
              "      fill: #1967D2;\n",
              "      height: 32px;\n",
              "      padding: 0 0 0 0;\n",
              "      width: 32px;\n",
              "    }\n",
              "\n",
              "    .colab-df-convert:hover {\n",
              "      background-color: #E2EBFA;\n",
              "      box-shadow: 0px 1px 2px rgba(60, 64, 67, 0.3), 0px 1px 3px 1px rgba(60, 64, 67, 0.15);\n",
              "      fill: #174EA6;\n",
              "    }\n",
              "\n",
              "    [theme=dark] .colab-df-convert {\n",
              "      background-color: #3B4455;\n",
              "      fill: #D2E3FC;\n",
              "    }\n",
              "\n",
              "    [theme=dark] .colab-df-convert:hover {\n",
              "      background-color: #434B5C;\n",
              "      box-shadow: 0px 1px 3px 1px rgba(0, 0, 0, 0.15);\n",
              "      filter: drop-shadow(0px 1px 2px rgba(0, 0, 0, 0.3));\n",
              "      fill: #FFFFFF;\n",
              "    }\n",
              "  </style>\n",
              "\n",
              "      <script>\n",
              "        const buttonEl =\n",
              "          document.querySelector('#df-658f7405-951f-4955-81c0-ea5012492b24 button.colab-df-convert');\n",
              "        buttonEl.style.display =\n",
              "          google.colab.kernel.accessAllowed ? 'block' : 'none';\n",
              "\n",
              "        async function convertToInteractive(key) {\n",
              "          const element = document.querySelector('#df-658f7405-951f-4955-81c0-ea5012492b24');\n",
              "          const dataTable =\n",
              "            await google.colab.kernel.invokeFunction('convertToInteractive',\n",
              "                                                     [key], {});\n",
              "          if (!dataTable) return;\n",
              "\n",
              "          const docLinkHtml = 'Like what you see? Visit the ' +\n",
              "            '<a target=\"_blank\" href=https://colab.research.google.com/notebooks/data_table.ipynb>data table notebook</a>'\n",
              "            + ' to learn more about interactive tables.';\n",
              "          element.innerHTML = '';\n",
              "          dataTable['output_type'] = 'display_data';\n",
              "          await google.colab.output.renderOutput(dataTable, element);\n",
              "          const docLink = document.createElement('div');\n",
              "          docLink.innerHTML = docLinkHtml;\n",
              "          element.appendChild(docLink);\n",
              "        }\n",
              "      </script>\n",
              "    </div>\n",
              "  </div>\n",
              "  "
            ]
          },
          "metadata": {},
          "execution_count": 192
        }
      ],
      "source": [
        "dfestudio"
      ],
      "metadata": {
        "id": "_tcbKmuheSwC",
        "outputId": "63d68efc-cb3c-4134-d031-ae1b0d0b8713",
        "colab": {
          "base_uri": "https://localhost:8080/",
          "height": 424
        }
      }
    },
    {
      "cell_type": "code",
      "execution_count": 193,
      "outputs": [
        {
          "output_type": "execute_result",
          "data": {
            "text/plain": [
              "   placeID                            name\n",
              "0   134999                 Kiku Cuernavaca\n",
              "1   132825                 puesto de tacos\n",
              "2   135106      El Rincón de San Francisco\n",
              "3   132667  little pizza Emilio Portes Gil\n",
              "4   132613                   carnitas_mata"
            ],
            "text/html": [
              "\n",
              "  <div id=\"df-d37e6c10-7e62-439d-af6d-3d33b7d3031a\">\n",
              "    <div class=\"colab-df-container\">\n",
              "      <div>\n",
              "<style scoped>\n",
              "    .dataframe tbody tr th:only-of-type {\n",
              "        vertical-align: middle;\n",
              "    }\n",
              "\n",
              "    .dataframe tbody tr th {\n",
              "        vertical-align: top;\n",
              "    }\n",
              "\n",
              "    .dataframe thead th {\n",
              "        text-align: right;\n",
              "    }\n",
              "</style>\n",
              "<table border=\"1\" class=\"dataframe\">\n",
              "  <thead>\n",
              "    <tr style=\"text-align: right;\">\n",
              "      <th></th>\n",
              "      <th>placeID</th>\n",
              "      <th>name</th>\n",
              "    </tr>\n",
              "  </thead>\n",
              "  <tbody>\n",
              "    <tr>\n",
              "      <th>0</th>\n",
              "      <td>134999</td>\n",
              "      <td>Kiku Cuernavaca</td>\n",
              "    </tr>\n",
              "    <tr>\n",
              "      <th>1</th>\n",
              "      <td>132825</td>\n",
              "      <td>puesto de tacos</td>\n",
              "    </tr>\n",
              "    <tr>\n",
              "      <th>2</th>\n",
              "      <td>135106</td>\n",
              "      <td>El Rincón de San Francisco</td>\n",
              "    </tr>\n",
              "    <tr>\n",
              "      <th>3</th>\n",
              "      <td>132667</td>\n",
              "      <td>little pizza Emilio Portes Gil</td>\n",
              "    </tr>\n",
              "    <tr>\n",
              "      <th>4</th>\n",
              "      <td>132613</td>\n",
              "      <td>carnitas_mata</td>\n",
              "    </tr>\n",
              "  </tbody>\n",
              "</table>\n",
              "</div>\n",
              "      <button class=\"colab-df-convert\" onclick=\"convertToInteractive('df-d37e6c10-7e62-439d-af6d-3d33b7d3031a')\"\n",
              "              title=\"Convert this dataframe to an interactive table.\"\n",
              "              style=\"display:none;\">\n",
              "        \n",
              "  <svg xmlns=\"http://www.w3.org/2000/svg\" height=\"24px\"viewBox=\"0 0 24 24\"\n",
              "       width=\"24px\">\n",
              "    <path d=\"M0 0h24v24H0V0z\" fill=\"none\"/>\n",
              "    <path d=\"M18.56 5.44l.94 2.06.94-2.06 2.06-.94-2.06-.94-.94-2.06-.94 2.06-2.06.94zm-11 1L8.5 8.5l.94-2.06 2.06-.94-2.06-.94L8.5 2.5l-.94 2.06-2.06.94zm10 10l.94 2.06.94-2.06 2.06-.94-2.06-.94-.94-2.06-.94 2.06-2.06.94z\"/><path d=\"M17.41 7.96l-1.37-1.37c-.4-.4-.92-.59-1.43-.59-.52 0-1.04.2-1.43.59L10.3 9.45l-7.72 7.72c-.78.78-.78 2.05 0 2.83L4 21.41c.39.39.9.59 1.41.59.51 0 1.02-.2 1.41-.59l7.78-7.78 2.81-2.81c.8-.78.8-2.07 0-2.86zM5.41 20L4 18.59l7.72-7.72 1.47 1.35L5.41 20z\"/>\n",
              "  </svg>\n",
              "      </button>\n",
              "      \n",
              "  <style>\n",
              "    .colab-df-container {\n",
              "      display:flex;\n",
              "      flex-wrap:wrap;\n",
              "      gap: 12px;\n",
              "    }\n",
              "\n",
              "    .colab-df-convert {\n",
              "      background-color: #E8F0FE;\n",
              "      border: none;\n",
              "      border-radius: 50%;\n",
              "      cursor: pointer;\n",
              "      display: none;\n",
              "      fill: #1967D2;\n",
              "      height: 32px;\n",
              "      padding: 0 0 0 0;\n",
              "      width: 32px;\n",
              "    }\n",
              "\n",
              "    .colab-df-convert:hover {\n",
              "      background-color: #E2EBFA;\n",
              "      box-shadow: 0px 1px 2px rgba(60, 64, 67, 0.3), 0px 1px 3px 1px rgba(60, 64, 67, 0.15);\n",
              "      fill: #174EA6;\n",
              "    }\n",
              "\n",
              "    [theme=dark] .colab-df-convert {\n",
              "      background-color: #3B4455;\n",
              "      fill: #D2E3FC;\n",
              "    }\n",
              "\n",
              "    [theme=dark] .colab-df-convert:hover {\n",
              "      background-color: #434B5C;\n",
              "      box-shadow: 0px 1px 3px 1px rgba(0, 0, 0, 0.15);\n",
              "      filter: drop-shadow(0px 1px 2px rgba(0, 0, 0, 0.3));\n",
              "      fill: #FFFFFF;\n",
              "    }\n",
              "  </style>\n",
              "\n",
              "      <script>\n",
              "        const buttonEl =\n",
              "          document.querySelector('#df-d37e6c10-7e62-439d-af6d-3d33b7d3031a button.colab-df-convert');\n",
              "        buttonEl.style.display =\n",
              "          google.colab.kernel.accessAllowed ? 'block' : 'none';\n",
              "\n",
              "        async function convertToInteractive(key) {\n",
              "          const element = document.querySelector('#df-d37e6c10-7e62-439d-af6d-3d33b7d3031a');\n",
              "          const dataTable =\n",
              "            await google.colab.kernel.invokeFunction('convertToInteractive',\n",
              "                                                     [key], {});\n",
              "          if (!dataTable) return;\n",
              "\n",
              "          const docLinkHtml = 'Like what you see? Visit the ' +\n",
              "            '<a target=\"_blank\" href=https://colab.research.google.com/notebooks/data_table.ipynb>data table notebook</a>'\n",
              "            + ' to learn more about interactive tables.';\n",
              "          element.innerHTML = '';\n",
              "          dataTable['output_type'] = 'display_data';\n",
              "          await google.colab.output.renderOutput(dataTable, element);\n",
              "          const docLink = document.createElement('div');\n",
              "          docLink.innerHTML = docLinkHtml;\n",
              "          element.appendChild(docLink);\n",
              "        }\n",
              "      </script>\n",
              "    </div>\n",
              "  </div>\n",
              "  "
            ]
          },
          "metadata": {},
          "execution_count": 193
        }
      ],
      "source": [
        "#Visualizamos la informacion del DF restarurantes\n",
        "restaurantes_nombres = restaurantes[['placeID', 'name']]    # DataFrame\n",
        "restaurantes_nombres.head()"
      ],
      "metadata": {
        "id": "sDGVZVYNeSwC",
        "outputId": "10897808-7b02-486d-d863-82ada208c4c2",
        "colab": {
          "base_uri": "https://localhost:8080/",
          "height": 206
        }
      }
    },
    {
      "cell_type": "code",
      "execution_count": 194,
      "outputs": [
        {
          "output_type": "execute_result",
          "data": {
            "text/plain": [
              "  userID  placeID  rating                    name\n",
              "0  U1077   135085       2  Tortas Locas Hipocampo\n",
              "1  U1108   135085       1  Tortas Locas Hipocampo\n",
              "2  U1081   135085       1  Tortas Locas Hipocampo\n",
              "3  U1056   135085       2  Tortas Locas Hipocampo\n",
              "4  U1134   135085       2  Tortas Locas Hipocampo"
            ],
            "text/html": [
              "\n",
              "  <div id=\"df-57704987-16ee-4887-9398-e8c31e269cae\">\n",
              "    <div class=\"colab-df-container\">\n",
              "      <div>\n",
              "<style scoped>\n",
              "    .dataframe tbody tr th:only-of-type {\n",
              "        vertical-align: middle;\n",
              "    }\n",
              "\n",
              "    .dataframe tbody tr th {\n",
              "        vertical-align: top;\n",
              "    }\n",
              "\n",
              "    .dataframe thead th {\n",
              "        text-align: right;\n",
              "    }\n",
              "</style>\n",
              "<table border=\"1\" class=\"dataframe\">\n",
              "  <thead>\n",
              "    <tr style=\"text-align: right;\">\n",
              "      <th></th>\n",
              "      <th>userID</th>\n",
              "      <th>placeID</th>\n",
              "      <th>rating</th>\n",
              "      <th>name</th>\n",
              "    </tr>\n",
              "  </thead>\n",
              "  <tbody>\n",
              "    <tr>\n",
              "      <th>0</th>\n",
              "      <td>U1077</td>\n",
              "      <td>135085</td>\n",
              "      <td>2</td>\n",
              "      <td>Tortas Locas Hipocampo</td>\n",
              "    </tr>\n",
              "    <tr>\n",
              "      <th>1</th>\n",
              "      <td>U1108</td>\n",
              "      <td>135085</td>\n",
              "      <td>1</td>\n",
              "      <td>Tortas Locas Hipocampo</td>\n",
              "    </tr>\n",
              "    <tr>\n",
              "      <th>2</th>\n",
              "      <td>U1081</td>\n",
              "      <td>135085</td>\n",
              "      <td>1</td>\n",
              "      <td>Tortas Locas Hipocampo</td>\n",
              "    </tr>\n",
              "    <tr>\n",
              "      <th>3</th>\n",
              "      <td>U1056</td>\n",
              "      <td>135085</td>\n",
              "      <td>2</td>\n",
              "      <td>Tortas Locas Hipocampo</td>\n",
              "    </tr>\n",
              "    <tr>\n",
              "      <th>4</th>\n",
              "      <td>U1134</td>\n",
              "      <td>135085</td>\n",
              "      <td>2</td>\n",
              "      <td>Tortas Locas Hipocampo</td>\n",
              "    </tr>\n",
              "  </tbody>\n",
              "</table>\n",
              "</div>\n",
              "      <button class=\"colab-df-convert\" onclick=\"convertToInteractive('df-57704987-16ee-4887-9398-e8c31e269cae')\"\n",
              "              title=\"Convert this dataframe to an interactive table.\"\n",
              "              style=\"display:none;\">\n",
              "        \n",
              "  <svg xmlns=\"http://www.w3.org/2000/svg\" height=\"24px\"viewBox=\"0 0 24 24\"\n",
              "       width=\"24px\">\n",
              "    <path d=\"M0 0h24v24H0V0z\" fill=\"none\"/>\n",
              "    <path d=\"M18.56 5.44l.94 2.06.94-2.06 2.06-.94-2.06-.94-.94-2.06-.94 2.06-2.06.94zm-11 1L8.5 8.5l.94-2.06 2.06-.94-2.06-.94L8.5 2.5l-.94 2.06-2.06.94zm10 10l.94 2.06.94-2.06 2.06-.94-2.06-.94-.94-2.06-.94 2.06-2.06.94z\"/><path d=\"M17.41 7.96l-1.37-1.37c-.4-.4-.92-.59-1.43-.59-.52 0-1.04.2-1.43.59L10.3 9.45l-7.72 7.72c-.78.78-.78 2.05 0 2.83L4 21.41c.39.39.9.59 1.41.59.51 0 1.02-.2 1.41-.59l7.78-7.78 2.81-2.81c.8-.78.8-2.07 0-2.86zM5.41 20L4 18.59l7.72-7.72 1.47 1.35L5.41 20z\"/>\n",
              "  </svg>\n",
              "      </button>\n",
              "      \n",
              "  <style>\n",
              "    .colab-df-container {\n",
              "      display:flex;\n",
              "      flex-wrap:wrap;\n",
              "      gap: 12px;\n",
              "    }\n",
              "\n",
              "    .colab-df-convert {\n",
              "      background-color: #E8F0FE;\n",
              "      border: none;\n",
              "      border-radius: 50%;\n",
              "      cursor: pointer;\n",
              "      display: none;\n",
              "      fill: #1967D2;\n",
              "      height: 32px;\n",
              "      padding: 0 0 0 0;\n",
              "      width: 32px;\n",
              "    }\n",
              "\n",
              "    .colab-df-convert:hover {\n",
              "      background-color: #E2EBFA;\n",
              "      box-shadow: 0px 1px 2px rgba(60, 64, 67, 0.3), 0px 1px 3px 1px rgba(60, 64, 67, 0.15);\n",
              "      fill: #174EA6;\n",
              "    }\n",
              "\n",
              "    [theme=dark] .colab-df-convert {\n",
              "      background-color: #3B4455;\n",
              "      fill: #D2E3FC;\n",
              "    }\n",
              "\n",
              "    [theme=dark] .colab-df-convert:hover {\n",
              "      background-color: #434B5C;\n",
              "      box-shadow: 0px 1px 3px 1px rgba(0, 0, 0, 0.15);\n",
              "      filter: drop-shadow(0px 1px 2px rgba(0, 0, 0, 0.3));\n",
              "      fill: #FFFFFF;\n",
              "    }\n",
              "  </style>\n",
              "\n",
              "      <script>\n",
              "        const buttonEl =\n",
              "          document.querySelector('#df-57704987-16ee-4887-9398-e8c31e269cae button.colab-df-convert');\n",
              "        buttonEl.style.display =\n",
              "          google.colab.kernel.accessAllowed ? 'block' : 'none';\n",
              "\n",
              "        async function convertToInteractive(key) {\n",
              "          const element = document.querySelector('#df-57704987-16ee-4887-9398-e8c31e269cae');\n",
              "          const dataTable =\n",
              "            await google.colab.kernel.invokeFunction('convertToInteractive',\n",
              "                                                     [key], {});\n",
              "          if (!dataTable) return;\n",
              "\n",
              "          const docLinkHtml = 'Like what you see? Visit the ' +\n",
              "            '<a target=\"_blank\" href=https://colab.research.google.com/notebooks/data_table.ipynb>data table notebook</a>'\n",
              "            + ' to learn more about interactive tables.';\n",
              "          element.innerHTML = '';\n",
              "          dataTable['output_type'] = 'display_data';\n",
              "          await google.colab.output.renderOutput(dataTable, element);\n",
              "          const docLink = document.createElement('div');\n",
              "          docLink.innerHTML = docLinkHtml;\n",
              "          element.appendChild(docLink);\n",
              "        }\n",
              "      </script>\n",
              "    </div>\n",
              "  </div>\n",
              "  "
            ]
          },
          "metadata": {},
          "execution_count": 194
        }
      ],
      "source": [
        "#Conjuntamos la información de ambos DF a traves de la información de la columna placeID:\n",
        "tabla_relacionalEstudio1 = pd.merge(dfestudio,restaurantes_nombres, on='placeID')   # dataFrame\n",
        "#Visualizamos los primeros 5 registros\n",
        "tabla_relacionalEstudio1.head()"
      ],
      "metadata": {
        "id": "3SkzL3cveSwC",
        "outputId": "6351d266-af6a-4b08-9f6d-347ebecf046e",
        "colab": {
          "base_uri": "https://localhost:8080/",
          "height": 206
        }
      }
    },
    {
      "cell_type": "markdown",
      "source": [
        "### Ejercicio2"
      ],
      "metadata": {
        "collapsed": false,
        "id": "--qAAn-4eSwD"
      }
    },
    {
      "cell_type": "code",
      "execution_count": 195,
      "outputs": [
        {
          "output_type": "execute_result",
          "data": {
            "text/plain": [
              "name    Abondance Restaurante Bar  Arrachela Grill  Cabana Huasteca  \\\n",
              "userID                                                                \n",
              "U1001                           0                0                0   \n",
              "U1002                           0                0                0   \n",
              "U1003                           0                0                2   \n",
              "U1004                           0                0                0   \n",
              "U1005                           0                0                0   \n",
              "U1006                           0                0                0   \n",
              "U1007                           0                0                0   \n",
              "U1008                           1                0                0   \n",
              "U1009                           0                0                1   \n",
              "U1010                           0                0                0   \n",
              "\n",
              "name    Cafe Chaires  Cafeteria cenidet  Cafeteria y Restaurant El Pacifico  \\\n",
              "userID                                                                        \n",
              "U1001              0                  0                                   0   \n",
              "U1002              0                  0                                   0   \n",
              "U1003              0                  0                                   0   \n",
              "U1004              0                  0                                   2   \n",
              "U1005              0                  0                                   2   \n",
              "U1006              1                  0                                   0   \n",
              "U1007              1                  0                                   1   \n",
              "U1008              0                  0                                   0   \n",
              "U1009              0                  0                                   0   \n",
              "U1010              0                  0                                   0   \n",
              "\n",
              "name    Carls Jr  Carnitas Mata  Calle 16 de Septiembre  \\\n",
              "userID                                                    \n",
              "U1001          0                                      0   \n",
              "U1002          0                                      0   \n",
              "U1003          0                                      0   \n",
              "U1004          0                                      0   \n",
              "U1005          0                                      0   \n",
              "U1006          0                                      0   \n",
              "U1007          0                                      0   \n",
              "U1008          0                                      0   \n",
              "U1009          0                                      0   \n",
              "U1010          0                                      0   \n",
              "\n",
              "name    Carreton de Flautas y Migadas  Cenaduria El RincÃ³n de Tlaquepaque  \\\n",
              "userID                                                                       \n",
              "U1001                               0                                    0   \n",
              "U1002                               0                                    0   \n",
              "U1003                               0                                    0   \n",
              "U1004                               0                                    0   \n",
              "U1005                               0                                    0   \n",
              "U1006                               0                                    0   \n",
              "U1007                               0                                    0   \n",
              "U1008                               0                                    0   \n",
              "U1009                               0                                    0   \n",
              "U1010                               0                                    0   \n",
              "\n",
              "name    ...  puesto de tacos  rockabilly   shi ro ie  sirloin stockade  \\\n",
              "userID  ...                                                              \n",
              "U1001   ...                2            0          0                 0   \n",
              "U1002   ...                2            0          0                 0   \n",
              "U1003   ...                2            2          0                 0   \n",
              "U1004   ...                0            0          0                 0   \n",
              "U1005   ...                0            0          0                 0   \n",
              "U1006   ...                1            0          2                 0   \n",
              "U1007   ...                0            0          0                 0   \n",
              "U1008   ...                0            0          0                 0   \n",
              "U1009   ...                1            0          0                 0   \n",
              "U1010   ...                0            0          0                 0   \n",
              "\n",
              "name    tacos abi  tacos de barbacoa enfrente del Tec  tacos de la estacion  \\\n",
              "userID                                                                        \n",
              "U1001           0                                   0                     0   \n",
              "U1002           0                                   0                     0   \n",
              "U1003           0                                   0                     0   \n",
              "U1004           0                                   0                     0   \n",
              "U1005           0                                   0                     0   \n",
              "U1006           0                                   0                     0   \n",
              "U1007           0                                   0                     0   \n",
              "U1008           0                                   0                     0   \n",
              "U1009           0                                   0                     0   \n",
              "U1010           0                                   0                     0   \n",
              "\n",
              "name    tacos los volcanes  tortas hawai  vips  \n",
              "userID                                          \n",
              "U1001                    0             0     0  \n",
              "U1002                    0             0     0  \n",
              "U1003                    0             0     0  \n",
              "U1004                    2             0     0  \n",
              "U1005                    0             0     0  \n",
              "U1006                    0             0     0  \n",
              "U1007                    0             0     0  \n",
              "U1008                    0             0     0  \n",
              "U1009                    0             0     0  \n",
              "U1010                    0             0     0  \n",
              "\n",
              "[10 rows x 129 columns]"
            ],
            "text/html": [
              "\n",
              "  <div id=\"df-e9375ab2-ba8c-4dae-9354-4b43c49e5a67\">\n",
              "    <div class=\"colab-df-container\">\n",
              "      <div>\n",
              "<style scoped>\n",
              "    .dataframe tbody tr th:only-of-type {\n",
              "        vertical-align: middle;\n",
              "    }\n",
              "\n",
              "    .dataframe tbody tr th {\n",
              "        vertical-align: top;\n",
              "    }\n",
              "\n",
              "    .dataframe thead th {\n",
              "        text-align: right;\n",
              "    }\n",
              "</style>\n",
              "<table border=\"1\" class=\"dataframe\">\n",
              "  <thead>\n",
              "    <tr style=\"text-align: right;\">\n",
              "      <th>name</th>\n",
              "      <th>Abondance Restaurante Bar</th>\n",
              "      <th>Arrachela Grill</th>\n",
              "      <th>Cabana Huasteca</th>\n",
              "      <th>Cafe Chaires</th>\n",
              "      <th>Cafeteria cenidet</th>\n",
              "      <th>Cafeteria y Restaurant El Pacifico</th>\n",
              "      <th>Carls Jr</th>\n",
              "      <th>Carnitas Mata  Calle 16 de Septiembre</th>\n",
              "      <th>Carreton de Flautas y Migadas</th>\n",
              "      <th>Cenaduria El RincÃ³n de Tlaquepaque</th>\n",
              "      <th>...</th>\n",
              "      <th>puesto de tacos</th>\n",
              "      <th>rockabilly</th>\n",
              "      <th>shi ro ie</th>\n",
              "      <th>sirloin stockade</th>\n",
              "      <th>tacos abi</th>\n",
              "      <th>tacos de barbacoa enfrente del Tec</th>\n",
              "      <th>tacos de la estacion</th>\n",
              "      <th>tacos los volcanes</th>\n",
              "      <th>tortas hawai</th>\n",
              "      <th>vips</th>\n",
              "    </tr>\n",
              "    <tr>\n",
              "      <th>userID</th>\n",
              "      <th></th>\n",
              "      <th></th>\n",
              "      <th></th>\n",
              "      <th></th>\n",
              "      <th></th>\n",
              "      <th></th>\n",
              "      <th></th>\n",
              "      <th></th>\n",
              "      <th></th>\n",
              "      <th></th>\n",
              "      <th></th>\n",
              "      <th></th>\n",
              "      <th></th>\n",
              "      <th></th>\n",
              "      <th></th>\n",
              "      <th></th>\n",
              "      <th></th>\n",
              "      <th></th>\n",
              "      <th></th>\n",
              "      <th></th>\n",
              "      <th></th>\n",
              "    </tr>\n",
              "  </thead>\n",
              "  <tbody>\n",
              "    <tr>\n",
              "      <th>U1001</th>\n",
              "      <td>0</td>\n",
              "      <td>0</td>\n",
              "      <td>0</td>\n",
              "      <td>0</td>\n",
              "      <td>0</td>\n",
              "      <td>0</td>\n",
              "      <td>0</td>\n",
              "      <td>0</td>\n",
              "      <td>0</td>\n",
              "      <td>0</td>\n",
              "      <td>...</td>\n",
              "      <td>2</td>\n",
              "      <td>0</td>\n",
              "      <td>0</td>\n",
              "      <td>0</td>\n",
              "      <td>0</td>\n",
              "      <td>0</td>\n",
              "      <td>0</td>\n",
              "      <td>0</td>\n",
              "      <td>0</td>\n",
              "      <td>0</td>\n",
              "    </tr>\n",
              "    <tr>\n",
              "      <th>U1002</th>\n",
              "      <td>0</td>\n",
              "      <td>0</td>\n",
              "      <td>0</td>\n",
              "      <td>0</td>\n",
              "      <td>0</td>\n",
              "      <td>0</td>\n",
              "      <td>0</td>\n",
              "      <td>0</td>\n",
              "      <td>0</td>\n",
              "      <td>0</td>\n",
              "      <td>...</td>\n",
              "      <td>2</td>\n",
              "      <td>0</td>\n",
              "      <td>0</td>\n",
              "      <td>0</td>\n",
              "      <td>0</td>\n",
              "      <td>0</td>\n",
              "      <td>0</td>\n",
              "      <td>0</td>\n",
              "      <td>0</td>\n",
              "      <td>0</td>\n",
              "    </tr>\n",
              "    <tr>\n",
              "      <th>U1003</th>\n",
              "      <td>0</td>\n",
              "      <td>0</td>\n",
              "      <td>2</td>\n",
              "      <td>0</td>\n",
              "      <td>0</td>\n",
              "      <td>0</td>\n",
              "      <td>0</td>\n",
              "      <td>0</td>\n",
              "      <td>0</td>\n",
              "      <td>0</td>\n",
              "      <td>...</td>\n",
              "      <td>2</td>\n",
              "      <td>2</td>\n",
              "      <td>0</td>\n",
              "      <td>0</td>\n",
              "      <td>0</td>\n",
              "      <td>0</td>\n",
              "      <td>0</td>\n",
              "      <td>0</td>\n",
              "      <td>0</td>\n",
              "      <td>0</td>\n",
              "    </tr>\n",
              "    <tr>\n",
              "      <th>U1004</th>\n",
              "      <td>0</td>\n",
              "      <td>0</td>\n",
              "      <td>0</td>\n",
              "      <td>0</td>\n",
              "      <td>0</td>\n",
              "      <td>2</td>\n",
              "      <td>0</td>\n",
              "      <td>0</td>\n",
              "      <td>0</td>\n",
              "      <td>0</td>\n",
              "      <td>...</td>\n",
              "      <td>0</td>\n",
              "      <td>0</td>\n",
              "      <td>0</td>\n",
              "      <td>0</td>\n",
              "      <td>0</td>\n",
              "      <td>0</td>\n",
              "      <td>0</td>\n",
              "      <td>2</td>\n",
              "      <td>0</td>\n",
              "      <td>0</td>\n",
              "    </tr>\n",
              "    <tr>\n",
              "      <th>U1005</th>\n",
              "      <td>0</td>\n",
              "      <td>0</td>\n",
              "      <td>0</td>\n",
              "      <td>0</td>\n",
              "      <td>0</td>\n",
              "      <td>2</td>\n",
              "      <td>0</td>\n",
              "      <td>0</td>\n",
              "      <td>0</td>\n",
              "      <td>0</td>\n",
              "      <td>...</td>\n",
              "      <td>0</td>\n",
              "      <td>0</td>\n",
              "      <td>0</td>\n",
              "      <td>0</td>\n",
              "      <td>0</td>\n",
              "      <td>0</td>\n",
              "      <td>0</td>\n",
              "      <td>0</td>\n",
              "      <td>0</td>\n",
              "      <td>0</td>\n",
              "    </tr>\n",
              "    <tr>\n",
              "      <th>U1006</th>\n",
              "      <td>0</td>\n",
              "      <td>0</td>\n",
              "      <td>0</td>\n",
              "      <td>1</td>\n",
              "      <td>0</td>\n",
              "      <td>0</td>\n",
              "      <td>0</td>\n",
              "      <td>0</td>\n",
              "      <td>0</td>\n",
              "      <td>0</td>\n",
              "      <td>...</td>\n",
              "      <td>1</td>\n",
              "      <td>0</td>\n",
              "      <td>2</td>\n",
              "      <td>0</td>\n",
              "      <td>0</td>\n",
              "      <td>0</td>\n",
              "      <td>0</td>\n",
              "      <td>0</td>\n",
              "      <td>0</td>\n",
              "      <td>0</td>\n",
              "    </tr>\n",
              "    <tr>\n",
              "      <th>U1007</th>\n",
              "      <td>0</td>\n",
              "      <td>0</td>\n",
              "      <td>0</td>\n",
              "      <td>1</td>\n",
              "      <td>0</td>\n",
              "      <td>1</td>\n",
              "      <td>0</td>\n",
              "      <td>0</td>\n",
              "      <td>0</td>\n",
              "      <td>0</td>\n",
              "      <td>...</td>\n",
              "      <td>0</td>\n",
              "      <td>0</td>\n",
              "      <td>0</td>\n",
              "      <td>0</td>\n",
              "      <td>0</td>\n",
              "      <td>0</td>\n",
              "      <td>0</td>\n",
              "      <td>0</td>\n",
              "      <td>0</td>\n",
              "      <td>0</td>\n",
              "    </tr>\n",
              "    <tr>\n",
              "      <th>U1008</th>\n",
              "      <td>1</td>\n",
              "      <td>0</td>\n",
              "      <td>0</td>\n",
              "      <td>0</td>\n",
              "      <td>0</td>\n",
              "      <td>0</td>\n",
              "      <td>0</td>\n",
              "      <td>0</td>\n",
              "      <td>0</td>\n",
              "      <td>0</td>\n",
              "      <td>...</td>\n",
              "      <td>0</td>\n",
              "      <td>0</td>\n",
              "      <td>0</td>\n",
              "      <td>0</td>\n",
              "      <td>0</td>\n",
              "      <td>0</td>\n",
              "      <td>0</td>\n",
              "      <td>0</td>\n",
              "      <td>0</td>\n",
              "      <td>0</td>\n",
              "    </tr>\n",
              "    <tr>\n",
              "      <th>U1009</th>\n",
              "      <td>0</td>\n",
              "      <td>0</td>\n",
              "      <td>1</td>\n",
              "      <td>0</td>\n",
              "      <td>0</td>\n",
              "      <td>0</td>\n",
              "      <td>0</td>\n",
              "      <td>0</td>\n",
              "      <td>0</td>\n",
              "      <td>0</td>\n",
              "      <td>...</td>\n",
              "      <td>1</td>\n",
              "      <td>0</td>\n",
              "      <td>0</td>\n",
              "      <td>0</td>\n",
              "      <td>0</td>\n",
              "      <td>0</td>\n",
              "      <td>0</td>\n",
              "      <td>0</td>\n",
              "      <td>0</td>\n",
              "      <td>0</td>\n",
              "    </tr>\n",
              "    <tr>\n",
              "      <th>U1010</th>\n",
              "      <td>0</td>\n",
              "      <td>0</td>\n",
              "      <td>0</td>\n",
              "      <td>0</td>\n",
              "      <td>0</td>\n",
              "      <td>0</td>\n",
              "      <td>0</td>\n",
              "      <td>0</td>\n",
              "      <td>0</td>\n",
              "      <td>0</td>\n",
              "      <td>...</td>\n",
              "      <td>0</td>\n",
              "      <td>0</td>\n",
              "      <td>0</td>\n",
              "      <td>0</td>\n",
              "      <td>0</td>\n",
              "      <td>0</td>\n",
              "      <td>0</td>\n",
              "      <td>0</td>\n",
              "      <td>0</td>\n",
              "      <td>0</td>\n",
              "    </tr>\n",
              "  </tbody>\n",
              "</table>\n",
              "<p>10 rows × 129 columns</p>\n",
              "</div>\n",
              "      <button class=\"colab-df-convert\" onclick=\"convertToInteractive('df-e9375ab2-ba8c-4dae-9354-4b43c49e5a67')\"\n",
              "              title=\"Convert this dataframe to an interactive table.\"\n",
              "              style=\"display:none;\">\n",
              "        \n",
              "  <svg xmlns=\"http://www.w3.org/2000/svg\" height=\"24px\"viewBox=\"0 0 24 24\"\n",
              "       width=\"24px\">\n",
              "    <path d=\"M0 0h24v24H0V0z\" fill=\"none\"/>\n",
              "    <path d=\"M18.56 5.44l.94 2.06.94-2.06 2.06-.94-2.06-.94-.94-2.06-.94 2.06-2.06.94zm-11 1L8.5 8.5l.94-2.06 2.06-.94-2.06-.94L8.5 2.5l-.94 2.06-2.06.94zm10 10l.94 2.06.94-2.06 2.06-.94-2.06-.94-.94-2.06-.94 2.06-2.06.94z\"/><path d=\"M17.41 7.96l-1.37-1.37c-.4-.4-.92-.59-1.43-.59-.52 0-1.04.2-1.43.59L10.3 9.45l-7.72 7.72c-.78.78-.78 2.05 0 2.83L4 21.41c.39.39.9.59 1.41.59.51 0 1.02-.2 1.41-.59l7.78-7.78 2.81-2.81c.8-.78.8-2.07 0-2.86zM5.41 20L4 18.59l7.72-7.72 1.47 1.35L5.41 20z\"/>\n",
              "  </svg>\n",
              "      </button>\n",
              "      \n",
              "  <style>\n",
              "    .colab-df-container {\n",
              "      display:flex;\n",
              "      flex-wrap:wrap;\n",
              "      gap: 12px;\n",
              "    }\n",
              "\n",
              "    .colab-df-convert {\n",
              "      background-color: #E8F0FE;\n",
              "      border: none;\n",
              "      border-radius: 50%;\n",
              "      cursor: pointer;\n",
              "      display: none;\n",
              "      fill: #1967D2;\n",
              "      height: 32px;\n",
              "      padding: 0 0 0 0;\n",
              "      width: 32px;\n",
              "    }\n",
              "\n",
              "    .colab-df-convert:hover {\n",
              "      background-color: #E2EBFA;\n",
              "      box-shadow: 0px 1px 2px rgba(60, 64, 67, 0.3), 0px 1px 3px 1px rgba(60, 64, 67, 0.15);\n",
              "      fill: #174EA6;\n",
              "    }\n",
              "\n",
              "    [theme=dark] .colab-df-convert {\n",
              "      background-color: #3B4455;\n",
              "      fill: #D2E3FC;\n",
              "    }\n",
              "\n",
              "    [theme=dark] .colab-df-convert:hover {\n",
              "      background-color: #434B5C;\n",
              "      box-shadow: 0px 1px 3px 1px rgba(0, 0, 0, 0.15);\n",
              "      filter: drop-shadow(0px 1px 2px rgba(0, 0, 0, 0.3));\n",
              "      fill: #FFFFFF;\n",
              "    }\n",
              "  </style>\n",
              "\n",
              "      <script>\n",
              "        const buttonEl =\n",
              "          document.querySelector('#df-e9375ab2-ba8c-4dae-9354-4b43c49e5a67 button.colab-df-convert');\n",
              "        buttonEl.style.display =\n",
              "          google.colab.kernel.accessAllowed ? 'block' : 'none';\n",
              "\n",
              "        async function convertToInteractive(key) {\n",
              "          const element = document.querySelector('#df-e9375ab2-ba8c-4dae-9354-4b43c49e5a67');\n",
              "          const dataTable =\n",
              "            await google.colab.kernel.invokeFunction('convertToInteractive',\n",
              "                                                     [key], {});\n",
              "          if (!dataTable) return;\n",
              "\n",
              "          const docLinkHtml = 'Like what you see? Visit the ' +\n",
              "            '<a target=\"_blank\" href=https://colab.research.google.com/notebooks/data_table.ipynb>data table notebook</a>'\n",
              "            + ' to learn more about interactive tables.';\n",
              "          element.innerHTML = '';\n",
              "          dataTable['output_type'] = 'display_data';\n",
              "          await google.colab.output.renderOutput(dataTable, element);\n",
              "          const docLink = document.createElement('div');\n",
              "          docLink.innerHTML = docLinkHtml;\n",
              "          element.appendChild(docLink);\n",
              "        }\n",
              "      </script>\n",
              "    </div>\n",
              "  </div>\n",
              "  "
            ]
          },
          "metadata": {},
          "execution_count": 195
        }
      ],
      "source": [
        "#Generamos la matriz de utilidad que proporciona la evaluación que cada usuario asigna a cada restaurante, se rellena con 0 las celdas sin registro\n",
        "UtMx = tabla_relacionalEstudio1.pivot_table(values='rating', index='userID', columns='name', fill_value=0)\n",
        "\n",
        "UtMx.head(10)"
      ],
      "metadata": {
        "id": "QSacUUSoeSwD",
        "outputId": "9f69757c-ad99-48fb-8ddd-1aa824a5502c",
        "colab": {
          "base_uri": "https://localhost:8080/",
          "height": 557
        }
      }
    },
    {
      "cell_type": "code",
      "execution_count": 196,
      "outputs": [
        {
          "output_type": "execute_result",
          "data": {
            "text/plain": [
              "(138, 129)"
            ]
          },
          "metadata": {},
          "execution_count": 196
        }
      ],
      "source": [
        "#Verificamos dimensiones de la matriz de utilidad\n",
        "UtMx.shape"
      ],
      "metadata": {
        "id": "01haXovOeSwD",
        "outputId": "8b4e46c1-21c6-409a-e09b-14d1a8e7527d",
        "colab": {
          "base_uri": "https://localhost:8080/"
        }
      }
    },
    {
      "cell_type": "markdown",
      "source": [],
      "metadata": {
        "collapsed": false,
        "id": "akLBducqeSwD"
      }
    },
    {
      "cell_type": "code",
      "execution_count": 197,
      "outputs": [
        {
          "output_type": "stream",
          "name": "stdout",
          "text": [
            "Total de elementos de la matriz de utilidad: 17802\n",
            "Total de elementos diferentes de cero: 907\n",
            "Porcentaje de elementos diferentes de cero: 5.1%\n"
          ]
        }
      ],
      "source": [
        "print('Total de elementos de la matriz de utilidad: %d' % (UtMx.size))\n",
        "print('Total de elementos diferentes de cero: %d' % (np.count_nonzero(UtMx)))\n",
        "print('Porcentaje de elementos diferentes de cero: %.1f%%' % (100 * np.count_nonzero(UtMx) / UtMx.size))"
      ],
      "metadata": {
        "id": "Zm0jETPeeSwD",
        "outputId": "7129a5b0-50f5-4284-f63f-894b571eaf8b",
        "colab": {
          "base_uri": "https://localhost:8080/"
        }
      }
    },
    {
      "cell_type": "code",
      "execution_count": 198,
      "outputs": [
        {
          "output_type": "execute_result",
          "data": {
            "text/plain": [
              "(129, 138)"
            ]
          },
          "metadata": {},
          "execution_count": 198
        }
      ],
      "source": [
        "X = UtMx.T     # Tomamos la traspuesta para que los renglones sean los restaurantes y las columnas los usuarios.\n",
        "X.shape"
      ],
      "metadata": {
        "id": "DiC2DcameSwD",
        "outputId": "61f52e7e-571c-4ef9-d309-24c6885bf8d9",
        "colab": {
          "base_uri": "https://localhost:8080/"
        }
      }
    },
    {
      "cell_type": "code",
      "execution_count": 199,
      "outputs": [
        {
          "output_type": "stream",
          "name": "stdout",
          "text": [
            "Cantidad de información simplificada con los primeros 10 vectores singulares:\n",
            "75.6%\n"
          ]
        }
      ],
      "source": [
        "# Obtengamos la cantidad de información contenida en la factorización SVD, considerando\n",
        "# todos los componentes posibles, es decir, todos los valores singulares\n",
        "\n",
        " # El número de componentes debe ser menor que el número de características (features/usuarios), que son 138:\n",
        "SVD = TruncatedSVD(n_components=137, random_state=1)\n",
        "SVD.fit(X)\n",
        "\n",
        "num_sv =10 # En particular los 10 primeros vectores y valores singulares de mayor magnitud tienen esta cantidad de información.\n",
        "\n",
        "print('Cantidad de información simplificada con los primeros %d vectores singulares:' % num_sv)\n",
        "print('%.1f%%' %  (100 * (1- (SVD.singular_values_[0:num_sv]).sum() / (SVD.singular_values_).sum())))"
      ],
      "metadata": {
        "id": "LakaVY-heSwE",
        "outputId": "5f754d1b-c742-4405-c516-b80508de166d",
        "colab": {
          "base_uri": "https://localhost:8080/"
        }
      }
    },
    {
      "cell_type": "code",
      "execution_count": 200,
      "outputs": [
        {
          "output_type": "stream",
          "name": "stdout",
          "text": [
            "Cantidad de  valores singulares obtenidos: 129\n"
          ]
        },
        {
          "output_type": "execute_result",
          "data": {
            "text/plain": [
              "(129, 129)"
            ]
          },
          "metadata": {},
          "execution_count": 200
        }
      ],
      "source": [
        "# Usamos el total de componentes disponibles 138\n",
        "\n",
        "num_sv = 137 ### para este primer ejercicio usemos todas\n",
        "\n",
        "SVDT = TruncatedSVD(n_components=num_sv, random_state=1)\n",
        "\n",
        "resultant_matrix = SVDT.fit_transform(X)\n",
        "print('Cantidad de  valores singulares obtenidos:' , round(len(SVDT.singular_values_),2))\n",
        "resultant_matrix.shape"
      ],
      "metadata": {
        "id": "mrQdqC6qeSwE",
        "outputId": "30a0b709-b6be-46c1-a224-c0c8ac54b440",
        "colab": {
          "base_uri": "https://localhost:8080/"
        }
      }
    },
    {
      "cell_type": "code",
      "execution_count": 201,
      "outputs": [
        {
          "output_type": "execute_result",
          "data": {
            "text/plain": [
              "(129, 129)"
            ]
          },
          "metadata": {},
          "execution_count": 201
        }
      ],
      "source": [
        "# Obtengamos la matriz de correlación de Pearson entre todas las\n",
        "# variables latentes de los restaurantes:\n",
        "\n",
        "corrMx = np.corrcoef(resultant_matrix, )\n",
        "corrMx.shape"
      ],
      "metadata": {
        "id": "gn3jpTFVeSwE",
        "outputId": "e566a8c1-8c65-47f1-83ca-7eb436f3043d",
        "colab": {
          "base_uri": "https://localhost:8080/"
        }
      }
    },
    {
      "cell_type": "markdown",
      "source": [
        "### Ejercicio 3"
      ],
      "metadata": {
        "collapsed": false,
        "id": "cQDo8cEqeSwE"
      }
    },
    {
      "cell_type": "code",
      "execution_count": 202,
      "outputs": [
        {
          "output_type": "execute_result",
          "data": {
            "text/plain": [
              "88"
            ]
          },
          "metadata": {},
          "execution_count": 202
        }
      ],
      "source": [
        "#Revisamos la evaluacion de Subway obteniendo el id dentro de la matriz de utilidad\n",
        "me_gusta = \"Subway\"\n",
        "\n",
        "names = UtMx.columns\n",
        "names_list = list(names)\n",
        "id_megusta = names_list.index(me_gusta)\n",
        "\n",
        "id_megusta"
      ],
      "metadata": {
        "id": "Z9oVuWBmeSwE",
        "outputId": "e31aa187-9f8f-40d6-9187-24880fc91bf4",
        "colab": {
          "base_uri": "https://localhost:8080/"
        }
      }
    },
    {
      "cell_type": "code",
      "execution_count": 203,
      "outputs": [
        {
          "output_type": "stream",
          "name": "stdout",
          "text": [
            "(129,)\n",
            "[-7.69028369e-04 -7.87822168e-05 -5.27330975e-03  8.58511349e-04\n",
            " -3.03891148e-03  3.97495832e-05 -1.54820208e-03 -5.29347145e-03\n",
            "  7.27520383e-04 -1.55098452e-03 -1.84483094e-03  3.01090491e-01\n",
            " -3.06938616e-05 -3.66639157e-03 -2.28024815e-03 -1.70971180e-03\n",
            "  2.66961340e-03  4.58467365e-04 -2.11449533e-03 -6.20445134e-03\n",
            "  3.34268563e-03  1.16598607e-01  1.87080102e-03  2.53682556e-03\n",
            " -5.48801141e-03 -2.91288266e-03  2.02825342e-03 -1.36607265e-03\n",
            " -2.01695899e-03  1.12058244e-01 -2.36235727e-03  6.52159239e-04\n",
            "  3.53495770e-03 -3.62793330e-03  1.69065407e-03 -4.51837401e-03\n",
            " -2.09301342e-03  2.34634298e-01 -3.80413494e-03 -5.11845710e-04\n",
            " -2.27148704e-03  3.88178002e-01 -2.07427108e-03 -2.29428835e-03\n",
            "  1.32565455e-03  3.01002479e-01  1.71433518e-01 -3.29715354e-03\n",
            " -4.74480596e-03 -8.02527884e-04 -2.65071452e-03  1.12018889e-01\n",
            " -3.91080724e-03 -2.06369812e-03  1.16008629e-01  2.27855804e-01\n",
            "  4.28342495e-04 -8.69739761e-04  6.09520875e-01 -6.43364064e-03\n",
            "  4.25467169e-01 -2.27256171e-03  4.45920939e-05  5.11279379e-04\n",
            "  2.85149220e-01 -1.90010302e-03 -4.16115194e-03 -5.61375368e-03\n",
            " -2.57693978e-03 -3.72881676e-03 -6.05992942e-03  1.41047150e-03\n",
            " -1.58675476e-04 -1.94116490e-03  2.09955125e-03 -2.10171395e-03\n",
            " -4.38985616e-03 -2.29468299e-03  7.76009788e-04 -2.96124143e-03\n",
            " -2.82046690e-03 -8.57374506e-04 -1.50259308e-03 -3.19597534e-03\n",
            " -2.56400020e-03  4.29823831e-01  4.17218501e-01  3.89064434e-03\n",
            "  1.00000000e+00 -9.93812832e-04  8.60361345e-04 -2.79531559e-03\n",
            "  2.37442956e-04 -3.06216758e-03  1.36462717e-03  2.66480676e-04\n",
            "  2.92661192e-03  5.06277680e-01 -3.20853148e-03 -8.36332065e-04\n",
            " -3.72003822e-03  1.60652886e-03 -1.25997089e-03 -2.57629937e-03\n",
            "  1.70432198e-03 -2.43624453e-03 -1.13863819e-03  1.91200064e-03\n",
            " -3.57766463e-03 -2.41086958e-03 -8.60077590e-03  3.33763511e-03\n",
            "  3.00375655e-03  2.47765536e-03  1.38274830e-03 -1.59646437e-05\n",
            " -8.37066511e-04 -1.73990894e-03 -1.20344221e-03 -3.56656608e-03\n",
            " -2.38089550e-03 -4.91396372e-06 -3.20025066e-03  1.81536303e-03\n",
            "  2.45429531e-03 -2.56625850e-03 -2.88100273e-03 -1.91214767e-03\n",
            "  8.37828947e-04]\n"
          ]
        }
      ],
      "source": [
        "#Visualizamos la correlación de \"Subway\" con todos los demas restaurantes en la matriz\n",
        "corr_recomienda = corrMx[id_megusta]\n",
        "print(corr_recomienda.shape)\n",
        "print(corr_recomienda)"
      ],
      "metadata": {
        "id": "tG0uwVfgeSwF",
        "outputId": "7775af3e-17b6-4416-9403-1aadde154984",
        "colab": {
          "base_uri": "https://localhost:8080/"
        }
      }
    },
    {
      "cell_type": "code",
      "execution_count": 204,
      "outputs": [
        {
          "output_type": "execute_result",
          "data": {
            "text/plain": [
              "1.0"
            ]
          },
          "metadata": {},
          "execution_count": 204
        }
      ],
      "source": [
        "#Correlacion del restaurante consigo mismo, se visualiza para estudio y validación que la correlacion con el mismo debe sr igual a 1 o muy proximo a este\n",
        "corr_recomienda[id_megusta]\n"
      ],
      "metadata": {
        "id": "scvp4NYIeSwF",
        "outputId": "6574609d-b09a-4fec-a7a1-db36d34541e5",
        "colab": {
          "base_uri": "https://localhost:8080/"
        }
      }
    },
    {
      "cell_type": "code",
      "execution_count": 205,
      "outputs": [
        {
          "output_type": "stream",
          "name": "stdout",
          "text": [
            "Restaurante Chilis Cuernavaca  | valor correlación:  0.3011\n",
            "Restaurante Log Yin  | valor correlación:  0.2346\n",
            "Restaurante Mariscos Tia Licha  | valor correlación:  0.3882\n",
            "Restaurante Mikasa  | valor correlación:  0.301\n",
            "Restaurante Restaurant Teely  | valor correlación:  0.6095\n",
            "Restaurante Restaurant and Bar and Clothesline Carlos N Charlies  | valor correlación:  0.4255\n",
            "Restaurante Restaurant los Pinos  | valor correlación:  0.2851\n",
            "Restaurante Rincon del Bife  | valor correlación:  0.4298\n",
            "Restaurante Sanborns Casa Piedra  | valor correlación:  0.4172\n",
            "Restaurante Vips  | valor correlación:  0.5063\n"
          ]
        }
      ],
      "source": [
        "#Obtenemos las 10 mejores recomendaciones del modelo de acuerdo a valoraciones buenas a \"Subway\" y agregamos el valor\n",
        "\n",
        "Best10=list(names[(corr_recomienda > .23) & (corr_recomienda < 0.99999)])\n",
        "\n",
        "for pos in Best10:\n",
        " id_otra = names_list.index(pos)\n",
        " print('Restaurante',pos, ' | valor correlación: ', round(corr_recomienda[id_otra],4))\n",
        "\n"
      ],
      "metadata": {
        "id": "UZD4sTGpeSwF",
        "outputId": "bca6da1f-8d2d-43e3-c436-3869155619a0",
        "colab": {
          "base_uri": "https://localhost:8080/"
        }
      }
    },
    {
      "cell_type": "markdown",
      "source": [
        "### Ejercicio4\n",
        "Busquemosel mejor numerdo de componentes y cuantos usar"
      ],
      "metadata": {
        "collapsed": false,
        "id": "1PcEcyHbeSwF"
      }
    },
    {
      "cell_type": "code",
      "execution_count": 244,
      "outputs": [
        {
          "output_type": "stream",
          "name": "stdout",
          "text": [
            "Dimensiones resultante: (129, 11) \n",
            "\n",
            "Id del resaturante en la matriz:  88 \n",
            "\n",
            "10 mejores recomendaciones\n",
            "\n",
            "Restaurante Chilis Cuernavaca  | valor correlación:  0.9991\n",
            "Restaurante Log Yin  | valor correlación:  0.9969\n",
            "Restaurante Mariscos Tia Licha  | valor correlación:  0.9995\n",
            "Restaurante Mikasa  | valor correlación:  0.9986\n",
            "Restaurante Paniroles  | valor correlación:  0.9998\n",
            "Restaurante Restaurant and Bar and Clothesline Carlos N Charlies  | valor correlación:  0.9993\n",
            "Restaurante Restaurant los Pinos  | valor correlación:  0.9967\n",
            "Restaurante Rincon del Bife  | valor correlación:  0.9997\n",
            "Restaurante Sanborns Casa Piedra  | valor correlación:  0.997\n",
            "Restaurante Vips  | valor correlación:  0.9978\n"
          ]
        }
      ],
      "source": [
        "num_sv =11 #reduscamos la factorizacion a 11 componentes\n",
        "\n",
        "SVD = TruncatedSVD(n_components=num_sv, random_state=1)\n",
        "\n",
        "resultant_matrix4 = SVD.fit_transform(X)\n",
        "print('Dimensiones resultante:', resultant_matrix4.shape, '\\n')\n",
        "\n",
        "#Obtenemos la matriz de correlación \n",
        "corrMx4 = np.corrcoef(resultant_matrix4, )\n",
        "\n",
        "me_gusta = \"Subway\"\n",
        "names = UtMx.columns\n",
        "names_list = list(names)\n",
        "id_megusta = names_list.index(me_gusta)\n",
        "\n",
        "#Correlación del restaurante con los demas\n",
        "corr_recomienda4 = corrMx4[id_megusta]\n",
        "\n",
        "print('Id del resaturante en la matriz: ',id_megusta,'\\n')\n",
        "corr_recomienda4[id_megusta]\n",
        "mejores10=list(names[(corr_recomienda4 > .996) & (corr_recomienda4 < 0.9999)])  \n",
        "print('10 mejores recomendaciones\\n')\n",
        "for pos in mejores10:\n",
        " id_otra = names_list.index(pos)\n",
        " print('Restaurante',pos, ' | valor correlación: ', round(corr_recomienda4[id_otra],4))"
      ],
      "metadata": {
        "id": "mH-0bv2NeSwF",
        "outputId": "68d2e3f2-87aa-4e8a-ac63-6628d34bd768",
        "colab": {
          "base_uri": "https://localhost:8080/"
        }
      }
    },
    {
      "cell_type": "code",
      "execution_count": 245,
      "outputs": [
        {
          "output_type": "stream",
          "name": "stdout",
          "text": [
            "Numero de Recomendaciones iguales: 9 \n",
            "\n",
            "Cantidad de información simplificada con los primeros 11 vectores singulares:\n",
            "73.8%\n"
          ]
        }
      ],
      "source": [
        "#Obtenemos el numero de recomendaciones iguales respecto a los 10 mejores con todos los componentes\n",
        "#Se obtiene el mismo resutlado con solo 10 componentes\n",
        "print(\"Numero de Recomendaciones iguales:\",len(set(mejores10).intersection(Best10)),'\\n')\n",
        "\n",
        "print('Cantidad de información simplificada con los primeros %d vectores singulares:' % num_sv)\n",
        "print('%.1f%%' %  (100 * (1- (SVDT.singular_values_[0:num_sv]).sum() / (SVDT.singular_values_).sum())))\n"
      ],
      "metadata": {
        "id": "UGbYEUWfeSwF",
        "outputId": "89e9bf31-54f8-4126-9ee4-eadc89be5c9a",
        "colab": {
          "base_uri": "https://localhost:8080/"
        }
      }
    },
    {
      "cell_type": "markdown",
      "source": [
        "### Ejercicio 5"
      ],
      "metadata": {
        "collapsed": false,
        "id": "fk-WgQykeSwG"
      }
    },
    {
      "cell_type": "code",
      "execution_count": 247,
      "outputs": [
        {
          "output_type": "execute_result",
          "data": {
            "text/plain": [
              "(129, 10)"
            ]
          },
          "metadata": {},
          "execution_count": 247
        }
      ],
      "source": [
        "#Tomamos el valor de 10 para los componentes en al factorizacion\n",
        "num_sv = 10\n",
        "\n",
        "SVD = TruncatedSVD(n_components=num_sv, random_state=1)\n",
        "\n",
        "resultant_matrix5 = SVD.fit_transform(X)\n",
        "resultant_matrix5.shape"
      ],
      "metadata": {
        "id": "8Eaht3PueSwG",
        "outputId": "494113a7-cc87-4668-845b-0696e87615cf",
        "colab": {
          "base_uri": "https://localhost:8080/"
        }
      }
    },
    {
      "cell_type": "code",
      "execution_count": 248,
      "outputs": [
        {
          "output_type": "stream",
          "name": "stdout",
          "text": [
            "Id del restaurante:  124\n"
          ]
        }
      ],
      "source": [
        "#Realizamos nuevamente el ejercicio con el \"restaurante tacos de barbacoa enfrente del Tec\"\n",
        "me_gusta = \"tacos de barbacoa enfrente del Tec\"\n",
        "\n",
        "#Obtenemos la matriz de correlación \n",
        "corrMx5 = np.corrcoef(resultant_matrix5, )\n",
        "\n",
        "names = UtMx.columns\n",
        "names_list = list(names)\n",
        "id_megusta = names_list.index(me_gusta)\n",
        "\n",
        "print('Id del restaurante: ',id_megusta)"
      ],
      "metadata": {
        "id": "0I5wsEOteSwG",
        "outputId": "c2e38e7b-6094-4bc3-8e70-77a4ce130b90",
        "colab": {
          "base_uri": "https://localhost:8080/"
        }
      }
    },
    {
      "cell_type": "code",
      "execution_count": 249,
      "outputs": [
        {
          "output_type": "stream",
          "name": "stdout",
          "text": [
            "(129,)\n",
            "[ 8.26808339e-02 -1.60487509e-01  5.32570598e-01 -2.97836619e-01\n",
            " -4.73811117e-03 -7.41763626e-02  1.20101547e-01  9.66995956e-01\n",
            "  9.97711045e-01  2.94148153e-01  9.44135223e-02  3.02493721e-02\n",
            "  2.81438921e-01  3.07379599e-02  1.63596498e-01 -4.50130527e-02\n",
            " -3.79465414e-02  1.89886821e-01 -1.33824127e-01  2.77343149e-01\n",
            " -7.28129478e-02 -3.28427076e-02  3.18813635e-01  2.90548961e-01\n",
            "  9.95809317e-01  9.98270371e-01  2.86082505e-01  1.80550369e-01\n",
            "  2.93887446e-01 -3.40720748e-02  5.85428853e-01  1.36200061e-01\n",
            "  3.83557567e-01  4.90786788e-01 -7.04947453e-02 -4.84781779e-01\n",
            "  9.98219729e-01  6.17595183e-03 -2.20939293e-02  1.33496375e-01\n",
            " -1.29114556e-01  2.79102713e-02 -2.59011076e-03  2.59717547e-01\n",
            "  3.89663781e-01  2.71522358e-02  4.70112294e-02  2.90859259e-01\n",
            "  9.99520175e-01  2.94368156e-01 -2.06162660e-01 -2.22211392e-02\n",
            "  4.26175353e-01  1.06394830e-01 -3.07773168e-02  6.00756809e-04\n",
            "  8.77004770e-02 -3.02227119e-01  4.95320763e-02 -1.76066193e-01\n",
            "  3.00827553e-02 -3.85747054e-02  3.35241226e-01  1.97275869e-01\n",
            " -8.06062213e-03  9.39084560e-02  1.04546183e-01  1.43771265e-01\n",
            "  6.23674092e-02  2.64464887e-01  1.54988613e-01 -2.24962033e-01\n",
            " -3.95151181e-01 -8.79469572e-02  1.15825852e-01 -1.36962263e-01\n",
            "  3.75268990e-01 -9.12042505e-02  3.60470926e-01  1.82044721e-01\n",
            " -6.59667101e-02 -1.61672546e-01 -2.94549687e-01  2.72333159e-01\n",
            "  2.87164396e-02  4.38306933e-02  2.05001852e-03  2.81596303e-01\n",
            "  4.05099353e-02 -3.31330132e-01  8.79380399e-01  9.86166018e-01\n",
            "  9.99901416e-01 -1.69475459e-01  2.36901249e-01  2.85202748e-02\n",
            " -5.87558813e-01  1.70361883e-02  9.26667300e-01  6.79519126e-02\n",
            "  9.95427884e-01  9.99413167e-01  9.82323224e-01 -3.57782569e-01\n",
            "  3.18423053e-02  8.99867520e-02  7.84723374e-02 -3.45320802e-01\n",
            "  1.62665653e-01  2.26047634e-01 -1.22830544e-02  2.21502004e-01\n",
            "  7.74030948e-02  8.68680475e-01  9.99704476e-01  5.28883133e-01\n",
            "  9.99406607e-01  5.21751223e-02  9.99433843e-01  1.77665216e-01\n",
            "  2.52119497e-01 -3.69875136e-01  1.34756438e-01  9.99955798e-01\n",
            "  1.00000000e+00  9.81542856e-01  2.94436365e-02  9.77458446e-01\n",
            "  9.99781478e-01]\n"
          ]
        }
      ],
      "source": [
        "corr_recomienda5 = corrMx5[id_megusta]\n",
        "print(corr_recomienda5.shape)\n",
        "print(corr_recomienda5)"
      ],
      "metadata": {
        "id": "UaJGrLDTeSwG",
        "outputId": "c5af9228-16ad-467b-c42c-b86c40297007",
        "colab": {
          "base_uri": "https://localhost:8080/"
        }
      }
    },
    {
      "cell_type": "code",
      "execution_count": 250,
      "outputs": [
        {
          "output_type": "execute_result",
          "data": {
            "text/plain": [
              "1.0"
            ]
          },
          "metadata": {},
          "execution_count": 250
        }
      ],
      "source": [
        "#Correlacion del restaurante consigo mismo, se visualiza para estudio y validación que la correlacion con el mismo debe sr igual a 1 o muy proximo a este\n",
        "corr_recomienda5[id_megusta]"
      ],
      "metadata": {
        "id": "NmjZqgrzeSwG",
        "outputId": "cc2de984-0c6d-4793-b4ed-6bfce357ce6c",
        "colab": {
          "base_uri": "https://localhost:8080/"
        }
      }
    },
    {
      "cell_type": "code",
      "execution_count": 251,
      "outputs": [
        {
          "output_type": "stream",
          "name": "stdout",
          "text": [
            "10 mejores recomendaciones\n",
            "\n",
            "Restaurante Hamburguesas La perica  | valor correlación:  0.9983\n",
            "Restaurante Little Cesarz  | valor correlación:  0.9982\n",
            "Restaurante Pollo_Frito_Buenos_Aires  | valor correlación:  0.9995\n",
            "Restaurante Taqueria EL amigo   | valor correlación:  0.9999\n",
            "Restaurante carnitas_mata  | valor correlación:  0.9994\n",
            "Restaurante little pizza Emilio Portes Gil  | valor correlación:  0.9997\n",
            "Restaurante palomo tec  | valor correlación:  0.9994\n",
            "Restaurante puesto de gorditas  | valor correlación:  0.9994\n",
            "Restaurante tacos abi  | valor correlación:  1.0\n",
            "Restaurante vips  | valor correlación:  0.9998\n"
          ]
        }
      ],
      "source": [
        "#Obtenemos las 10 mejores recomendaciones de acuerdo a valoracion del restaurante.\n",
        "mejores10T= list(names[(corr_recomienda5 > .998) & (corr_recomienda5 < 0.9999999999)])\n",
        "print('10 mejores recomendaciones\\n')\n",
        "for pos in mejores10T:\n",
        " id_otra = names_list.index(pos)\n",
        " print('Restaurante',pos, ' | valor correlación: ', round(corr_recomienda5[id_otra],4))"
      ],
      "metadata": {
        "id": "SGX6AUgYeSwG",
        "outputId": "d5fed688-2c8e-4bd8-cd75-75b354f75dd3",
        "colab": {
          "base_uri": "https://localhost:8080/"
        }
      }
    },
    {
      "cell_type": "markdown",
      "source": [
        "Conclusiones:\n",
        "\n",
        "En la práctica de aplicación de SVD para reducción de la dimensionalidad podemos observar que al reducir la matriz original de información a una de menor dimensión, obtenemos los valores singulares que representan la cantidad de información, en el ejercicio vimos que al usar solo 10 valores singulares, logramos reducir la cantidad de información en un 76%, esta contiene, para este caso, el grado de satisfacción de los clientes de los restaurantes mencionados, es decir, donde la valoración fue similar, por lo tanto las características dentro de esta asociación representan valores latentes. Pudimos observar en el ejercicio que para el restaurante \"tacos de barbacoa enfrente del Tec\" se tiene una valoración muy cercana para establecimientos del mismo tipo de comida, por ejemplo, vemos con alta correlación, restaurante Vips con 0.99; tacos abi con 1.0; Carnitas mata con 0.99  y taquería el amigo con 0.99. Teniendo en común que son establecimientos de comida típica Mexicana, por lo que concluimos que el sistema de recomendación está basado en que los usuarios valoraron igual a los restaurantes de acuerdo al mismo tipo de comida."
      ],
      "metadata": {
        "id": "mRRq9WncqZQ3"
      }
    },
    {
      "cell_type": "markdown",
      "source": [
        "### Ejercicio 6"
      ],
      "metadata": {
        "collapsed": false,
        "id": "ZEE2JgireSwH"
      }
    },
    {
      "cell_type": "code",
      "execution_count": 252,
      "outputs": [
        {
          "output_type": "execute_result",
          "data": {
            "text/plain": [
              "  userID  placeID  food_rating                    name\n",
              "0  U1077   135085            2  Tortas Locas Hipocampo\n",
              "1  U1108   135085            2  Tortas Locas Hipocampo\n",
              "2  U1081   135085            2  Tortas Locas Hipocampo\n",
              "3  U1056   135085            2  Tortas Locas Hipocampo\n",
              "4  U1134   135085            1  Tortas Locas Hipocampo"
            ],
            "text/html": [
              "\n",
              "  <div id=\"df-0f0f09fe-90fd-4588-85ef-5a2808d672cb\">\n",
              "    <div class=\"colab-df-container\">\n",
              "      <div>\n",
              "<style scoped>\n",
              "    .dataframe tbody tr th:only-of-type {\n",
              "        vertical-align: middle;\n",
              "    }\n",
              "\n",
              "    .dataframe tbody tr th {\n",
              "        vertical-align: top;\n",
              "    }\n",
              "\n",
              "    .dataframe thead th {\n",
              "        text-align: right;\n",
              "    }\n",
              "</style>\n",
              "<table border=\"1\" class=\"dataframe\">\n",
              "  <thead>\n",
              "    <tr style=\"text-align: right;\">\n",
              "      <th></th>\n",
              "      <th>userID</th>\n",
              "      <th>placeID</th>\n",
              "      <th>food_rating</th>\n",
              "      <th>name</th>\n",
              "    </tr>\n",
              "  </thead>\n",
              "  <tbody>\n",
              "    <tr>\n",
              "      <th>0</th>\n",
              "      <td>U1077</td>\n",
              "      <td>135085</td>\n",
              "      <td>2</td>\n",
              "      <td>Tortas Locas Hipocampo</td>\n",
              "    </tr>\n",
              "    <tr>\n",
              "      <th>1</th>\n",
              "      <td>U1108</td>\n",
              "      <td>135085</td>\n",
              "      <td>2</td>\n",
              "      <td>Tortas Locas Hipocampo</td>\n",
              "    </tr>\n",
              "    <tr>\n",
              "      <th>2</th>\n",
              "      <td>U1081</td>\n",
              "      <td>135085</td>\n",
              "      <td>2</td>\n",
              "      <td>Tortas Locas Hipocampo</td>\n",
              "    </tr>\n",
              "    <tr>\n",
              "      <th>3</th>\n",
              "      <td>U1056</td>\n",
              "      <td>135085</td>\n",
              "      <td>2</td>\n",
              "      <td>Tortas Locas Hipocampo</td>\n",
              "    </tr>\n",
              "    <tr>\n",
              "      <th>4</th>\n",
              "      <td>U1134</td>\n",
              "      <td>135085</td>\n",
              "      <td>1</td>\n",
              "      <td>Tortas Locas Hipocampo</td>\n",
              "    </tr>\n",
              "  </tbody>\n",
              "</table>\n",
              "</div>\n",
              "      <button class=\"colab-df-convert\" onclick=\"convertToInteractive('df-0f0f09fe-90fd-4588-85ef-5a2808d672cb')\"\n",
              "              title=\"Convert this dataframe to an interactive table.\"\n",
              "              style=\"display:none;\">\n",
              "        \n",
              "  <svg xmlns=\"http://www.w3.org/2000/svg\" height=\"24px\"viewBox=\"0 0 24 24\"\n",
              "       width=\"24px\">\n",
              "    <path d=\"M0 0h24v24H0V0z\" fill=\"none\"/>\n",
              "    <path d=\"M18.56 5.44l.94 2.06.94-2.06 2.06-.94-2.06-.94-.94-2.06-.94 2.06-2.06.94zm-11 1L8.5 8.5l.94-2.06 2.06-.94-2.06-.94L8.5 2.5l-.94 2.06-2.06.94zm10 10l.94 2.06.94-2.06 2.06-.94-2.06-.94-.94-2.06-.94 2.06-2.06.94z\"/><path d=\"M17.41 7.96l-1.37-1.37c-.4-.4-.92-.59-1.43-.59-.52 0-1.04.2-1.43.59L10.3 9.45l-7.72 7.72c-.78.78-.78 2.05 0 2.83L4 21.41c.39.39.9.59 1.41.59.51 0 1.02-.2 1.41-.59l7.78-7.78 2.81-2.81c.8-.78.8-2.07 0-2.86zM5.41 20L4 18.59l7.72-7.72 1.47 1.35L5.41 20z\"/>\n",
              "  </svg>\n",
              "      </button>\n",
              "      \n",
              "  <style>\n",
              "    .colab-df-container {\n",
              "      display:flex;\n",
              "      flex-wrap:wrap;\n",
              "      gap: 12px;\n",
              "    }\n",
              "\n",
              "    .colab-df-convert {\n",
              "      background-color: #E8F0FE;\n",
              "      border: none;\n",
              "      border-radius: 50%;\n",
              "      cursor: pointer;\n",
              "      display: none;\n",
              "      fill: #1967D2;\n",
              "      height: 32px;\n",
              "      padding: 0 0 0 0;\n",
              "      width: 32px;\n",
              "    }\n",
              "\n",
              "    .colab-df-convert:hover {\n",
              "      background-color: #E2EBFA;\n",
              "      box-shadow: 0px 1px 2px rgba(60, 64, 67, 0.3), 0px 1px 3px 1px rgba(60, 64, 67, 0.15);\n",
              "      fill: #174EA6;\n",
              "    }\n",
              "\n",
              "    [theme=dark] .colab-df-convert {\n",
              "      background-color: #3B4455;\n",
              "      fill: #D2E3FC;\n",
              "    }\n",
              "\n",
              "    [theme=dark] .colab-df-convert:hover {\n",
              "      background-color: #434B5C;\n",
              "      box-shadow: 0px 1px 3px 1px rgba(0, 0, 0, 0.15);\n",
              "      filter: drop-shadow(0px 1px 2px rgba(0, 0, 0, 0.3));\n",
              "      fill: #FFFFFF;\n",
              "    }\n",
              "  </style>\n",
              "\n",
              "      <script>\n",
              "        const buttonEl =\n",
              "          document.querySelector('#df-0f0f09fe-90fd-4588-85ef-5a2808d672cb button.colab-df-convert');\n",
              "        buttonEl.style.display =\n",
              "          google.colab.kernel.accessAllowed ? 'block' : 'none';\n",
              "\n",
              "        async function convertToInteractive(key) {\n",
              "          const element = document.querySelector('#df-0f0f09fe-90fd-4588-85ef-5a2808d672cb');\n",
              "          const dataTable =\n",
              "            await google.colab.kernel.invokeFunction('convertToInteractive',\n",
              "                                                     [key], {});\n",
              "          if (!dataTable) return;\n",
              "\n",
              "          const docLinkHtml = 'Like what you see? Visit the ' +\n",
              "            '<a target=\"_blank\" href=https://colab.research.google.com/notebooks/data_table.ipynb>data table notebook</a>'\n",
              "            + ' to learn more about interactive tables.';\n",
              "          element.innerHTML = '';\n",
              "          dataTable['output_type'] = 'display_data';\n",
              "          await google.colab.output.renderOutput(dataTable, element);\n",
              "          const docLink = document.createElement('div');\n",
              "          docLink.innerHTML = docLinkHtml;\n",
              "          element.appendChild(docLink);\n",
              "        }\n",
              "      </script>\n",
              "    </div>\n",
              "  </div>\n",
              "  "
            ]
          },
          "metadata": {},
          "execution_count": 252
        }
      ],
      "source": [
        "#Cargamos el nuevo dataframe con la informacion de la puntuación dada a las comidas por los usuaarios de cada restaurante\n",
        "dfestudio2=rating[['userID','placeID','food_rating']]\n",
        "#Conjuntamos la informacio del dataframe con el dataframe de los nombres de los restaurantes\n",
        "tabla_relacionalEstudio2 = pd.merge(dfestudio2,restaurantes_nombres, on='placeID')   # dataFrame\n",
        "#Obtenemos las 5 primeras filas\n",
        "tabla_relacionalEstudio2.head()"
      ],
      "metadata": {
        "id": "De0x2OKKeSwI",
        "outputId": "27ce86cd-3307-4d04-ab6f-253479dfcedf",
        "colab": {
          "base_uri": "https://localhost:8080/",
          "height": 206
        }
      }
    },
    {
      "cell_type": "markdown",
      "source": [
        "### Ejercicio 6.2"
      ],
      "metadata": {
        "collapsed": false,
        "id": "KL5tJB9DeSwJ"
      }
    },
    {
      "cell_type": "code",
      "execution_count": 253,
      "outputs": [
        {
          "output_type": "execute_result",
          "data": {
            "text/plain": [
              "name    Abondance Restaurante Bar  Arrachela Grill  Cabana Huasteca  \\\n",
              "userID                                                                \n",
              "U1001                           0                0                0   \n",
              "U1002                           0                0                0   \n",
              "U1003                           0                0                2   \n",
              "U1004                           0                0                0   \n",
              "U1005                           0                0                0   \n",
              "U1006                           0                0                0   \n",
              "U1007                           0                0                0   \n",
              "U1008                           1                0                0   \n",
              "U1009                           0                0                2   \n",
              "U1010                           0                0                0   \n",
              "\n",
              "name    Cafe Chaires  Cafeteria cenidet  Cafeteria y Restaurant El Pacifico  \\\n",
              "userID                                                                        \n",
              "U1001              0                  0                                   0   \n",
              "U1002              0                  0                                   0   \n",
              "U1003              0                  0                                   0   \n",
              "U1004              0                  0                                   2   \n",
              "U1005              0                  0                                   1   \n",
              "U1006              0                  0                                   0   \n",
              "U1007              1                  0                                   1   \n",
              "U1008              0                  0                                   0   \n",
              "U1009              0                  0                                   0   \n",
              "U1010              0                  0                                   0   \n",
              "\n",
              "name    Carls Jr  Carnitas Mata  Calle 16 de Septiembre  \\\n",
              "userID                                                    \n",
              "U1001          0                                      0   \n",
              "U1002          0                                      0   \n",
              "U1003          0                                      0   \n",
              "U1004          0                                      0   \n",
              "U1005          0                                      0   \n",
              "U1006          0                                      0   \n",
              "U1007          0                                      0   \n",
              "U1008          0                                      0   \n",
              "U1009          0                                      0   \n",
              "U1010          0                                      0   \n",
              "\n",
              "name    Carreton de Flautas y Migadas  Cenaduria El RincÃ³n de Tlaquepaque  \\\n",
              "userID                                                                       \n",
              "U1001                               0                                    0   \n",
              "U1002                               0                                    0   \n",
              "U1003                               0                                    0   \n",
              "U1004                               0                                    0   \n",
              "U1005                               0                                    0   \n",
              "U1006                               0                                    0   \n",
              "U1007                               0                                    0   \n",
              "U1008                               0                                    0   \n",
              "U1009                               0                                    0   \n",
              "U1010                               0                                    0   \n",
              "\n",
              "name    ...  puesto de tacos  rockabilly   shi ro ie  sirloin stockade  \\\n",
              "userID  ...                                                              \n",
              "U1001   ...                2            0          0                 0   \n",
              "U1002   ...                2            0          0                 0   \n",
              "U1003   ...                2            2          0                 0   \n",
              "U1004   ...                0            0          0                 0   \n",
              "U1005   ...                0            0          0                 0   \n",
              "U1006   ...                1            0          2                 0   \n",
              "U1007   ...                0            0          0                 0   \n",
              "U1008   ...                0            0          0                 0   \n",
              "U1009   ...                1            0          0                 0   \n",
              "U1010   ...                0            0          0                 0   \n",
              "\n",
              "name    tacos abi  tacos de barbacoa enfrente del Tec  tacos de la estacion  \\\n",
              "userID                                                                        \n",
              "U1001           0                                   0                     0   \n",
              "U1002           0                                   0                     0   \n",
              "U1003           0                                   0                     0   \n",
              "U1004           0                                   0                     0   \n",
              "U1005           0                                   0                     0   \n",
              "U1006           0                                   0                     0   \n",
              "U1007           0                                   0                     0   \n",
              "U1008           0                                   0                     0   \n",
              "U1009           0                                   0                     0   \n",
              "U1010           0                                   0                     0   \n",
              "\n",
              "name    tacos los volcanes  tortas hawai  vips  \n",
              "userID                                          \n",
              "U1001                    0             0     0  \n",
              "U1002                    0             0     0  \n",
              "U1003                    0             0     0  \n",
              "U1004                    2             0     0  \n",
              "U1005                    0             0     0  \n",
              "U1006                    0             0     0  \n",
              "U1007                    0             0     0  \n",
              "U1008                    0             0     0  \n",
              "U1009                    0             0     0  \n",
              "U1010                    0             0     0  \n",
              "\n",
              "[10 rows x 129 columns]"
            ],
            "text/html": [
              "\n",
              "  <div id=\"df-96cee66a-66c2-42ad-b2d2-97d7fb3d50ee\">\n",
              "    <div class=\"colab-df-container\">\n",
              "      <div>\n",
              "<style scoped>\n",
              "    .dataframe tbody tr th:only-of-type {\n",
              "        vertical-align: middle;\n",
              "    }\n",
              "\n",
              "    .dataframe tbody tr th {\n",
              "        vertical-align: top;\n",
              "    }\n",
              "\n",
              "    .dataframe thead th {\n",
              "        text-align: right;\n",
              "    }\n",
              "</style>\n",
              "<table border=\"1\" class=\"dataframe\">\n",
              "  <thead>\n",
              "    <tr style=\"text-align: right;\">\n",
              "      <th>name</th>\n",
              "      <th>Abondance Restaurante Bar</th>\n",
              "      <th>Arrachela Grill</th>\n",
              "      <th>Cabana Huasteca</th>\n",
              "      <th>Cafe Chaires</th>\n",
              "      <th>Cafeteria cenidet</th>\n",
              "      <th>Cafeteria y Restaurant El Pacifico</th>\n",
              "      <th>Carls Jr</th>\n",
              "      <th>Carnitas Mata  Calle 16 de Septiembre</th>\n",
              "      <th>Carreton de Flautas y Migadas</th>\n",
              "      <th>Cenaduria El RincÃ³n de Tlaquepaque</th>\n",
              "      <th>...</th>\n",
              "      <th>puesto de tacos</th>\n",
              "      <th>rockabilly</th>\n",
              "      <th>shi ro ie</th>\n",
              "      <th>sirloin stockade</th>\n",
              "      <th>tacos abi</th>\n",
              "      <th>tacos de barbacoa enfrente del Tec</th>\n",
              "      <th>tacos de la estacion</th>\n",
              "      <th>tacos los volcanes</th>\n",
              "      <th>tortas hawai</th>\n",
              "      <th>vips</th>\n",
              "    </tr>\n",
              "    <tr>\n",
              "      <th>userID</th>\n",
              "      <th></th>\n",
              "      <th></th>\n",
              "      <th></th>\n",
              "      <th></th>\n",
              "      <th></th>\n",
              "      <th></th>\n",
              "      <th></th>\n",
              "      <th></th>\n",
              "      <th></th>\n",
              "      <th></th>\n",
              "      <th></th>\n",
              "      <th></th>\n",
              "      <th></th>\n",
              "      <th></th>\n",
              "      <th></th>\n",
              "      <th></th>\n",
              "      <th></th>\n",
              "      <th></th>\n",
              "      <th></th>\n",
              "      <th></th>\n",
              "      <th></th>\n",
              "    </tr>\n",
              "  </thead>\n",
              "  <tbody>\n",
              "    <tr>\n",
              "      <th>U1001</th>\n",
              "      <td>0</td>\n",
              "      <td>0</td>\n",
              "      <td>0</td>\n",
              "      <td>0</td>\n",
              "      <td>0</td>\n",
              "      <td>0</td>\n",
              "      <td>0</td>\n",
              "      <td>0</td>\n",
              "      <td>0</td>\n",
              "      <td>0</td>\n",
              "      <td>...</td>\n",
              "      <td>2</td>\n",
              "      <td>0</td>\n",
              "      <td>0</td>\n",
              "      <td>0</td>\n",
              "      <td>0</td>\n",
              "      <td>0</td>\n",
              "      <td>0</td>\n",
              "      <td>0</td>\n",
              "      <td>0</td>\n",
              "      <td>0</td>\n",
              "    </tr>\n",
              "    <tr>\n",
              "      <th>U1002</th>\n",
              "      <td>0</td>\n",
              "      <td>0</td>\n",
              "      <td>0</td>\n",
              "      <td>0</td>\n",
              "      <td>0</td>\n",
              "      <td>0</td>\n",
              "      <td>0</td>\n",
              "      <td>0</td>\n",
              "      <td>0</td>\n",
              "      <td>0</td>\n",
              "      <td>...</td>\n",
              "      <td>2</td>\n",
              "      <td>0</td>\n",
              "      <td>0</td>\n",
              "      <td>0</td>\n",
              "      <td>0</td>\n",
              "      <td>0</td>\n",
              "      <td>0</td>\n",
              "      <td>0</td>\n",
              "      <td>0</td>\n",
              "      <td>0</td>\n",
              "    </tr>\n",
              "    <tr>\n",
              "      <th>U1003</th>\n",
              "      <td>0</td>\n",
              "      <td>0</td>\n",
              "      <td>2</td>\n",
              "      <td>0</td>\n",
              "      <td>0</td>\n",
              "      <td>0</td>\n",
              "      <td>0</td>\n",
              "      <td>0</td>\n",
              "      <td>0</td>\n",
              "      <td>0</td>\n",
              "      <td>...</td>\n",
              "      <td>2</td>\n",
              "      <td>2</td>\n",
              "      <td>0</td>\n",
              "      <td>0</td>\n",
              "      <td>0</td>\n",
              "      <td>0</td>\n",
              "      <td>0</td>\n",
              "      <td>0</td>\n",
              "      <td>0</td>\n",
              "      <td>0</td>\n",
              "    </tr>\n",
              "    <tr>\n",
              "      <th>U1004</th>\n",
              "      <td>0</td>\n",
              "      <td>0</td>\n",
              "      <td>0</td>\n",
              "      <td>0</td>\n",
              "      <td>0</td>\n",
              "      <td>2</td>\n",
              "      <td>0</td>\n",
              "      <td>0</td>\n",
              "      <td>0</td>\n",
              "      <td>0</td>\n",
              "      <td>...</td>\n",
              "      <td>0</td>\n",
              "      <td>0</td>\n",
              "      <td>0</td>\n",
              "      <td>0</td>\n",
              "      <td>0</td>\n",
              "      <td>0</td>\n",
              "      <td>0</td>\n",
              "      <td>2</td>\n",
              "      <td>0</td>\n",
              "      <td>0</td>\n",
              "    </tr>\n",
              "    <tr>\n",
              "      <th>U1005</th>\n",
              "      <td>0</td>\n",
              "      <td>0</td>\n",
              "      <td>0</td>\n",
              "      <td>0</td>\n",
              "      <td>0</td>\n",
              "      <td>1</td>\n",
              "      <td>0</td>\n",
              "      <td>0</td>\n",
              "      <td>0</td>\n",
              "      <td>0</td>\n",
              "      <td>...</td>\n",
              "      <td>0</td>\n",
              "      <td>0</td>\n",
              "      <td>0</td>\n",
              "      <td>0</td>\n",
              "      <td>0</td>\n",
              "      <td>0</td>\n",
              "      <td>0</td>\n",
              "      <td>0</td>\n",
              "      <td>0</td>\n",
              "      <td>0</td>\n",
              "    </tr>\n",
              "    <tr>\n",
              "      <th>U1006</th>\n",
              "      <td>0</td>\n",
              "      <td>0</td>\n",
              "      <td>0</td>\n",
              "      <td>0</td>\n",
              "      <td>0</td>\n",
              "      <td>0</td>\n",
              "      <td>0</td>\n",
              "      <td>0</td>\n",
              "      <td>0</td>\n",
              "      <td>0</td>\n",
              "      <td>...</td>\n",
              "      <td>1</td>\n",
              "      <td>0</td>\n",
              "      <td>2</td>\n",
              "      <td>0</td>\n",
              "      <td>0</td>\n",
              "      <td>0</td>\n",
              "      <td>0</td>\n",
              "      <td>0</td>\n",
              "      <td>0</td>\n",
              "      <td>0</td>\n",
              "    </tr>\n",
              "    <tr>\n",
              "      <th>U1007</th>\n",
              "      <td>0</td>\n",
              "      <td>0</td>\n",
              "      <td>0</td>\n",
              "      <td>1</td>\n",
              "      <td>0</td>\n",
              "      <td>1</td>\n",
              "      <td>0</td>\n",
              "      <td>0</td>\n",
              "      <td>0</td>\n",
              "      <td>0</td>\n",
              "      <td>...</td>\n",
              "      <td>0</td>\n",
              "      <td>0</td>\n",
              "      <td>0</td>\n",
              "      <td>0</td>\n",
              "      <td>0</td>\n",
              "      <td>0</td>\n",
              "      <td>0</td>\n",
              "      <td>0</td>\n",
              "      <td>0</td>\n",
              "      <td>0</td>\n",
              "    </tr>\n",
              "    <tr>\n",
              "      <th>U1008</th>\n",
              "      <td>1</td>\n",
              "      <td>0</td>\n",
              "      <td>0</td>\n",
              "      <td>0</td>\n",
              "      <td>0</td>\n",
              "      <td>0</td>\n",
              "      <td>0</td>\n",
              "      <td>0</td>\n",
              "      <td>0</td>\n",
              "      <td>0</td>\n",
              "      <td>...</td>\n",
              "      <td>0</td>\n",
              "      <td>0</td>\n",
              "      <td>0</td>\n",
              "      <td>0</td>\n",
              "      <td>0</td>\n",
              "      <td>0</td>\n",
              "      <td>0</td>\n",
              "      <td>0</td>\n",
              "      <td>0</td>\n",
              "      <td>0</td>\n",
              "    </tr>\n",
              "    <tr>\n",
              "      <th>U1009</th>\n",
              "      <td>0</td>\n",
              "      <td>0</td>\n",
              "      <td>2</td>\n",
              "      <td>0</td>\n",
              "      <td>0</td>\n",
              "      <td>0</td>\n",
              "      <td>0</td>\n",
              "      <td>0</td>\n",
              "      <td>0</td>\n",
              "      <td>0</td>\n",
              "      <td>...</td>\n",
              "      <td>1</td>\n",
              "      <td>0</td>\n",
              "      <td>0</td>\n",
              "      <td>0</td>\n",
              "      <td>0</td>\n",
              "      <td>0</td>\n",
              "      <td>0</td>\n",
              "      <td>0</td>\n",
              "      <td>0</td>\n",
              "      <td>0</td>\n",
              "    </tr>\n",
              "    <tr>\n",
              "      <th>U1010</th>\n",
              "      <td>0</td>\n",
              "      <td>0</td>\n",
              "      <td>0</td>\n",
              "      <td>0</td>\n",
              "      <td>0</td>\n",
              "      <td>0</td>\n",
              "      <td>0</td>\n",
              "      <td>0</td>\n",
              "      <td>0</td>\n",
              "      <td>0</td>\n",
              "      <td>...</td>\n",
              "      <td>0</td>\n",
              "      <td>0</td>\n",
              "      <td>0</td>\n",
              "      <td>0</td>\n",
              "      <td>0</td>\n",
              "      <td>0</td>\n",
              "      <td>0</td>\n",
              "      <td>0</td>\n",
              "      <td>0</td>\n",
              "      <td>0</td>\n",
              "    </tr>\n",
              "  </tbody>\n",
              "</table>\n",
              "<p>10 rows × 129 columns</p>\n",
              "</div>\n",
              "      <button class=\"colab-df-convert\" onclick=\"convertToInteractive('df-96cee66a-66c2-42ad-b2d2-97d7fb3d50ee')\"\n",
              "              title=\"Convert this dataframe to an interactive table.\"\n",
              "              style=\"display:none;\">\n",
              "        \n",
              "  <svg xmlns=\"http://www.w3.org/2000/svg\" height=\"24px\"viewBox=\"0 0 24 24\"\n",
              "       width=\"24px\">\n",
              "    <path d=\"M0 0h24v24H0V0z\" fill=\"none\"/>\n",
              "    <path d=\"M18.56 5.44l.94 2.06.94-2.06 2.06-.94-2.06-.94-.94-2.06-.94 2.06-2.06.94zm-11 1L8.5 8.5l.94-2.06 2.06-.94-2.06-.94L8.5 2.5l-.94 2.06-2.06.94zm10 10l.94 2.06.94-2.06 2.06-.94-2.06-.94-.94-2.06-.94 2.06-2.06.94z\"/><path d=\"M17.41 7.96l-1.37-1.37c-.4-.4-.92-.59-1.43-.59-.52 0-1.04.2-1.43.59L10.3 9.45l-7.72 7.72c-.78.78-.78 2.05 0 2.83L4 21.41c.39.39.9.59 1.41.59.51 0 1.02-.2 1.41-.59l7.78-7.78 2.81-2.81c.8-.78.8-2.07 0-2.86zM5.41 20L4 18.59l7.72-7.72 1.47 1.35L5.41 20z\"/>\n",
              "  </svg>\n",
              "      </button>\n",
              "      \n",
              "  <style>\n",
              "    .colab-df-container {\n",
              "      display:flex;\n",
              "      flex-wrap:wrap;\n",
              "      gap: 12px;\n",
              "    }\n",
              "\n",
              "    .colab-df-convert {\n",
              "      background-color: #E8F0FE;\n",
              "      border: none;\n",
              "      border-radius: 50%;\n",
              "      cursor: pointer;\n",
              "      display: none;\n",
              "      fill: #1967D2;\n",
              "      height: 32px;\n",
              "      padding: 0 0 0 0;\n",
              "      width: 32px;\n",
              "    }\n",
              "\n",
              "    .colab-df-convert:hover {\n",
              "      background-color: #E2EBFA;\n",
              "      box-shadow: 0px 1px 2px rgba(60, 64, 67, 0.3), 0px 1px 3px 1px rgba(60, 64, 67, 0.15);\n",
              "      fill: #174EA6;\n",
              "    }\n",
              "\n",
              "    [theme=dark] .colab-df-convert {\n",
              "      background-color: #3B4455;\n",
              "      fill: #D2E3FC;\n",
              "    }\n",
              "\n",
              "    [theme=dark] .colab-df-convert:hover {\n",
              "      background-color: #434B5C;\n",
              "      box-shadow: 0px 1px 3px 1px rgba(0, 0, 0, 0.15);\n",
              "      filter: drop-shadow(0px 1px 2px rgba(0, 0, 0, 0.3));\n",
              "      fill: #FFFFFF;\n",
              "    }\n",
              "  </style>\n",
              "\n",
              "      <script>\n",
              "        const buttonEl =\n",
              "          document.querySelector('#df-96cee66a-66c2-42ad-b2d2-97d7fb3d50ee button.colab-df-convert');\n",
              "        buttonEl.style.display =\n",
              "          google.colab.kernel.accessAllowed ? 'block' : 'none';\n",
              "\n",
              "        async function convertToInteractive(key) {\n",
              "          const element = document.querySelector('#df-96cee66a-66c2-42ad-b2d2-97d7fb3d50ee');\n",
              "          const dataTable =\n",
              "            await google.colab.kernel.invokeFunction('convertToInteractive',\n",
              "                                                     [key], {});\n",
              "          if (!dataTable) return;\n",
              "\n",
              "          const docLinkHtml = 'Like what you see? Visit the ' +\n",
              "            '<a target=\"_blank\" href=https://colab.research.google.com/notebooks/data_table.ipynb>data table notebook</a>'\n",
              "            + ' to learn more about interactive tables.';\n",
              "          element.innerHTML = '';\n",
              "          dataTable['output_type'] = 'display_data';\n",
              "          await google.colab.output.renderOutput(dataTable, element);\n",
              "          const docLink = document.createElement('div');\n",
              "          docLink.innerHTML = docLinkHtml;\n",
              "          element.appendChild(docLink);\n",
              "        }\n",
              "      </script>\n",
              "    </div>\n",
              "  </div>\n",
              "  "
            ]
          },
          "metadata": {},
          "execution_count": 253
        }
      ],
      "source": [
        "#Generamos la matriz de utilidad mediante el campo UserID, rellando la falta de valores con 0\n",
        "UtMx = tabla_relacionalEstudio2.pivot_table(values='food_rating', index='userID', columns='name', fill_value=0)\n",
        "\n",
        "UtMx.head(10)"
      ],
      "metadata": {
        "id": "Ft4l5McseSwJ",
        "outputId": "4ab317fc-4e72-45e8-d27d-baa9ded4d031",
        "colab": {
          "base_uri": "https://localhost:8080/",
          "height": 557
        }
      }
    },
    {
      "cell_type": "code",
      "execution_count": 254,
      "outputs": [
        {
          "output_type": "execute_result",
          "data": {
            "text/plain": [
              "(138, 129)"
            ]
          },
          "metadata": {},
          "execution_count": 254
        }
      ],
      "source": [
        "UtMx.shape"
      ],
      "metadata": {
        "id": "oVMnXIIUeSwJ",
        "outputId": "e5e43bb0-2644-4d65-c0b0-99251709a06c",
        "colab": {
          "base_uri": "https://localhost:8080/"
        }
      }
    },
    {
      "cell_type": "code",
      "execution_count": 255,
      "outputs": [
        {
          "output_type": "stream",
          "name": "stdout",
          "text": [
            "Total de elementos de la matriz de utilidad: 17802\n",
            "Total de elementos diferentes de cero: 895\n",
            "Porcentaje de elementos diferentes de cero: 5.0%\n"
          ]
        }
      ],
      "source": [
        "print('Total de elementos de la matriz de utilidad: %d' % (UtMx.size))\n",
        "print('Total de elementos diferentes de cero: %d' % (np.count_nonzero(UtMx)))\n",
        "print('Porcentaje de elementos diferentes de cero: %.1f%%' % (100 * np.count_nonzero(UtMx) / UtMx.size))"
      ],
      "metadata": {
        "id": "gGD4x9lDeSwJ",
        "outputId": "25d7b6ae-a23c-4e9f-b30e-fa4dd62ff799",
        "colab": {
          "base_uri": "https://localhost:8080/"
        }
      }
    },
    {
      "cell_type": "code",
      "execution_count": 256,
      "outputs": [
        {
          "output_type": "execute_result",
          "data": {
            "text/plain": [
              "(129, 138)"
            ]
          },
          "metadata": {},
          "execution_count": 256
        }
      ],
      "source": [
        "X = UtMx.T     # Tomamos la traspuesta para que los renglones sean los restaurantes y las columnas los usuarios.\n",
        "X.shape"
      ],
      "metadata": {
        "id": "c3PKhf3IeSwK",
        "outputId": "2df32200-1b8e-474c-f989-8e1a3317e16d",
        "colab": {
          "base_uri": "https://localhost:8080/"
        }
      }
    },
    {
      "cell_type": "code",
      "execution_count": 258,
      "outputs": [
        {
          "output_type": "stream",
          "name": "stdout",
          "text": [
            "Cantidad de información simplificada con los primeros 10 vectores singulares:\n",
            "75.9%\n"
          ]
        }
      ],
      "source": [
        "# Obtengamos la cantidad de información contenida en la factorización SVD, considerando\n",
        "# los valores singulares más representativos de dicha factorización.\n",
        "# Para este caso inicial usaremos todos los vectores singulares, para luego\n",
        "# compararlo con el caso al reducir su dimensión.\n",
        "\n",
        " # El número de componentes debe ser menor que el número de características (features/usuarios), que son 138:\n",
        "SVD = TruncatedSVD(n_components=137, random_state=1)\n",
        "SVD.fit(X)\n",
        "\n",
        "num_sv =10 # En particular los 10 primeros vectores y valores singulares de mayor magnitud tienen esta cantidad de información.\n",
        "\n",
        "print('Cantidad de información simplificada con los primeros %d vectores singulares:' % num_sv)\n",
        "print('%.1f%%' %  (100 * (1- (SVD.singular_values_[0:num_sv]).sum() / (SVD.singular_values_).sum())))"
      ],
      "metadata": {
        "id": "XTZi8BRteSwK",
        "outputId": "bb603568-ab4d-4a62-f2ac-baf25b60b285",
        "colab": {
          "base_uri": "https://localhost:8080/"
        }
      }
    },
    {
      "cell_type": "code",
      "execution_count": 259,
      "outputs": [
        {
          "output_type": "execute_result",
          "data": {
            "text/plain": [
              "(129, 129)"
            ]
          },
          "metadata": {},
          "execution_count": 259
        }
      ],
      "source": [
        "num_sv = 137 # para este ejercicio usaremos todos\n",
        "\n",
        "SVD = TruncatedSVD(n_components=num_sv, random_state=1)\n",
        "\n",
        "resultant_matrix = SVD.fit_transform(X)\n",
        "resultant_matrix.shape"
      ],
      "metadata": {
        "id": "Ly9A1Yq5eSwK",
        "outputId": "69de0fbe-a0d9-4f05-b380-bc8f8b076cf0",
        "colab": {
          "base_uri": "https://localhost:8080/"
        }
      }
    },
    {
      "cell_type": "code",
      "execution_count": 260,
      "outputs": [
        {
          "output_type": "execute_result",
          "data": {
            "text/plain": [
              "(129, 129)"
            ]
          },
          "metadata": {},
          "execution_count": 260
        }
      ],
      "source": [
        "corrMx = np.corrcoef(resultant_matrix, )\n",
        "corrMx.shape"
      ],
      "metadata": {
        "id": "WE2zo7aneSwK",
        "outputId": "fa4f6ba4-ae94-4493-a9d0-e91769b1367d",
        "colab": {
          "base_uri": "https://localhost:8080/"
        }
      }
    },
    {
      "cell_type": "markdown",
      "source": [
        "### Ejercico 6.3"
      ],
      "metadata": {
        "collapsed": false,
        "id": "BMzhTfiJeSwL"
      }
    },
    {
      "cell_type": "code",
      "execution_count": 261,
      "outputs": [
        {
          "output_type": "execute_result",
          "data": {
            "text/plain": [
              "88"
            ]
          },
          "metadata": {},
          "execution_count": 261
        }
      ],
      "source": [
        "#Tomamos el restaurante \"subway\" para valorar la correlación de este en cuanto a la valoración de la comida con los demas establecimientos\n",
        "me_gusta = \"Subway\"\n",
        "\n",
        "names = UtMx.columns\n",
        "names_list = list(names)\n",
        "id_megusta = names_list.index(me_gusta)\n",
        "\n",
        "id_megusta"
      ],
      "metadata": {
        "id": "ykNOTEAZeSwL",
        "outputId": "e415e0d3-4d37-463a-fedd-14627228a8f2",
        "colab": {
          "base_uri": "https://localhost:8080/"
        }
      }
    },
    {
      "cell_type": "code",
      "execution_count": 262,
      "outputs": [
        {
          "output_type": "stream",
          "name": "stdout",
          "text": [
            "(129,)\n",
            "[-5.06418108e-03  1.53891772e-03 -7.15705294e-03 -7.51437349e-04\n",
            "  3.57844065e-04 -4.27908953e-03 -4.10491062e-03 -8.72391553e-03\n",
            " -5.80659154e-03 -7.37551348e-03 -6.29677017e-03  1.19529006e-03\n",
            " -5.49056441e-03 -6.25106315e-03 -2.26808294e-04  2.26784575e-03\n",
            " -4.97923491e-03 -7.33491870e-03 -5.49091909e-05 -6.54487708e-03\n",
            " -7.17291384e-04  2.31333734e-01 -9.42653806e-04  1.15809414e-03\n",
            " -2.44343966e-03 -2.46720616e-03 -8.43368969e-04 -2.05629573e-03\n",
            " -3.70288596e-03  2.50357400e-01 -5.28927854e-03  2.72981977e-03\n",
            "  4.14365709e-04 -9.51153872e-03  2.32009229e-03 -9.29532082e-03\n",
            " -4.03970901e-03  1.31858098e-01 -8.36645261e-03 -2.30125601e-03\n",
            " -2.61409620e-03  4.15222053e-01  4.25538306e-03  3.02880631e-03\n",
            " -2.46282020e-03  2.09493113e-01  3.12082362e-01 -3.01154158e-03\n",
            " -3.10972278e-04 -1.11824996e-03  8.07121501e-04  2.24213782e-01\n",
            "  2.65096107e-04  6.44807197e-04  2.32708368e-01  3.31706780e-01\n",
            "  6.95063851e-04  3.47994174e-04  8.16413374e-01  1.04699730e-04\n",
            "  4.68949686e-01  4.43119191e-03 -2.79083259e-03 -4.74310321e-03\n",
            "  9.45625400e-02 -4.32375633e-03 -9.91593839e-03  6.59128482e-03\n",
            " -5.26009411e-03 -8.53125476e-03 -1.08456080e-02  5.80519412e-03\n",
            "  3.26361206e-03  1.18239199e-03  1.50584868e-04 -6.05677040e-03\n",
            " -8.57964598e-04 -5.47089297e-04  1.30496863e-03  1.14112586e-03\n",
            " -3.15094052e-03  1.03603724e-02  2.95398913e-03 -9.38144208e-03\n",
            " -6.29169520e-04  3.81819463e-01  3.65656688e-01  4.28784461e-04\n",
            "  1.00000000e+00 -1.99936321e-03 -4.29943952e-03 -9.95112702e-03\n",
            " -6.58885162e-03 -4.81048142e-03 -5.63718446e-03 -1.74366758e-03\n",
            "  3.01538197e-03  4.42147702e-01 -5.86019551e-03 -1.52653108e-03\n",
            " -8.54349820e-03  3.15606317e-03  2.45599865e-04 -4.60337555e-03\n",
            " -7.91423599e-04  8.56988031e-04  1.98632124e-03 -9.14149262e-04\n",
            " -9.63185863e-03 -6.59421891e-03 -3.61768796e-03 -4.98574218e-03\n",
            " -2.08219907e-03 -8.12719293e-04 -2.93115223e-03 -2.83804692e-03\n",
            "  2.86699454e-03 -2.84151084e-04 -6.54974706e-03 -8.56547287e-03\n",
            "  1.73284166e-04 -9.40493206e-03 -7.95661685e-03 -1.05138327e-02\n",
            " -5.78915963e-03 -5.39973770e-03 -7.67089017e-03  6.33375557e-03\n",
            " -2.57101052e-03]\n"
          ]
        }
      ],
      "source": [
        "corr_recomienda = corrMx[id_megusta]\n",
        "print(corr_recomienda.shape)\n",
        "print(corr_recomienda)"
      ],
      "metadata": {
        "id": "AqbZIKxJeSwL",
        "outputId": "057708fc-5db3-4944-ebeb-adab9ba9bbff",
        "colab": {
          "base_uri": "https://localhost:8080/"
        }
      }
    },
    {
      "cell_type": "code",
      "execution_count": 263,
      "outputs": [
        {
          "output_type": "execute_result",
          "data": {
            "text/plain": [
              "1.0"
            ]
          },
          "metadata": {},
          "execution_count": 263
        }
      ],
      "source": [
        "corr_recomienda[id_megusta]"
      ],
      "metadata": {
        "id": "zfl465f7eSwL",
        "outputId": "56f17390-664e-4d6b-e9b2-dd2172fd4b1f",
        "colab": {
          "base_uri": "https://localhost:8080/"
        }
      }
    },
    {
      "cell_type": "code",
      "execution_count": 266,
      "outputs": [
        {
          "output_type": "stream",
          "name": "stdout",
          "text": [
            "Mejores 10 restaurantes de acuerdo a valoracion de la comida de acuerdo a la correlación con \"Subway\"\n",
            "\n",
            "Restaurante Kiku Cuernavaca  | valor correlación:  0.25\n",
            "Restaurante Mariscos Tia Licha  | valor correlación:  0.42\n",
            "Restaurante Paniroles  | valor correlación:  0.31\n",
            "Restaurante Restaurant Familiar El Chino  | valor correlación:  0.23\n",
            "Restaurante Restaurant Las Mananitas  | valor correlación:  0.33\n",
            "Restaurante Restaurant Teely  | valor correlación:  0.82\n",
            "Restaurante Restaurant and Bar and Clothesline Carlos N Charlies  | valor correlación:  0.47\n",
            "Restaurante Rincon del Bife  | valor correlación:  0.38\n",
            "Restaurante Sanborns Casa Piedra  | valor correlación:  0.37\n",
            "Restaurante Vips  | valor correlación:  0.44\n"
          ]
        }
      ],
      "source": [
        "Best10=list(names[(corr_recomienda > .232) & (corr_recomienda < 0.99999)])\n",
        "print('Mejores 10 restaurantes de acuerdo a valoracion de la comida de acuerdo a la correlación con \"Subway\"\\n')\n",
        "for pos in Best10:\n",
        " id_otra = names_list.index(pos)\n",
        " print('Restaurante',pos, ' | valor correlación: ', round(corr_recomienda[id_otra],2))"
      ],
      "metadata": {
        "id": "axv5vbNweSwL",
        "outputId": "2e5d3892-8fc6-4828-b4ab-e8edc7c41f10",
        "colab": {
          "base_uri": "https://localhost:8080/"
        }
      }
    },
    {
      "cell_type": "markdown",
      "source": [
        "### Ejercicio 6.4"
      ],
      "metadata": {
        "collapsed": false,
        "id": "Zx7zDZhveSwL"
      }
    },
    {
      "cell_type": "code",
      "execution_count": 353,
      "outputs": [
        {
          "output_type": "stream",
          "name": "stdout",
          "text": [
            "Restaurante El cotorreo  | valor correlación:  0.9973\n",
            "Restaurante Mariscos Tia Licha  | valor correlación:  0.865\n",
            "Restaurante Mikasa  | valor correlación:  0.9254\n",
            "Restaurante Paniroles  | valor correlación:  0.8647\n",
            "Restaurante Restaurant Las Mananitas  | valor correlación:  0.8738\n",
            "Restaurante Restaurant Teely  | valor correlación:  0.9528\n",
            "Restaurante Restaurant and Bar and Clothesline Carlos N Charlies  | valor correlación:  0.9416\n",
            "Restaurante Restaurant los Pinos  | valor correlación:  0.8925\n",
            "Restaurante Rincon del Bife  | valor correlación:  0.9974\n",
            "Restaurante Vips  | valor correlación:  0.9948\n"
          ]
        }
      ],
      "source": [
        "num_sv = 12\n",
        "\n",
        "SVD = TruncatedSVD(n_components=num_sv, random_state=1)\n",
        "\n",
        "resultant_matrix6 = SVD.fit_transform(X)\n",
        "resultant_matrix6.shape\n",
        "\n",
        "corrMx6 = np.corrcoef(resultant_matrix6, )\n",
        "corrMx6.shape\n",
        "\n",
        "me_gusta = \"Subway\"\n",
        "names = UtMx.columns\n",
        "names_list = list(names)\n",
        "id_megusta = names_list.index(me_gusta)\n",
        "\n",
        "corr_recomienda6 = corrMx6[id_megusta]\n",
        "\n",
        "corr_recomienda6[id_megusta]\n",
        "mejores10=list(names[(corr_recomienda6 > .85) & (corr_recomienda6 < 0.9999)])\n",
        "for pos in mejores10:\n",
        " id_otra = names_list.index(pos)\n",
        " print('Restaurante',pos, ' | valor correlación: ', round(corr_recomienda6[id_otra],4))"
      ],
      "metadata": {
        "id": "y2AS2CEXeSwM",
        "outputId": "1f94b12d-aebb-42a7-937c-d3fc649f0399",
        "colab": {
          "base_uri": "https://localhost:8080/"
        }
      }
    },
    {
      "cell_type": "code",
      "execution_count": 354,
      "outputs": [
        {
          "output_type": "stream",
          "name": "stdout",
          "text": [
            "Numero de Recomandaciones iguales: 7\n"
          ]
        }
      ],
      "source": [
        "print(\"Numero de Recomandaciones iguales:\",len(set(mejores10).intersection(Best10)))"
      ],
      "metadata": {
        "id": "W25jo-O8eSwM",
        "outputId": "894d4f05-b448-4a85-f440-7a92e324f02c",
        "colab": {
          "base_uri": "https://localhost:8080/"
        }
      }
    },
    {
      "cell_type": "markdown",
      "source": [
        "### Ejercicio 7"
      ],
      "metadata": {
        "collapsed": false,
        "id": "epxKL3eUeSwM"
      }
    },
    {
      "cell_type": "code",
      "execution_count": 51,
      "outputs": [
        {
          "output_type": "execute_result",
          "data": {
            "text/plain": [
              "  userID  placeID  service_rating                    name\n",
              "0  U1077   135085               2  Tortas Locas Hipocampo\n",
              "1  U1108   135085               1  Tortas Locas Hipocampo\n",
              "2  U1081   135085               1  Tortas Locas Hipocampo\n",
              "3  U1056   135085               2  Tortas Locas Hipocampo\n",
              "4  U1134   135085               2  Tortas Locas Hipocampo"
            ],
            "text/html": [
              "\n",
              "  <div id=\"df-71ba4b8a-445f-46e2-b7ce-795ed44b2fc6\">\n",
              "    <div class=\"colab-df-container\">\n",
              "      <div>\n",
              "<style scoped>\n",
              "    .dataframe tbody tr th:only-of-type {\n",
              "        vertical-align: middle;\n",
              "    }\n",
              "\n",
              "    .dataframe tbody tr th {\n",
              "        vertical-align: top;\n",
              "    }\n",
              "\n",
              "    .dataframe thead th {\n",
              "        text-align: right;\n",
              "    }\n",
              "</style>\n",
              "<table border=\"1\" class=\"dataframe\">\n",
              "  <thead>\n",
              "    <tr style=\"text-align: right;\">\n",
              "      <th></th>\n",
              "      <th>userID</th>\n",
              "      <th>placeID</th>\n",
              "      <th>service_rating</th>\n",
              "      <th>name</th>\n",
              "    </tr>\n",
              "  </thead>\n",
              "  <tbody>\n",
              "    <tr>\n",
              "      <th>0</th>\n",
              "      <td>U1077</td>\n",
              "      <td>135085</td>\n",
              "      <td>2</td>\n",
              "      <td>Tortas Locas Hipocampo</td>\n",
              "    </tr>\n",
              "    <tr>\n",
              "      <th>1</th>\n",
              "      <td>U1108</td>\n",
              "      <td>135085</td>\n",
              "      <td>1</td>\n",
              "      <td>Tortas Locas Hipocampo</td>\n",
              "    </tr>\n",
              "    <tr>\n",
              "      <th>2</th>\n",
              "      <td>U1081</td>\n",
              "      <td>135085</td>\n",
              "      <td>1</td>\n",
              "      <td>Tortas Locas Hipocampo</td>\n",
              "    </tr>\n",
              "    <tr>\n",
              "      <th>3</th>\n",
              "      <td>U1056</td>\n",
              "      <td>135085</td>\n",
              "      <td>2</td>\n",
              "      <td>Tortas Locas Hipocampo</td>\n",
              "    </tr>\n",
              "    <tr>\n",
              "      <th>4</th>\n",
              "      <td>U1134</td>\n",
              "      <td>135085</td>\n",
              "      <td>2</td>\n",
              "      <td>Tortas Locas Hipocampo</td>\n",
              "    </tr>\n",
              "  </tbody>\n",
              "</table>\n",
              "</div>\n",
              "      <button class=\"colab-df-convert\" onclick=\"convertToInteractive('df-71ba4b8a-445f-46e2-b7ce-795ed44b2fc6')\"\n",
              "              title=\"Convert this dataframe to an interactive table.\"\n",
              "              style=\"display:none;\">\n",
              "        \n",
              "  <svg xmlns=\"http://www.w3.org/2000/svg\" height=\"24px\"viewBox=\"0 0 24 24\"\n",
              "       width=\"24px\">\n",
              "    <path d=\"M0 0h24v24H0V0z\" fill=\"none\"/>\n",
              "    <path d=\"M18.56 5.44l.94 2.06.94-2.06 2.06-.94-2.06-.94-.94-2.06-.94 2.06-2.06.94zm-11 1L8.5 8.5l.94-2.06 2.06-.94-2.06-.94L8.5 2.5l-.94 2.06-2.06.94zm10 10l.94 2.06.94-2.06 2.06-.94-2.06-.94-.94-2.06-.94 2.06-2.06.94z\"/><path d=\"M17.41 7.96l-1.37-1.37c-.4-.4-.92-.59-1.43-.59-.52 0-1.04.2-1.43.59L10.3 9.45l-7.72 7.72c-.78.78-.78 2.05 0 2.83L4 21.41c.39.39.9.59 1.41.59.51 0 1.02-.2 1.41-.59l7.78-7.78 2.81-2.81c.8-.78.8-2.07 0-2.86zM5.41 20L4 18.59l7.72-7.72 1.47 1.35L5.41 20z\"/>\n",
              "  </svg>\n",
              "      </button>\n",
              "      \n",
              "  <style>\n",
              "    .colab-df-container {\n",
              "      display:flex;\n",
              "      flex-wrap:wrap;\n",
              "      gap: 12px;\n",
              "    }\n",
              "\n",
              "    .colab-df-convert {\n",
              "      background-color: #E8F0FE;\n",
              "      border: none;\n",
              "      border-radius: 50%;\n",
              "      cursor: pointer;\n",
              "      display: none;\n",
              "      fill: #1967D2;\n",
              "      height: 32px;\n",
              "      padding: 0 0 0 0;\n",
              "      width: 32px;\n",
              "    }\n",
              "\n",
              "    .colab-df-convert:hover {\n",
              "      background-color: #E2EBFA;\n",
              "      box-shadow: 0px 1px 2px rgba(60, 64, 67, 0.3), 0px 1px 3px 1px rgba(60, 64, 67, 0.15);\n",
              "      fill: #174EA6;\n",
              "    }\n",
              "\n",
              "    [theme=dark] .colab-df-convert {\n",
              "      background-color: #3B4455;\n",
              "      fill: #D2E3FC;\n",
              "    }\n",
              "\n",
              "    [theme=dark] .colab-df-convert:hover {\n",
              "      background-color: #434B5C;\n",
              "      box-shadow: 0px 1px 3px 1px rgba(0, 0, 0, 0.15);\n",
              "      filter: drop-shadow(0px 1px 2px rgba(0, 0, 0, 0.3));\n",
              "      fill: #FFFFFF;\n",
              "    }\n",
              "  </style>\n",
              "\n",
              "      <script>\n",
              "        const buttonEl =\n",
              "          document.querySelector('#df-71ba4b8a-445f-46e2-b7ce-795ed44b2fc6 button.colab-df-convert');\n",
              "        buttonEl.style.display =\n",
              "          google.colab.kernel.accessAllowed ? 'block' : 'none';\n",
              "\n",
              "        async function convertToInteractive(key) {\n",
              "          const element = document.querySelector('#df-71ba4b8a-445f-46e2-b7ce-795ed44b2fc6');\n",
              "          const dataTable =\n",
              "            await google.colab.kernel.invokeFunction('convertToInteractive',\n",
              "                                                     [key], {});\n",
              "          if (!dataTable) return;\n",
              "\n",
              "          const docLinkHtml = 'Like what you see? Visit the ' +\n",
              "            '<a target=\"_blank\" href=https://colab.research.google.com/notebooks/data_table.ipynb>data table notebook</a>'\n",
              "            + ' to learn more about interactive tables.';\n",
              "          element.innerHTML = '';\n",
              "          dataTable['output_type'] = 'display_data';\n",
              "          await google.colab.output.renderOutput(dataTable, element);\n",
              "          const docLink = document.createElement('div');\n",
              "          docLink.innerHTML = docLinkHtml;\n",
              "          element.appendChild(docLink);\n",
              "        }\n",
              "      </script>\n",
              "    </div>\n",
              "  </div>\n",
              "  "
            ]
          },
          "metadata": {},
          "execution_count": 51
        }
      ],
      "source": [
        "#Cargamos el nuevo dataframe con la informacion de la puntuación dada al servicio por los usuarios de cada restaurante\n",
        "dfestudio3=rating[['userID','placeID','service_rating']]\n",
        "#Conjuntamos la informacio del dataframe con el dataframe de los nombres de los restaurantes\n",
        "tabla_relacionalEstudio3 = pd.merge(dfestudio3,restaurantes_nombres, on='placeID')   # dataFrame\n",
        "#Obtenemos las 5 primeras filas\n",
        "tabla_relacionalEstudio3.head()"
      ],
      "metadata": {
        "id": "PoaW8FMEeSwM",
        "outputId": "640010a0-5bcb-4ab2-a0db-41505046df53",
        "colab": {
          "base_uri": "https://localhost:8080/",
          "height": 206
        }
      }
    },
    {
      "cell_type": "markdown",
      "source": [
        "### Ejercico 7.2"
      ],
      "metadata": {
        "collapsed": false,
        "id": "1NFvmW8neSwN"
      }
    },
    {
      "cell_type": "code",
      "execution_count": 52,
      "outputs": [
        {
          "output_type": "execute_result",
          "data": {
            "text/plain": [
              "name    Abondance Restaurante Bar  Arrachela Grill  Cabana Huasteca  \\\n",
              "userID                                                                \n",
              "U1001                           0                0                0   \n",
              "U1002                           0                0                0   \n",
              "U1003                           0                0                2   \n",
              "U1004                           0                0                0   \n",
              "U1005                           0                0                0   \n",
              "U1006                           0                0                0   \n",
              "U1007                           0                0                0   \n",
              "U1008                           1                0                0   \n",
              "U1009                           0                0                1   \n",
              "U1010                           0                0                0   \n",
              "\n",
              "name    Cafe Chaires  Cafeteria cenidet  Cafeteria y Restaurant El Pacifico  \\\n",
              "userID                                                                        \n",
              "U1001              0                  0                                   0   \n",
              "U1002              0                  0                                   0   \n",
              "U1003              0                  0                                   0   \n",
              "U1004              0                  0                                   2   \n",
              "U1005              0                  0                                   2   \n",
              "U1006              1                  0                                   0   \n",
              "U1007              1                  0                                   0   \n",
              "U1008              0                  0                                   0   \n",
              "U1009              0                  0                                   0   \n",
              "U1010              0                  0                                   0   \n",
              "\n",
              "name    Carls Jr  Carnitas Mata  Calle 16 de Septiembre  \\\n",
              "userID                                                    \n",
              "U1001          0                                      0   \n",
              "U1002          0                                      0   \n",
              "U1003          0                                      0   \n",
              "U1004          0                                      0   \n",
              "U1005          0                                      0   \n",
              "U1006          0                                      0   \n",
              "U1007          0                                      0   \n",
              "U1008          0                                      0   \n",
              "U1009          0                                      0   \n",
              "U1010          0                                      0   \n",
              "\n",
              "name    Carreton de Flautas y Migadas  Cenaduria El RincÃ³n de Tlaquepaque  \\\n",
              "userID                                                                       \n",
              "U1001                               0                                    0   \n",
              "U1002                               0                                    0   \n",
              "U1003                               0                                    0   \n",
              "U1004                               0                                    0   \n",
              "U1005                               0                                    0   \n",
              "U1006                               0                                    0   \n",
              "U1007                               0                                    0   \n",
              "U1008                               0                                    0   \n",
              "U1009                               0                                    0   \n",
              "U1010                               0                                    0   \n",
              "\n",
              "name    ...  puesto de tacos  rockabilly   shi ro ie  sirloin stockade  \\\n",
              "userID  ...                                                              \n",
              "U1001   ...                1            0          0                 0   \n",
              "U1002   ...                0            0          0                 0   \n",
              "U1003   ...                1            1          0                 0   \n",
              "U1004   ...                0            0          0                 0   \n",
              "U1005   ...                0            0          0                 0   \n",
              "U1006   ...                1            0          2                 0   \n",
              "U1007   ...                0            0          0                 0   \n",
              "U1008   ...                0            0          0                 0   \n",
              "U1009   ...                0            0          0                 0   \n",
              "U1010   ...                0            0          0                 0   \n",
              "\n",
              "name    tacos abi  tacos de barbacoa enfrente del Tec  tacos de la estacion  \\\n",
              "userID                                                                        \n",
              "U1001           0                                   0                     0   \n",
              "U1002           0                                   0                     0   \n",
              "U1003           0                                   0                     0   \n",
              "U1004           0                                   0                     0   \n",
              "U1005           0                                   0                     0   \n",
              "U1006           0                                   0                     0   \n",
              "U1007           0                                   0                     0   \n",
              "U1008           0                                   0                     0   \n",
              "U1009           0                                   0                     0   \n",
              "U1010           0                                   0                     0   \n",
              "\n",
              "name    tacos los volcanes  tortas hawai  vips  \n",
              "userID                                          \n",
              "U1001                    0             0     0  \n",
              "U1002                    0             0     0  \n",
              "U1003                    0             0     0  \n",
              "U1004                    2             0     0  \n",
              "U1005                    0             0     0  \n",
              "U1006                    0             0     0  \n",
              "U1007                    0             0     0  \n",
              "U1008                    0             0     0  \n",
              "U1009                    0             0     0  \n",
              "U1010                    0             0     0  \n",
              "\n",
              "[10 rows x 129 columns]"
            ],
            "text/html": [
              "\n",
              "  <div id=\"df-8eaba5a7-73c8-4f93-895b-fcb5c9afdef0\">\n",
              "    <div class=\"colab-df-container\">\n",
              "      <div>\n",
              "<style scoped>\n",
              "    .dataframe tbody tr th:only-of-type {\n",
              "        vertical-align: middle;\n",
              "    }\n",
              "\n",
              "    .dataframe tbody tr th {\n",
              "        vertical-align: top;\n",
              "    }\n",
              "\n",
              "    .dataframe thead th {\n",
              "        text-align: right;\n",
              "    }\n",
              "</style>\n",
              "<table border=\"1\" class=\"dataframe\">\n",
              "  <thead>\n",
              "    <tr style=\"text-align: right;\">\n",
              "      <th>name</th>\n",
              "      <th>Abondance Restaurante Bar</th>\n",
              "      <th>Arrachela Grill</th>\n",
              "      <th>Cabana Huasteca</th>\n",
              "      <th>Cafe Chaires</th>\n",
              "      <th>Cafeteria cenidet</th>\n",
              "      <th>Cafeteria y Restaurant El Pacifico</th>\n",
              "      <th>Carls Jr</th>\n",
              "      <th>Carnitas Mata  Calle 16 de Septiembre</th>\n",
              "      <th>Carreton de Flautas y Migadas</th>\n",
              "      <th>Cenaduria El RincÃ³n de Tlaquepaque</th>\n",
              "      <th>...</th>\n",
              "      <th>puesto de tacos</th>\n",
              "      <th>rockabilly</th>\n",
              "      <th>shi ro ie</th>\n",
              "      <th>sirloin stockade</th>\n",
              "      <th>tacos abi</th>\n",
              "      <th>tacos de barbacoa enfrente del Tec</th>\n",
              "      <th>tacos de la estacion</th>\n",
              "      <th>tacos los volcanes</th>\n",
              "      <th>tortas hawai</th>\n",
              "      <th>vips</th>\n",
              "    </tr>\n",
              "    <tr>\n",
              "      <th>userID</th>\n",
              "      <th></th>\n",
              "      <th></th>\n",
              "      <th></th>\n",
              "      <th></th>\n",
              "      <th></th>\n",
              "      <th></th>\n",
              "      <th></th>\n",
              "      <th></th>\n",
              "      <th></th>\n",
              "      <th></th>\n",
              "      <th></th>\n",
              "      <th></th>\n",
              "      <th></th>\n",
              "      <th></th>\n",
              "      <th></th>\n",
              "      <th></th>\n",
              "      <th></th>\n",
              "      <th></th>\n",
              "      <th></th>\n",
              "      <th></th>\n",
              "      <th></th>\n",
              "    </tr>\n",
              "  </thead>\n",
              "  <tbody>\n",
              "    <tr>\n",
              "      <th>U1001</th>\n",
              "      <td>0</td>\n",
              "      <td>0</td>\n",
              "      <td>0</td>\n",
              "      <td>0</td>\n",
              "      <td>0</td>\n",
              "      <td>0</td>\n",
              "      <td>0</td>\n",
              "      <td>0</td>\n",
              "      <td>0</td>\n",
              "      <td>0</td>\n",
              "      <td>...</td>\n",
              "      <td>1</td>\n",
              "      <td>0</td>\n",
              "      <td>0</td>\n",
              "      <td>0</td>\n",
              "      <td>0</td>\n",
              "      <td>0</td>\n",
              "      <td>0</td>\n",
              "      <td>0</td>\n",
              "      <td>0</td>\n",
              "      <td>0</td>\n",
              "    </tr>\n",
              "    <tr>\n",
              "      <th>U1002</th>\n",
              "      <td>0</td>\n",
              "      <td>0</td>\n",
              "      <td>0</td>\n",
              "      <td>0</td>\n",
              "      <td>0</td>\n",
              "      <td>0</td>\n",
              "      <td>0</td>\n",
              "      <td>0</td>\n",
              "      <td>0</td>\n",
              "      <td>0</td>\n",
              "      <td>...</td>\n",
              "      <td>0</td>\n",
              "      <td>0</td>\n",
              "      <td>0</td>\n",
              "      <td>0</td>\n",
              "      <td>0</td>\n",
              "      <td>0</td>\n",
              "      <td>0</td>\n",
              "      <td>0</td>\n",
              "      <td>0</td>\n",
              "      <td>0</td>\n",
              "    </tr>\n",
              "    <tr>\n",
              "      <th>U1003</th>\n",
              "      <td>0</td>\n",
              "      <td>0</td>\n",
              "      <td>2</td>\n",
              "      <td>0</td>\n",
              "      <td>0</td>\n",
              "      <td>0</td>\n",
              "      <td>0</td>\n",
              "      <td>0</td>\n",
              "      <td>0</td>\n",
              "      <td>0</td>\n",
              "      <td>...</td>\n",
              "      <td>1</td>\n",
              "      <td>1</td>\n",
              "      <td>0</td>\n",
              "      <td>0</td>\n",
              "      <td>0</td>\n",
              "      <td>0</td>\n",
              "      <td>0</td>\n",
              "      <td>0</td>\n",
              "      <td>0</td>\n",
              "      <td>0</td>\n",
              "    </tr>\n",
              "    <tr>\n",
              "      <th>U1004</th>\n",
              "      <td>0</td>\n",
              "      <td>0</td>\n",
              "      <td>0</td>\n",
              "      <td>0</td>\n",
              "      <td>0</td>\n",
              "      <td>2</td>\n",
              "      <td>0</td>\n",
              "      <td>0</td>\n",
              "      <td>0</td>\n",
              "      <td>0</td>\n",
              "      <td>...</td>\n",
              "      <td>0</td>\n",
              "      <td>0</td>\n",
              "      <td>0</td>\n",
              "      <td>0</td>\n",
              "      <td>0</td>\n",
              "      <td>0</td>\n",
              "      <td>0</td>\n",
              "      <td>2</td>\n",
              "      <td>0</td>\n",
              "      <td>0</td>\n",
              "    </tr>\n",
              "    <tr>\n",
              "      <th>U1005</th>\n",
              "      <td>0</td>\n",
              "      <td>0</td>\n",
              "      <td>0</td>\n",
              "      <td>0</td>\n",
              "      <td>0</td>\n",
              "      <td>2</td>\n",
              "      <td>0</td>\n",
              "      <td>0</td>\n",
              "      <td>0</td>\n",
              "      <td>0</td>\n",
              "      <td>...</td>\n",
              "      <td>0</td>\n",
              "      <td>0</td>\n",
              "      <td>0</td>\n",
              "      <td>0</td>\n",
              "      <td>0</td>\n",
              "      <td>0</td>\n",
              "      <td>0</td>\n",
              "      <td>0</td>\n",
              "      <td>0</td>\n",
              "      <td>0</td>\n",
              "    </tr>\n",
              "    <tr>\n",
              "      <th>U1006</th>\n",
              "      <td>0</td>\n",
              "      <td>0</td>\n",
              "      <td>0</td>\n",
              "      <td>1</td>\n",
              "      <td>0</td>\n",
              "      <td>0</td>\n",
              "      <td>0</td>\n",
              "      <td>0</td>\n",
              "      <td>0</td>\n",
              "      <td>0</td>\n",
              "      <td>...</td>\n",
              "      <td>1</td>\n",
              "      <td>0</td>\n",
              "      <td>2</td>\n",
              "      <td>0</td>\n",
              "      <td>0</td>\n",
              "      <td>0</td>\n",
              "      <td>0</td>\n",
              "      <td>0</td>\n",
              "      <td>0</td>\n",
              "      <td>0</td>\n",
              "    </tr>\n",
              "    <tr>\n",
              "      <th>U1007</th>\n",
              "      <td>0</td>\n",
              "      <td>0</td>\n",
              "      <td>0</td>\n",
              "      <td>1</td>\n",
              "      <td>0</td>\n",
              "      <td>0</td>\n",
              "      <td>0</td>\n",
              "      <td>0</td>\n",
              "      <td>0</td>\n",
              "      <td>0</td>\n",
              "      <td>...</td>\n",
              "      <td>0</td>\n",
              "      <td>0</td>\n",
              "      <td>0</td>\n",
              "      <td>0</td>\n",
              "      <td>0</td>\n",
              "      <td>0</td>\n",
              "      <td>0</td>\n",
              "      <td>0</td>\n",
              "      <td>0</td>\n",
              "      <td>0</td>\n",
              "    </tr>\n",
              "    <tr>\n",
              "      <th>U1008</th>\n",
              "      <td>1</td>\n",
              "      <td>0</td>\n",
              "      <td>0</td>\n",
              "      <td>0</td>\n",
              "      <td>0</td>\n",
              "      <td>0</td>\n",
              "      <td>0</td>\n",
              "      <td>0</td>\n",
              "      <td>0</td>\n",
              "      <td>0</td>\n",
              "      <td>...</td>\n",
              "      <td>0</td>\n",
              "      <td>0</td>\n",
              "      <td>0</td>\n",
              "      <td>0</td>\n",
              "      <td>0</td>\n",
              "      <td>0</td>\n",
              "      <td>0</td>\n",
              "      <td>0</td>\n",
              "      <td>0</td>\n",
              "      <td>0</td>\n",
              "    </tr>\n",
              "    <tr>\n",
              "      <th>U1009</th>\n",
              "      <td>0</td>\n",
              "      <td>0</td>\n",
              "      <td>1</td>\n",
              "      <td>0</td>\n",
              "      <td>0</td>\n",
              "      <td>0</td>\n",
              "      <td>0</td>\n",
              "      <td>0</td>\n",
              "      <td>0</td>\n",
              "      <td>0</td>\n",
              "      <td>...</td>\n",
              "      <td>0</td>\n",
              "      <td>0</td>\n",
              "      <td>0</td>\n",
              "      <td>0</td>\n",
              "      <td>0</td>\n",
              "      <td>0</td>\n",
              "      <td>0</td>\n",
              "      <td>0</td>\n",
              "      <td>0</td>\n",
              "      <td>0</td>\n",
              "    </tr>\n",
              "    <tr>\n",
              "      <th>U1010</th>\n",
              "      <td>0</td>\n",
              "      <td>0</td>\n",
              "      <td>0</td>\n",
              "      <td>0</td>\n",
              "      <td>0</td>\n",
              "      <td>0</td>\n",
              "      <td>0</td>\n",
              "      <td>0</td>\n",
              "      <td>0</td>\n",
              "      <td>0</td>\n",
              "      <td>...</td>\n",
              "      <td>0</td>\n",
              "      <td>0</td>\n",
              "      <td>0</td>\n",
              "      <td>0</td>\n",
              "      <td>0</td>\n",
              "      <td>0</td>\n",
              "      <td>0</td>\n",
              "      <td>0</td>\n",
              "      <td>0</td>\n",
              "      <td>0</td>\n",
              "    </tr>\n",
              "  </tbody>\n",
              "</table>\n",
              "<p>10 rows × 129 columns</p>\n",
              "</div>\n",
              "      <button class=\"colab-df-convert\" onclick=\"convertToInteractive('df-8eaba5a7-73c8-4f93-895b-fcb5c9afdef0')\"\n",
              "              title=\"Convert this dataframe to an interactive table.\"\n",
              "              style=\"display:none;\">\n",
              "        \n",
              "  <svg xmlns=\"http://www.w3.org/2000/svg\" height=\"24px\"viewBox=\"0 0 24 24\"\n",
              "       width=\"24px\">\n",
              "    <path d=\"M0 0h24v24H0V0z\" fill=\"none\"/>\n",
              "    <path d=\"M18.56 5.44l.94 2.06.94-2.06 2.06-.94-2.06-.94-.94-2.06-.94 2.06-2.06.94zm-11 1L8.5 8.5l.94-2.06 2.06-.94-2.06-.94L8.5 2.5l-.94 2.06-2.06.94zm10 10l.94 2.06.94-2.06 2.06-.94-2.06-.94-.94-2.06-.94 2.06-2.06.94z\"/><path d=\"M17.41 7.96l-1.37-1.37c-.4-.4-.92-.59-1.43-.59-.52 0-1.04.2-1.43.59L10.3 9.45l-7.72 7.72c-.78.78-.78 2.05 0 2.83L4 21.41c.39.39.9.59 1.41.59.51 0 1.02-.2 1.41-.59l7.78-7.78 2.81-2.81c.8-.78.8-2.07 0-2.86zM5.41 20L4 18.59l7.72-7.72 1.47 1.35L5.41 20z\"/>\n",
              "  </svg>\n",
              "      </button>\n",
              "      \n",
              "  <style>\n",
              "    .colab-df-container {\n",
              "      display:flex;\n",
              "      flex-wrap:wrap;\n",
              "      gap: 12px;\n",
              "    }\n",
              "\n",
              "    .colab-df-convert {\n",
              "      background-color: #E8F0FE;\n",
              "      border: none;\n",
              "      border-radius: 50%;\n",
              "      cursor: pointer;\n",
              "      display: none;\n",
              "      fill: #1967D2;\n",
              "      height: 32px;\n",
              "      padding: 0 0 0 0;\n",
              "      width: 32px;\n",
              "    }\n",
              "\n",
              "    .colab-df-convert:hover {\n",
              "      background-color: #E2EBFA;\n",
              "      box-shadow: 0px 1px 2px rgba(60, 64, 67, 0.3), 0px 1px 3px 1px rgba(60, 64, 67, 0.15);\n",
              "      fill: #174EA6;\n",
              "    }\n",
              "\n",
              "    [theme=dark] .colab-df-convert {\n",
              "      background-color: #3B4455;\n",
              "      fill: #D2E3FC;\n",
              "    }\n",
              "\n",
              "    [theme=dark] .colab-df-convert:hover {\n",
              "      background-color: #434B5C;\n",
              "      box-shadow: 0px 1px 3px 1px rgba(0, 0, 0, 0.15);\n",
              "      filter: drop-shadow(0px 1px 2px rgba(0, 0, 0, 0.3));\n",
              "      fill: #FFFFFF;\n",
              "    }\n",
              "  </style>\n",
              "\n",
              "      <script>\n",
              "        const buttonEl =\n",
              "          document.querySelector('#df-8eaba5a7-73c8-4f93-895b-fcb5c9afdef0 button.colab-df-convert');\n",
              "        buttonEl.style.display =\n",
              "          google.colab.kernel.accessAllowed ? 'block' : 'none';\n",
              "\n",
              "        async function convertToInteractive(key) {\n",
              "          const element = document.querySelector('#df-8eaba5a7-73c8-4f93-895b-fcb5c9afdef0');\n",
              "          const dataTable =\n",
              "            await google.colab.kernel.invokeFunction('convertToInteractive',\n",
              "                                                     [key], {});\n",
              "          if (!dataTable) return;\n",
              "\n",
              "          const docLinkHtml = 'Like what you see? Visit the ' +\n",
              "            '<a target=\"_blank\" href=https://colab.research.google.com/notebooks/data_table.ipynb>data table notebook</a>'\n",
              "            + ' to learn more about interactive tables.';\n",
              "          element.innerHTML = '';\n",
              "          dataTable['output_type'] = 'display_data';\n",
              "          await google.colab.output.renderOutput(dataTable, element);\n",
              "          const docLink = document.createElement('div');\n",
              "          docLink.innerHTML = docLinkHtml;\n",
              "          element.appendChild(docLink);\n",
              "        }\n",
              "      </script>\n",
              "    </div>\n",
              "  </div>\n",
              "  "
            ]
          },
          "metadata": {},
          "execution_count": 52
        }
      ],
      "source": [
        "#Generamos la matriz de utilidad mediante el campo UserID, rellando la falta de valores con 0\n",
        "UtMx = tabla_relacionalEstudio3.pivot_table(values='service_rating', index='userID', columns='name', fill_value=0)\n",
        "\n",
        "UtMx.head(10)"
      ],
      "metadata": {
        "id": "rUEaAMf-eSwN",
        "outputId": "71d898e5-4862-488e-f8b4-f349f84c3e40",
        "colab": {
          "base_uri": "https://localhost:8080/",
          "height": 557
        }
      }
    },
    {
      "cell_type": "code",
      "execution_count": 53,
      "outputs": [
        {
          "output_type": "execute_result",
          "data": {
            "text/plain": [
              "(138, 129)"
            ]
          },
          "metadata": {},
          "execution_count": 53
        }
      ],
      "source": [
        "UtMx.shape"
      ],
      "metadata": {
        "id": "_XHxO8CBeSwN",
        "outputId": "0a9fc6fc-1586-4564-c44e-afbe8b928d22",
        "colab": {
          "base_uri": "https://localhost:8080/"
        }
      }
    },
    {
      "cell_type": "code",
      "execution_count": 54,
      "outputs": [
        {
          "output_type": "stream",
          "name": "stdout",
          "text": [
            "Total de elementos de la matriz de utilidad: 17802\n",
            "Total de elementos diferentes de cero: 846\n",
            "Porcentaje de elementos diferentes de cero: 4.8%\n"
          ]
        }
      ],
      "source": [
        "print('Total de elementos de la matriz de utilidad: %d' % (UtMx.size))\n",
        "print('Total de elementos diferentes de cero: %d' % (np.count_nonzero(UtMx)))\n",
        "print('Porcentaje de elementos diferentes de cero: %.1f%%' % (100 * np.count_nonzero(UtMx) / UtMx.size))"
      ],
      "metadata": {
        "id": "zJVMXobqeSwN",
        "outputId": "bd97d078-370f-443d-ffa7-e4c06f6601ae",
        "colab": {
          "base_uri": "https://localhost:8080/"
        }
      }
    },
    {
      "cell_type": "code",
      "execution_count": 56,
      "outputs": [
        {
          "output_type": "execute_result",
          "data": {
            "text/plain": [
              "(129, 138)"
            ]
          },
          "metadata": {},
          "execution_count": 56
        }
      ],
      "source": [
        "X = UtMx.T     # Tomamos la traspuesta para que los renglones sean los restaurantes y las columnas los usuarios.\n",
        "X.shape"
      ],
      "metadata": {
        "id": "1PA4pnmxeSwN",
        "outputId": "dc9ad667-75bb-4294-e2de-2aa1c48beba1",
        "colab": {
          "base_uri": "https://localhost:8080/"
        }
      }
    },
    {
      "cell_type": "code",
      "execution_count": 57,
      "outputs": [
        {
          "output_type": "stream",
          "name": "stdout",
          "text": [
            "Cantidad de información simplificada con los primeros 10 vectores singulares:\n",
            "75.6%\n"
          ]
        }
      ],
      "source": [
        "# Obtengamos la cantidad de información contenida en la factorización SVD, considerando\n",
        "# los valores singulares más representativos de dicha factorización.\n",
        "# Para este caso inicial usaremos todos los vectores singulares, para luego\n",
        "# compararlo con el caso al reducir su dimensión.\n",
        "\n",
        " # El número de componentes debe ser menor que el número de características (features/usuarios), que son 138:\n",
        "SVD = TruncatedSVD(n_components=137, random_state=1)\n",
        "SVD.fit(X)\n",
        "\n",
        "num_sv =10 # En particular los 10 primeros vectores y valores singulares de mayor magnitud tienen esta cantidad de información.\n",
        "\n",
        "print('Cantidad de información simplificada con los primeros %d vectores singulares:' % num_sv)\n",
        "print('%.1f%%' %  (100 * (1- (SVD.singular_values_[0:num_sv]).sum() / (SVD.singular_values_).sum())))"
      ],
      "metadata": {
        "id": "GkfZvcYieSwN",
        "outputId": "22857a72-7216-4d33-80dc-18a9b2237b08",
        "colab": {
          "base_uri": "https://localhost:8080/"
        }
      }
    },
    {
      "cell_type": "code",
      "execution_count": 58,
      "outputs": [
        {
          "output_type": "execute_result",
          "data": {
            "text/plain": [
              "(129, 129)"
            ]
          },
          "metadata": {},
          "execution_count": 58
        }
      ],
      "source": [
        "num_sv = 137\n",
        "\n",
        "SVD = TruncatedSVD(n_components=num_sv, random_state=1)\n",
        "\n",
        "resultant_matrix = SVD.fit_transform(X)\n",
        "resultant_matrix.shape"
      ],
      "metadata": {
        "id": "BjBa4DWeeSwO",
        "outputId": "cbf07922-5196-4e68-8661-66852c827589",
        "colab": {
          "base_uri": "https://localhost:8080/"
        }
      }
    },
    {
      "cell_type": "code",
      "execution_count": 59,
      "outputs": [
        {
          "output_type": "execute_result",
          "data": {
            "text/plain": [
              "(129, 129)"
            ]
          },
          "metadata": {},
          "execution_count": 59
        }
      ],
      "source": [
        "corrMx = np.corrcoef(resultant_matrix, )\n",
        "corrMx.shape"
      ],
      "metadata": {
        "id": "GjDr_xbDeSwO",
        "outputId": "05c1ff79-9d2c-4f24-e1a1-dea14307d225",
        "colab": {
          "base_uri": "https://localhost:8080/"
        }
      }
    },
    {
      "cell_type": "markdown",
      "source": [
        "### Ejercicio 7.3"
      ],
      "metadata": {
        "collapsed": false,
        "id": "oWgPZWqgeSwO"
      }
    },
    {
      "cell_type": "code",
      "execution_count": 62,
      "outputs": [
        {
          "output_type": "execute_result",
          "data": {
            "text/plain": [
              "88"
            ]
          },
          "metadata": {},
          "execution_count": 62
        }
      ],
      "source": [
        "#Tomamos el restaurante \"subway\" para valorar la correlación de este en cuanto al servicio con los demas establecimientos\n",
        "me_gusta = \"Subway\"\n",
        "\n",
        "names = UtMx.columns\n",
        "names_list = list(names)\n",
        "id_megusta = names_list.index(me_gusta)\n",
        "\n",
        "id_megusta"
      ],
      "metadata": {
        "id": "s1X01l3peSwO",
        "outputId": "761898f7-dc92-4db1-cded-18e6d9fab1b0",
        "colab": {
          "base_uri": "https://localhost:8080/"
        }
      }
    },
    {
      "cell_type": "code",
      "execution_count": 63,
      "outputs": [
        {
          "output_type": "stream",
          "name": "stdout",
          "text": [
            "(129,)\n",
            "[-2.91095724e-04 -3.60361693e-03  4.17542463e-03  5.49600644e-03\n",
            "  8.22025821e-03  9.26584331e-04 -1.84324856e-04  2.08477911e-02\n",
            "  4.16661248e-04  5.49213204e-03 -9.83321202e-03  2.30697829e-01\n",
            " -7.71002964e-04 -7.78964069e-03  4.28478573e-03 -1.96660815e-03\n",
            "  6.46627016e-03  1.22858323e-02  5.23591750e-03 -3.37285475e-03\n",
            "  4.22033518e-03  1.92759594e-01  3.25932626e-03  1.31225788e-02\n",
            "  1.02856131e-02  1.08386707e-02 -2.32136875e-03  9.93522146e-03\n",
            " -8.13035667e-03  1.78740094e-01  1.27492522e-03  4.01749269e-03\n",
            "  9.93395882e-03  1.06861306e-02  1.08193009e-02  6.49374214e-03\n",
            "  2.57816306e-03  1.10159929e-02  1.62133585e-02  9.40455020e-03\n",
            "  1.04115070e-02  1.39761855e-01  4.95429442e-03  1.01065382e-02\n",
            "  7.45513647e-03  1.62758051e-02  3.65933684e-01 -4.53806898e-03\n",
            "  1.94095851e-03  6.28735982e-03  7.08759527e-03  4.35778543e-03\n",
            "  7.61149284e-03  6.86889327e-03  1.82869479e-01  2.26266242e-01\n",
            "  8.41417946e-03 -1.38744406e-02  7.72973139e-01  2.58304203e-04\n",
            "  6.00160625e-01  1.00855481e-02 -8.87397356e-03  5.37102617e-03\n",
            "  9.70530131e-03  7.08173024e-03  8.06957518e-03 -5.45053917e-03\n",
            "  1.25456353e-02  8.27983430e-03  1.25915854e-03  9.13235634e-03\n",
            " -4.90925954e-03 -1.55909907e-03  2.56719712e-04 -6.13210589e-04\n",
            "  2.33141129e-03 -2.84236088e-03  1.34229000e-02  8.54134908e-03\n",
            " -1.95914298e-03 -5.67817255e-03 -1.88379679e-03 -4.53066053e-03\n",
            "  6.90749795e-03  5.18731471e-01  1.27712441e-01  7.79875544e-03\n",
            "  1.00000000e+00  4.34972686e-03  8.04472608e-03  6.45175638e-03\n",
            "  1.22023121e-03 -4.61635454e-03  6.39825008e-03 -3.57085063e-05\n",
            "  1.83854290e-02  4.21199865e-01  1.79626257e-02  1.24610098e-03\n",
            "  1.08222404e-03  4.99735712e-03 -2.30140973e-03  1.04895738e-02\n",
            "  1.77207012e-02  2.00752244e-03  5.47674807e-03  6.21699772e-03\n",
            "  5.79785841e-03  7.94287249e-03 -3.95650667e-03  8.62442429e-04\n",
            "  7.08373006e-03  1.23364795e-02  2.16018684e-04  5.50503399e-03\n",
            "  8.88686634e-03 -2.03244541e-03 -3.76225432e-03 -1.21854452e-03\n",
            "  8.12542032e-03  1.30362979e-02  7.65454017e-03  3.31990513e-03\n",
            "  6.15048940e-03  8.03179308e-03  9.69117004e-03 -1.69077232e-03\n",
            "  6.83466681e-03]\n"
          ]
        }
      ],
      "source": [
        "corr_recomienda = corrMx[id_megusta]\n",
        "print(corr_recomienda.shape)\n",
        "print(corr_recomienda)"
      ],
      "metadata": {
        "id": "GmOyLT24eSwO",
        "outputId": "d2c7e879-e7d2-452d-900f-a8fdeebad857",
        "colab": {
          "base_uri": "https://localhost:8080/"
        }
      }
    },
    {
      "cell_type": "code",
      "execution_count": 65,
      "outputs": [
        {
          "output_type": "execute_result",
          "data": {
            "text/plain": [
              "1.0"
            ]
          },
          "metadata": {},
          "execution_count": 65
        }
      ],
      "source": [
        "#Obtenemos el valor de la correlación del propio establecmiento para tener en cuenta el valor y no incluirlo en los mejores 10\n",
        "corr_recomienda[id_megusta]"
      ],
      "metadata": {
        "id": "cRe-ytTReSwP",
        "outputId": "3d771a5d-2d2d-4626-fedf-7468b3eb3301",
        "colab": {
          "base_uri": "https://localhost:8080/"
        }
      }
    },
    {
      "cell_type": "code",
      "execution_count": 66,
      "outputs": [
        {
          "output_type": "stream",
          "name": "stdout",
          "text": [
            "Mejores 10 de acuerdo a correlación con restaurante \"Subway\" de acuerdo a la valoración del servicio\n",
            "\n",
            "Restaurante Chilis Cuernavaca  | valor correlación:  0.23\n",
            "Restaurante Giovannis  | valor correlación:  0.19\n",
            "Restaurante Kiku Cuernavaca  | valor correlación:  0.18\n",
            "Restaurante Paniroles  | valor correlación:  0.37\n",
            "Restaurante Restaurant Familiar El Chino  | valor correlación:  0.18\n",
            "Restaurante Restaurant Las Mananitas  | valor correlación:  0.23\n",
            "Restaurante Restaurant Teely  | valor correlación:  0.77\n",
            "Restaurante Restaurant and Bar and Clothesline Carlos N Charlies  | valor correlación:  0.6\n",
            "Restaurante Rincon del Bife  | valor correlación:  0.52\n",
            "Restaurante Vips  | valor correlación:  0.42\n"
          ]
        }
      ],
      "source": [
        "print('Mejores 10 de acuerdo a correlación con restaurante \"Subway\" de acuerdo a la valoración del servicio\\n')\n",
        "mejores10=list(names[(corr_recomienda > .15) & (corr_recomienda < 0.999999)])\n",
        "for pos in mejores10:\n",
        " id_otra = names_list.index(pos)\n",
        " print('Restaurante',pos, ' | valor correlación: ', round(corr_recomienda[id_otra],2))"
      ],
      "metadata": {
        "id": "nVuRgWrueSwQ",
        "outputId": "16e9e852-0ff6-43be-edc5-637b8e5e9071",
        "colab": {
          "base_uri": "https://localhost:8080/"
        }
      }
    },
    {
      "cell_type": "markdown",
      "source": [
        "\n",
        "### Ejercicio 7.4"
      ],
      "metadata": {
        "collapsed": false,
        "id": "Mp7mL4xdeSwR"
      }
    },
    {
      "cell_type": "code",
      "execution_count": 67,
      "outputs": [
        {
          "output_type": "stream",
          "name": "stdout",
          "text": [
            "Restaurante Chilis Cuernavaca  | valor correlación:  0.23\n",
            "Restaurante Giovannis  | valor correlación:  0.19\n",
            "Restaurante Kiku Cuernavaca  | valor correlación:  0.18\n",
            "Restaurante Paniroles  | valor correlación:  0.37\n",
            "Restaurante Restaurant Familiar El Chino  | valor correlación:  0.18\n",
            "Restaurante Restaurant Las Mananitas  | valor correlación:  0.23\n",
            "Restaurante Restaurant Teely  | valor correlación:  0.77\n",
            "Restaurante Restaurant and Bar and Clothesline Carlos N Charlies  | valor correlación:  0.6\n",
            "Restaurante Rincon del Bife  | valor correlación:  0.52\n",
            "Restaurante Vips  | valor correlación:  0.42\n"
          ]
        }
      ],
      "source": [
        "num_sv = 10\n",
        "\n",
        "SVD = TruncatedSVD(n_components=num_sv, random_state=1)\n",
        "\n",
        "resultant_matrix = SVD.fit_transform(X)\n",
        "resultant_matrix.shape\n",
        "\n",
        "me_gusta = \"Subway\"\n",
        "names = UtMx.columns\n",
        "names_list = list(names)\n",
        "id_megusta = names_list.index(me_gusta)\n",
        "\n",
        "id_megusta\n",
        "corr_recomienda[id_megusta]\n",
        "Best10=list(names[(corr_recomienda > .15) & (corr_recomienda < .999999)])\n",
        "for pos in Best10:\n",
        " id_otra = names_list.index(pos)\n",
        " print('Restaurante',pos, ' | valor correlación: ', round(corr_recomienda[id_otra],2))"
      ],
      "metadata": {
        "id": "woYXBkM_eSwR",
        "outputId": "621ea6f3-4a0c-488f-84f3-497f64761efc",
        "colab": {
          "base_uri": "https://localhost:8080/"
        }
      }
    },
    {
      "cell_type": "code",
      "execution_count": 68,
      "outputs": [
        {
          "output_type": "stream",
          "name": "stdout",
          "text": [
            "Numero de Recomandaciones iguales: 10\n"
          ]
        }
      ],
      "source": [
        "print(\"Numero de Recomandaciones iguales:\",len(set(mejores10).intersection(Best10)))"
      ],
      "metadata": {
        "id": "xi6B0fteeSwR",
        "outputId": "cb7aa12c-33dc-475f-d2a5-b495fb00c004",
        "colab": {
          "base_uri": "https://localhost:8080/"
        }
      }
    },
    {
      "cell_type": "markdown",
      "source": [],
      "metadata": {
        "collapsed": false,
        "id": "mt_XXR4TeSwR"
      }
    },
    {
      "cell_type": "markdown",
      "source": [
        "### Conclusiones"
      ],
      "metadata": {
        "collapsed": false,
        "id": "yKdcpOceeSwR"
      }
    },
    {
      "cell_type": "code",
      "execution_count": null,
      "outputs": [],
      "source": [],
      "metadata": {
        "id": "uqxbIdpZeSwR"
      }
    }
  ],
  "metadata": {
    "kernelspec": {
      "display_name": "Python 3",
      "language": "python",
      "name": "python3"
    },
    "language_info": {
      "codemirror_mode": {
        "name": "ipython",
        "version": 2
      },
      "file_extension": ".py",
      "mimetype": "text/x-python",
      "name": "python",
      "nbconvert_exporter": "python",
      "pygments_lexer": "ipython2",
      "version": "2.7.6"
    },
    "colab": {
      "provenance": [],
      "include_colab_link": true
    }
  },
  "nbformat": 4,
  "nbformat_minor": 0
}