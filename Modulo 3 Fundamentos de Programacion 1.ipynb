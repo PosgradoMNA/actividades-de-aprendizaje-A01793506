{
  "nbformat": 4,
  "nbformat_minor": 0,
  "metadata": {
    "colab": {
      "name": "assignment01.ipynb",
      "provenance": [],
      "include_colab_link": true
    },
    "kernelspec": {
      "name": "python3",
      "display_name": "Python 3"
    },
    "language_info": {
      "name": "python"
    }
  },
  "cells": [
    {
      "cell_type": "markdown",
      "metadata": {
        "id": "view-in-github",
        "colab_type": "text"
      },
      "source": [
        "<a href=\"https://colab.research.google.com/github/PosgradoMNA/actividades-de-aprendizaje-A01793506/blob/main/Modulo%203%20Fundamentos%20de%20Programacion%201.ipynb\" target=\"_parent\"><img src=\"https://colab.research.google.com/assets/colab-badge.svg\" alt=\"Open In Colab\"/></a>"
      ]
    },
    {
      "cell_type": "code",
      "execution_count": null,
      "metadata": {
        "id": "LzUSMM79NR9P"
      },
      "outputs": [],
      "source": [
        "#Python for data science\n",
        "#Erick Najera Olivero\n",
        "\n",
        "#Modulo 3 Programming Fundamentals\n",
        "\n",
        "#Conditions and Branching\n",
        "\n",
        "#Operadores de comparacion\n",
        "\n",
        "a=12\n",
        "a==8   # == para preguntar por valores iguales\n",
        "a>2    # >< comparar mayor menor que\n",
        "a!=3   # != operando para 'no igual'\n",
        "\n",
        "\n",
        "#Branching o condicionales\n",
        "\n",
        "#sentencias if, else, elif\n",
        "\n",
        "if(a>10):\n",
        "  print('Si es mayor que 10')\n",
        "elif(a==9):\n",
        "  print('Es igual a 9')\n",
        "else:\n",
        "  print('No es mayor que 10')\n",
        "print('Continua...') \n",
        "\n",
        "\n",
        "#Opeadores logicos\n",
        "#not, or, and\n",
        "\n",
        "if(a>10) or (a==10):\n",
        "  print('mayor o igual a 10')\n",
        "\n",
        "if(a>10) and (a<15):\n",
        "  print('mayor que 10 menor a 15')  \n"
      ]
    },
    {
      "cell_type": "code",
      "source": [
        "#Select the values of i that produces a True for the following:\n",
        "i=-100000000000\n",
        "i!=0\n",
        "\n",
        "#What is the output of the following:\n",
        "x='a'\n",
        "if(x!='a'):\n",
        "  print(\"This is not a.\")\n",
        "else:\n",
        "  print(\"This is a.\")"
      ],
      "metadata": {
        "id": "mxM_WppZPMFx"
      },
      "execution_count": null,
      "outputs": []
    },
    {
      "cell_type": "code",
      "source": [
        "#loops o Bucles\n",
        "#uso de ranges para establecer valor inicial y final del bucle\n",
        "cuadros=['red','yellow','green','blue']\n",
        "for i in range(0,4):\n",
        "  cuadros[i]='white'\n",
        "\n",
        "print(cuadros)  \n",
        "\n",
        "#iterand directamente la lista\n",
        "for cuadro in cuadros:\n",
        "  print(cuadro)\n",
        "\n",
        "#enumerando los valores de lista\n",
        "for i,cuadro in enumerate(cuadros):\n",
        "  print('Indice: '+ str(i) + ' Valor: ' + cuadro)  \n",
        "\n",
        "  #usando while loop\n",
        "cuadros=['red','red','blue','green']\n",
        "cuadros_1 =[]\n",
        "i=0\n",
        "while(cuadros[i]=='red'): \n",
        "  cuadros_1.append(cuadros[i])\n",
        "  i=1+1\n",
        "\n",
        "print(i)  \n"
      ],
      "metadata": {
        "id": "a3CGcoBmxBxp"
      },
      "execution_count": null,
      "outputs": []
    },
    {
      "cell_type": "code",
      "source": [
        "#What is the output of the following lines of code:\n",
        "A=[3,4,5]\n",
        "\n",
        "for a in A:\n",
        "  print(a)\n",
        "\n",
        "#What is the output of the following lines of code:\n",
        "\n",
        "x=3\n",
        "y=1\n",
        "while(y!=x):\n",
        "  print(y)\n",
        "  y=y+1  "
      ],
      "metadata": {
        "id": "Hi8jL8X91dXW"
      },
      "execution_count": null,
      "outputs": []
    }
  ]
}