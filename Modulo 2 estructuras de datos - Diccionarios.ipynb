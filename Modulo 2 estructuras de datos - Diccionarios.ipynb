{
  "nbformat": 4,
  "nbformat_minor": 0,
  "metadata": {
    "colab": {
      "name": "assignment01.ipynb",
      "provenance": [],
      "include_colab_link": true
    },
    "kernelspec": {
      "name": "python3",
      "display_name": "Python 3"
    },
    "language_info": {
      "name": "python"
    }
  },
  "cells": [
    {
      "cell_type": "markdown",
      "metadata": {
        "id": "view-in-github",
        "colab_type": "text"
      },
      "source": [
        "<a href=\"https://colab.research.google.com/github/PosgradoMNA/actividades-de-aprendizaje-A01793506/blob/main/Modulo%202%20estructuras%20de%20datos%20-%20Diccionarios.ipynb\" target=\"_parent\"><img src=\"https://colab.research.google.com/assets/colab-badge.svg\" alt=\"Open In Colab\"/></a>"
      ]
    },
    {
      "cell_type": "code",
      "execution_count": null,
      "metadata": {
        "id": "LzUSMM79NR9P"
      },
      "outputs": [],
      "source": [
        "#Curso IBM Phyton for Data science\n",
        "#Erick Najera Olivero\n",
        "\n",
        "# Modulo 2  Estructuras de datos - Diccionario\n",
        "\n",
        "#Definicion de diccionario\n",
        "Dic_1 = {'k1':1, 'k2':'erick', 'k3':'A', 'k4':50}\n",
        "print(Dic_1)\n",
        "\n",
        "#Acceder a valor por medio de la llave\n",
        "print(Dic_1['k1'])\n",
        "print(Dic_1['k2'])\n",
        "\n",
        "#Agregando un nuevo elemento al diccionario\n",
        "Dic_1['k5']='NE'\n",
        "print(Dic_1)\n",
        "\n",
        "#Borrar un elemento del diccionario\n",
        "del(Dic_1['k5'])\n",
        "print(Dic_1)\n",
        "\n",
        "#Verificar si un elemento esta en el diccionario\n",
        "'k3' in Dic_1\n",
        "'k5' in Dic_1\n",
        "\n",
        "#listar las llaves de un diccionario\n",
        "Dic_1.keys()\n",
        "\n",
        "#Dictar lo valores de un diccionario\n",
        "Dic_1.values()"
      ]
    },
    {
      "cell_type": "code",
      "source": [
        " #QUESTION 1\n",
        "#Consider the following dictionary:\n",
        "\n",
        "D = {'a':0,'b':1,'c':2} \n",
        "D.values()\n",
        "\n",
        "#Consider the following dictionary:\n",
        "D = {'a':0,'b':1,'c':2}\n",
        "\n",
        "#What is the output of the following D['b']?\n",
        "D['b']"
      ],
      "metadata": {
        "id": "mxM_WppZPMFx"
      },
      "execution_count": null,
      "outputs": []
    },
    {
      "cell_type": "code",
      "source": [
        "#What is the syntax used to obtain the first element of the tuple:\n",
        "\n",
        "A = ('a','b','c')\n",
        "A[0]\n",
        "\n",
        "#After applying the following method, L.append(['a','b']), the following list will only be one element longer.\n",
        "L=['a']\n",
        "L.append(['a','b'])\n",
        "\n",
        "print(L)\n",
        "\n",
        "Dict={\"A\":1,\"B\":\"2\",\"C\":[3,3,3],\"D\":(4,4,4),'E':5,'F':6}\n",
        "Dict[\"D\"]\n"
      ],
      "metadata": {
        "id": "ZLdS13I0cWyL",
        "outputId": "494bd7ab-ad46-485d-9478-90f67ab772d9",
        "colab": {
          "base_uri": "https://localhost:8080/"
        }
      },
      "execution_count": 24,
      "outputs": [
        {
          "output_type": "stream",
          "name": "stdout",
          "text": [
            "['a', ['a', 'b']]\n"
          ]
        },
        {
          "output_type": "execute_result",
          "data": {
            "text/plain": [
              "(4, 4, 4)"
            ]
          },
          "metadata": {},
          "execution_count": 24
        }
      ]
    }
  ]
}